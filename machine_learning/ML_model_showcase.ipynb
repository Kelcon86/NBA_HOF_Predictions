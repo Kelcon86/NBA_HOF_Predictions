{
 "cells": [
  {
   "cell_type": "markdown",
   "id": "0ced7b50",
   "metadata": {},
   "source": [
    "# Machine Learning Models Showcase"
   ]
  },
  {
   "cell_type": "markdown",
   "id": "8e6b918b",
   "metadata": {},
   "source": [
    "### Load data from database"
   ]
  },
  {
   "cell_type": "code",
   "execution_count": 1,
   "id": "21721210",
   "metadata": {},
   "outputs": [],
   "source": [
    "# imports\n",
    "import pandas as pd\n",
    "import sklearn as skl\n",
    "import psycopg2\n",
    "import config as c\n",
    "\n",
    "# import for multiple output per cell\n",
    "from IPython.core.interactiveshell import InteractiveShell\n",
    "InteractiveShell.ast_node_interactivity = \"all\""
   ]
  },
  {
   "cell_type": "code",
   "execution_count": 2,
   "id": "48228734",
   "metadata": {},
   "outputs": [],
   "source": [
    "# connection to database\n",
    "connection = psycopg2.connect(\n",
    "    host = c.host,\n",
    "    port = c.port,\n",
    "    user = c.user,\n",
    "    password = c.password,\n",
    "    database = c.database\n",
    "    )\n",
    "cursor=connection.cursor()"
   ]
  },
  {
   "cell_type": "code",
   "execution_count": 146,
   "id": "98e957af",
   "metadata": {},
   "outputs": [
    {
     "data": {
      "text/html": [
       "<div>\n",
       "<style scoped>\n",
       "    .dataframe tbody tr th:only-of-type {\n",
       "        vertical-align: middle;\n",
       "    }\n",
       "\n",
       "    .dataframe tbody tr th {\n",
       "        vertical-align: top;\n",
       "    }\n",
       "\n",
       "    .dataframe thead th {\n",
       "        text-align: right;\n",
       "    }\n",
       "</style>\n",
       "<table border=\"1\" class=\"dataframe\">\n",
       "  <thead>\n",
       "    <tr style=\"text-align: right;\">\n",
       "      <th></th>\n",
       "      <th>GUID</th>\n",
       "      <th>Name</th>\n",
       "      <th>HallOfFameStatus</th>\n",
       "      <th>HallofFameClass</th>\n",
       "      <th>YearDrafted</th>\n",
       "      <th>TO_YEAR</th>\n",
       "      <th>Years_Played</th>\n",
       "      <th>HOF_Elgibility_Year</th>\n",
       "      <th>Pick</th>\n",
       "      <th>Team</th>\n",
       "      <th>...</th>\n",
       "      <th>FTA</th>\n",
       "      <th>FT%</th>\n",
       "      <th>OREB</th>\n",
       "      <th>DREB</th>\n",
       "      <th>REB</th>\n",
       "      <th>AST</th>\n",
       "      <th>STL</th>\n",
       "      <th>BLK</th>\n",
       "      <th>TOV</th>\n",
       "      <th>EFF</th>\n",
       "    </tr>\n",
       "  </thead>\n",
       "  <tbody>\n",
       "    <tr>\n",
       "      <th>0</th>\n",
       "      <td>MIKENILES1980</td>\n",
       "      <td>Mike Niles</td>\n",
       "      <td>Not Inducted</td>\n",
       "      <td>NaN</td>\n",
       "      <td>1980</td>\n",
       "      <td>1980</td>\n",
       "      <td>1</td>\n",
       "      <td>1985</td>\n",
       "      <td>NaN</td>\n",
       "      <td>None</td>\n",
       "      <td>...</td>\n",
       "      <td>0.8</td>\n",
       "      <td>45.9</td>\n",
       "      <td>0.6</td>\n",
       "      <td>0.7</td>\n",
       "      <td>1.3</td>\n",
       "      <td>0.3</td>\n",
       "      <td>0.2</td>\n",
       "      <td>0.0</td>\n",
       "      <td>0.6</td>\n",
       "      <td>1.4</td>\n",
       "    </tr>\n",
       "    <tr>\n",
       "      <th>1</th>\n",
       "      <td>WAYNEROBINSON1980</td>\n",
       "      <td>Wayne Robinson</td>\n",
       "      <td>Not Inducted</td>\n",
       "      <td>NaN</td>\n",
       "      <td>1980</td>\n",
       "      <td>1980</td>\n",
       "      <td>1</td>\n",
       "      <td>1985</td>\n",
       "      <td>31.0</td>\n",
       "      <td>LAL</td>\n",
       "      <td>...</td>\n",
       "      <td>3.0</td>\n",
       "      <td>72.9</td>\n",
       "      <td>1.4</td>\n",
       "      <td>2.2</td>\n",
       "      <td>3.6</td>\n",
       "      <td>1.4</td>\n",
       "      <td>0.6</td>\n",
       "      <td>0.3</td>\n",
       "      <td>1.8</td>\n",
       "      <td>7.8</td>\n",
       "    </tr>\n",
       "    <tr>\n",
       "      <th>2</th>\n",
       "      <td>BILLYREID1980</td>\n",
       "      <td>Billy Reid</td>\n",
       "      <td>Not Inducted</td>\n",
       "      <td>NaN</td>\n",
       "      <td>1980</td>\n",
       "      <td>1980</td>\n",
       "      <td>1</td>\n",
       "      <td>1985</td>\n",
       "      <td>182.0</td>\n",
       "      <td>GSW</td>\n",
       "      <td>...</td>\n",
       "      <td>0.7</td>\n",
       "      <td>56.4</td>\n",
       "      <td>0.5</td>\n",
       "      <td>0.6</td>\n",
       "      <td>1.0</td>\n",
       "      <td>1.2</td>\n",
       "      <td>0.6</td>\n",
       "      <td>0.1</td>\n",
       "      <td>1.3</td>\n",
       "      <td>2.8</td>\n",
       "    </tr>\n",
       "    <tr>\n",
       "      <th>3</th>\n",
       "      <td>ALEXBRADLEY1981</td>\n",
       "      <td>Alex Bradley</td>\n",
       "      <td>Not Inducted</td>\n",
       "      <td>NaN</td>\n",
       "      <td>1981</td>\n",
       "      <td>1981</td>\n",
       "      <td>1</td>\n",
       "      <td>1986</td>\n",
       "      <td>86.0</td>\n",
       "      <td>NYK</td>\n",
       "      <td>...</td>\n",
       "      <td>1.2</td>\n",
       "      <td>60.4</td>\n",
       "      <td>0.8</td>\n",
       "      <td>0.9</td>\n",
       "      <td>1.7</td>\n",
       "      <td>0.3</td>\n",
       "      <td>0.3</td>\n",
       "      <td>0.1</td>\n",
       "      <td>0.7</td>\n",
       "      <td>3.4</td>\n",
       "    </tr>\n",
       "    <tr>\n",
       "      <th>4</th>\n",
       "      <td>GARRYWITTS1981</td>\n",
       "      <td>Garry Witts</td>\n",
       "      <td>Not Inducted</td>\n",
       "      <td>NaN</td>\n",
       "      <td>1981</td>\n",
       "      <td>1981</td>\n",
       "      <td>1</td>\n",
       "      <td>1986</td>\n",
       "      <td>103.0</td>\n",
       "      <td>WSB</td>\n",
       "      <td>...</td>\n",
       "      <td>0.9</td>\n",
       "      <td>82.5</td>\n",
       "      <td>0.6</td>\n",
       "      <td>0.7</td>\n",
       "      <td>1.3</td>\n",
       "      <td>0.8</td>\n",
       "      <td>0.4</td>\n",
       "      <td>0.1</td>\n",
       "      <td>0.8</td>\n",
       "      <td>3.8</td>\n",
       "    </tr>\n",
       "  </tbody>\n",
       "</table>\n",
       "<p>5 rows × 31 columns</p>\n",
       "</div>"
      ],
      "text/plain": [
       "                GUID            Name HallOfFameStatus  HallofFameClass  \\\n",
       "0      MIKENILES1980      Mike Niles     Not Inducted              NaN   \n",
       "1  WAYNEROBINSON1980  Wayne Robinson     Not Inducted              NaN   \n",
       "2      BILLYREID1980      Billy Reid     Not Inducted              NaN   \n",
       "3    ALEXBRADLEY1981    Alex Bradley     Not Inducted              NaN   \n",
       "4     GARRYWITTS1981     Garry Witts     Not Inducted              NaN   \n",
       "\n",
       "   YearDrafted  TO_YEAR  Years_Played  HOF_Elgibility_Year   Pick  Team  ...  \\\n",
       "0         1980     1980             1                 1985    NaN  None  ...   \n",
       "1         1980     1980             1                 1985   31.0   LAL  ...   \n",
       "2         1980     1980             1                 1985  182.0   GSW  ...   \n",
       "3         1981     1981             1                 1986   86.0   NYK  ...   \n",
       "4         1981     1981             1                 1986  103.0   WSB  ...   \n",
       "\n",
       "   FTA   FT%  OREB  DREB  REB  AST  STL  BLK  TOV  EFF  \n",
       "0  0.8  45.9   0.6   0.7  1.3  0.3  0.2  0.0  0.6  1.4  \n",
       "1  3.0  72.9   1.4   2.2  3.6  1.4  0.6  0.3  1.8  7.8  \n",
       "2  0.7  56.4   0.5   0.6  1.0  1.2  0.6  0.1  1.3  2.8  \n",
       "3  1.2  60.4   0.8   0.9  1.7  0.3  0.3  0.1  0.7  3.4  \n",
       "4  0.9  82.5   0.6   0.7  1.3  0.8  0.4  0.1  0.8  3.8  \n",
       "\n",
       "[5 rows x 31 columns]"
      ]
     },
     "execution_count": 146,
     "metadata": {},
     "output_type": "execute_result"
    }
   ],
   "source": [
    "data_sql = \"\"\"\n",
    "SELECT *\n",
    "FROM comprehensive_dataset;\n",
    "\"\"\"\n",
    "\n",
    "#  load in tables as dataframes\n",
    "data_df = pd.read_sql(data_sql, con=connection)\n",
    "data_df.head()"
   ]
  },
  {
   "cell_type": "code",
   "execution_count": 147,
   "id": "05c3c944",
   "metadata": {},
   "outputs": [
    {
     "data": {
      "text/plain": [
       "GUID                    object\n",
       "Name                    object\n",
       "HallOfFameStatus        object\n",
       "HallofFameClass        float64\n",
       "YearDrafted              int64\n",
       "TO_YEAR                  int64\n",
       "Years_Played             int64\n",
       "HOF_Elgibility_Year      int64\n",
       "Pick                   float64\n",
       "Team                    object\n",
       "College                 object\n",
       "GP                       int64\n",
       "MIN                    float64\n",
       "PTS                    float64\n",
       "FGM                    float64\n",
       "FGA                    float64\n",
       "FG%                    float64\n",
       "3P_Made                float64\n",
       "3PA                    float64\n",
       "3P%                    float64\n",
       "FTM                    float64\n",
       "FTA                    float64\n",
       "FT%                    float64\n",
       "OREB                   float64\n",
       "DREB                   float64\n",
       "REB                    float64\n",
       "AST                    float64\n",
       "STL                    float64\n",
       "BLK                    float64\n",
       "TOV                    float64\n",
       "EFF                    float64\n",
       "dtype: object"
      ]
     },
     "execution_count": 147,
     "metadata": {},
     "output_type": "execute_result"
    }
   ],
   "source": [
    "data_df.dtypes"
   ]
  },
  {
   "cell_type": "markdown",
   "id": "fe255791",
   "metadata": {},
   "source": [
    "## Preprocessing "
   ]
  },
  {
   "cell_type": "code",
   "execution_count": 148,
   "id": "3d213d51",
   "metadata": {},
   "outputs": [
    {
     "data": {
      "text/html": [
       "<div>\n",
       "<style scoped>\n",
       "    .dataframe tbody tr th:only-of-type {\n",
       "        vertical-align: middle;\n",
       "    }\n",
       "\n",
       "    .dataframe tbody tr th {\n",
       "        vertical-align: top;\n",
       "    }\n",
       "\n",
       "    .dataframe thead th {\n",
       "        text-align: right;\n",
       "    }\n",
       "</style>\n",
       "<table border=\"1\" class=\"dataframe\">\n",
       "  <thead>\n",
       "    <tr style=\"text-align: right;\">\n",
       "      <th></th>\n",
       "      <th>GUID</th>\n",
       "      <th>Name</th>\n",
       "      <th>HallofFameClass</th>\n",
       "      <th>YearDrafted</th>\n",
       "      <th>TO_YEAR</th>\n",
       "      <th>Years_Played</th>\n",
       "      <th>HOF_Elgibility_Year</th>\n",
       "      <th>Pick</th>\n",
       "      <th>Team</th>\n",
       "      <th>College</th>\n",
       "      <th>...</th>\n",
       "      <th>FT%</th>\n",
       "      <th>OREB</th>\n",
       "      <th>DREB</th>\n",
       "      <th>REB</th>\n",
       "      <th>AST</th>\n",
       "      <th>STL</th>\n",
       "      <th>BLK</th>\n",
       "      <th>TOV</th>\n",
       "      <th>EFF</th>\n",
       "      <th>HOF_Hall of Fame Member</th>\n",
       "    </tr>\n",
       "  </thead>\n",
       "  <tbody>\n",
       "    <tr>\n",
       "      <th>0</th>\n",
       "      <td>MIKENILES1980</td>\n",
       "      <td>Mike Niles</td>\n",
       "      <td>NaN</td>\n",
       "      <td>1980</td>\n",
       "      <td>1980</td>\n",
       "      <td>1</td>\n",
       "      <td>1985</td>\n",
       "      <td>NaN</td>\n",
       "      <td>None</td>\n",
       "      <td>None</td>\n",
       "      <td>...</td>\n",
       "      <td>45.9</td>\n",
       "      <td>0.6</td>\n",
       "      <td>0.7</td>\n",
       "      <td>1.3</td>\n",
       "      <td>0.3</td>\n",
       "      <td>0.2</td>\n",
       "      <td>0.0</td>\n",
       "      <td>0.6</td>\n",
       "      <td>1.4</td>\n",
       "      <td>0</td>\n",
       "    </tr>\n",
       "    <tr>\n",
       "      <th>1</th>\n",
       "      <td>WAYNEROBINSON1980</td>\n",
       "      <td>Wayne Robinson</td>\n",
       "      <td>NaN</td>\n",
       "      <td>1980</td>\n",
       "      <td>1980</td>\n",
       "      <td>1</td>\n",
       "      <td>1985</td>\n",
       "      <td>31.0</td>\n",
       "      <td>LAL</td>\n",
       "      <td>Virginia Polytechnic Institute and State Unive...</td>\n",
       "      <td>...</td>\n",
       "      <td>72.9</td>\n",
       "      <td>1.4</td>\n",
       "      <td>2.2</td>\n",
       "      <td>3.6</td>\n",
       "      <td>1.4</td>\n",
       "      <td>0.6</td>\n",
       "      <td>0.3</td>\n",
       "      <td>1.8</td>\n",
       "      <td>7.8</td>\n",
       "      <td>0</td>\n",
       "    </tr>\n",
       "    <tr>\n",
       "      <th>2</th>\n",
       "      <td>BILLYREID1980</td>\n",
       "      <td>Billy Reid</td>\n",
       "      <td>NaN</td>\n",
       "      <td>1980</td>\n",
       "      <td>1980</td>\n",
       "      <td>1</td>\n",
       "      <td>1985</td>\n",
       "      <td>182.0</td>\n",
       "      <td>GSW</td>\n",
       "      <td>University of San Francisco</td>\n",
       "      <td>...</td>\n",
       "      <td>56.4</td>\n",
       "      <td>0.5</td>\n",
       "      <td>0.6</td>\n",
       "      <td>1.0</td>\n",
       "      <td>1.2</td>\n",
       "      <td>0.6</td>\n",
       "      <td>0.1</td>\n",
       "      <td>1.3</td>\n",
       "      <td>2.8</td>\n",
       "      <td>0</td>\n",
       "    </tr>\n",
       "    <tr>\n",
       "      <th>3</th>\n",
       "      <td>ALEXBRADLEY1981</td>\n",
       "      <td>Alex Bradley</td>\n",
       "      <td>NaN</td>\n",
       "      <td>1981</td>\n",
       "      <td>1981</td>\n",
       "      <td>1</td>\n",
       "      <td>1986</td>\n",
       "      <td>86.0</td>\n",
       "      <td>NYK</td>\n",
       "      <td>Villanova University</td>\n",
       "      <td>...</td>\n",
       "      <td>60.4</td>\n",
       "      <td>0.8</td>\n",
       "      <td>0.9</td>\n",
       "      <td>1.7</td>\n",
       "      <td>0.3</td>\n",
       "      <td>0.3</td>\n",
       "      <td>0.1</td>\n",
       "      <td>0.7</td>\n",
       "      <td>3.4</td>\n",
       "      <td>0</td>\n",
       "    </tr>\n",
       "    <tr>\n",
       "      <th>4</th>\n",
       "      <td>GARRYWITTS1981</td>\n",
       "      <td>Garry Witts</td>\n",
       "      <td>NaN</td>\n",
       "      <td>1981</td>\n",
       "      <td>1981</td>\n",
       "      <td>1</td>\n",
       "      <td>1986</td>\n",
       "      <td>103.0</td>\n",
       "      <td>WSB</td>\n",
       "      <td>College of the Holy Cross</td>\n",
       "      <td>...</td>\n",
       "      <td>82.5</td>\n",
       "      <td>0.6</td>\n",
       "      <td>0.7</td>\n",
       "      <td>1.3</td>\n",
       "      <td>0.8</td>\n",
       "      <td>0.4</td>\n",
       "      <td>0.1</td>\n",
       "      <td>0.8</td>\n",
       "      <td>3.8</td>\n",
       "      <td>0</td>\n",
       "    </tr>\n",
       "  </tbody>\n",
       "</table>\n",
       "<p>5 rows × 31 columns</p>\n",
       "</div>"
      ],
      "text/plain": [
       "                GUID            Name  HallofFameClass  YearDrafted  TO_YEAR  \\\n",
       "0      MIKENILES1980      Mike Niles              NaN         1980     1980   \n",
       "1  WAYNEROBINSON1980  Wayne Robinson              NaN         1980     1980   \n",
       "2      BILLYREID1980      Billy Reid              NaN         1980     1980   \n",
       "3    ALEXBRADLEY1981    Alex Bradley              NaN         1981     1981   \n",
       "4     GARRYWITTS1981     Garry Witts              NaN         1981     1981   \n",
       "\n",
       "   Years_Played  HOF_Elgibility_Year   Pick  Team  \\\n",
       "0             1                 1985    NaN  None   \n",
       "1             1                 1985   31.0   LAL   \n",
       "2             1                 1985  182.0   GSW   \n",
       "3             1                 1986   86.0   NYK   \n",
       "4             1                 1986  103.0   WSB   \n",
       "\n",
       "                                             College  ...   FT%  OREB  DREB  \\\n",
       "0                                               None  ...  45.9   0.6   0.7   \n",
       "1  Virginia Polytechnic Institute and State Unive...  ...  72.9   1.4   2.2   \n",
       "2                        University of San Francisco  ...  56.4   0.5   0.6   \n",
       "3                               Villanova University  ...  60.4   0.8   0.9   \n",
       "4                          College of the Holy Cross  ...  82.5   0.6   0.7   \n",
       "\n",
       "   REB  AST  STL  BLK  TOV  EFF  HOF_Hall of Fame Member  \n",
       "0  1.3  0.3  0.2  0.0  0.6  1.4                        0  \n",
       "1  3.6  1.4  0.6  0.3  1.8  7.8                        0  \n",
       "2  1.0  1.2  0.6  0.1  1.3  2.8                        0  \n",
       "3  1.7  0.3  0.3  0.1  0.7  3.4                        0  \n",
       "4  1.3  0.8  0.4  0.1  0.8  3.8                        0  \n",
       "\n",
       "[5 rows x 31 columns]"
      ]
     },
     "execution_count": 148,
     "metadata": {},
     "output_type": "execute_result"
    }
   ],
   "source": [
    "# get_dummies to encode HallofFameClass column\n",
    "data_df = pd.get_dummies(data_df, prefix='HOF', columns=['HallOfFameStatus'])\n",
    "data_df.drop(['HOF_Not Inducted'], axis=1, inplace=True) # remove extra get_dummies column\n",
    "data_df.head()"
   ]
  },
  {
   "cell_type": "code",
   "execution_count": 149,
   "id": "955641c5",
   "metadata": {},
   "outputs": [
    {
     "name": "stdout",
     "output_type": "stream",
     "text": [
      "                  GUID            Name  HallofFameClass  YearDrafted  TO_YEAR  \\\n",
      "597  MICHAELJORDAN1984  Michael Jordan           2009.0         1984     2002   \n",
      "\n",
      "     Years_Played  HOF_Elgibility_Year  Pick Team  \\\n",
      "597            19                 2007   3.0  CHI   \n",
      "\n",
      "                          College  ...   FT%  OREB  DREB  REB  AST  STL  BLK  \\\n",
      "597  University of North Carolina  ...  84.5   2.0   4.5  6.5  5.9  2.4  0.8   \n",
      "\n",
      "     TOV   EFF  HOF_Hall of Fame Member  \n",
      "597  3.5  29.2                        1  \n",
      "\n",
      "[1 rows x 31 columns]\n"
     ]
    }
   ],
   "source": [
    "# confirm HOF members encoded for 0\n",
    "print(data_df.loc[data_df['GUID'] == 'MICHAELJORDAN1984'])\n",
    "# This confirms HOF members = 1, non members = 0"
   ]
  },
  {
   "cell_type": "code",
   "execution_count": 150,
   "id": "4b998006",
   "metadata": {},
   "outputs": [
    {
     "data": {
      "text/plain": [
       "GUID                        object\n",
       "Name                        object\n",
       "HallofFameClass            float64\n",
       "YearDrafted                  int64\n",
       "TO_YEAR                      int64\n",
       "Years_Played                 int64\n",
       "HOF_Elgibility_Year          int64\n",
       "Pick                       float64\n",
       "Team                        object\n",
       "College                     object\n",
       "GP                           int64\n",
       "MIN                        float64\n",
       "PTS                        float64\n",
       "FGM                        float64\n",
       "FGA                        float64\n",
       "FG%                        float64\n",
       "3P_Made                    float64\n",
       "3PA                        float64\n",
       "3P%                        float64\n",
       "FTM                        float64\n",
       "FTA                        float64\n",
       "FT%                        float64\n",
       "OREB                       float64\n",
       "DREB                       float64\n",
       "REB                        float64\n",
       "AST                        float64\n",
       "STL                        float64\n",
       "BLK                        float64\n",
       "TOV                        float64\n",
       "EFF                        float64\n",
       "HOF_Hall of Fame Member      uint8\n",
       "dtype: object"
      ]
     },
     "execution_count": 150,
     "metadata": {},
     "output_type": "execute_result"
    }
   ],
   "source": [
    "data_df.dtypes"
   ]
  },
  {
   "cell_type": "code",
   "execution_count": 151,
   "id": "d00b3e54",
   "metadata": {},
   "outputs": [],
   "source": [
    "# save\n",
    "# data_df.to_csv('ml_encoded_data.csv')"
   ]
  },
  {
   "cell_type": "code",
   "execution_count": 152,
   "id": "885ce1a1",
   "metadata": {},
   "outputs": [
    {
     "data": {
      "text/html": [
       "<div>\n",
       "<style scoped>\n",
       "    .dataframe tbody tr th:only-of-type {\n",
       "        vertical-align: middle;\n",
       "    }\n",
       "\n",
       "    .dataframe tbody tr th {\n",
       "        vertical-align: top;\n",
       "    }\n",
       "\n",
       "    .dataframe thead th {\n",
       "        text-align: right;\n",
       "    }\n",
       "</style>\n",
       "<table border=\"1\" class=\"dataframe\">\n",
       "  <thead>\n",
       "    <tr style=\"text-align: right;\">\n",
       "      <th></th>\n",
       "      <th>Years_Played</th>\n",
       "      <th>Pick</th>\n",
       "      <th>PTS</th>\n",
       "      <th>FGM</th>\n",
       "      <th>FGA</th>\n",
       "      <th>FG%</th>\n",
       "      <th>3P_Made</th>\n",
       "      <th>3PA</th>\n",
       "      <th>3P%</th>\n",
       "      <th>FTM</th>\n",
       "      <th>...</th>\n",
       "      <th>FT%</th>\n",
       "      <th>OREB</th>\n",
       "      <th>DREB</th>\n",
       "      <th>REB</th>\n",
       "      <th>AST</th>\n",
       "      <th>STL</th>\n",
       "      <th>BLK</th>\n",
       "      <th>TOV</th>\n",
       "      <th>EFF</th>\n",
       "      <th>HOF_Hall of Fame Member</th>\n",
       "    </tr>\n",
       "  </thead>\n",
       "  <tbody>\n",
       "    <tr>\n",
       "      <th>0</th>\n",
       "      <td>1</td>\n",
       "      <td>NaN</td>\n",
       "      <td>2.6</td>\n",
       "      <td>1.1</td>\n",
       "      <td>3.1</td>\n",
       "      <td>34.8</td>\n",
       "      <td>0.0</td>\n",
       "      <td>0.1</td>\n",
       "      <td>50.0</td>\n",
       "      <td>0.4</td>\n",
       "      <td>...</td>\n",
       "      <td>45.9</td>\n",
       "      <td>0.6</td>\n",
       "      <td>0.7</td>\n",
       "      <td>1.3</td>\n",
       "      <td>0.3</td>\n",
       "      <td>0.2</td>\n",
       "      <td>0.0</td>\n",
       "      <td>0.6</td>\n",
       "      <td>1.4</td>\n",
       "      <td>0</td>\n",
       "    </tr>\n",
       "    <tr>\n",
       "      <th>1</th>\n",
       "      <td>1</td>\n",
       "      <td>31.0</td>\n",
       "      <td>7.9</td>\n",
       "      <td>2.9</td>\n",
       "      <td>6.3</td>\n",
       "      <td>46.0</td>\n",
       "      <td>0.0</td>\n",
       "      <td>0.1</td>\n",
       "      <td>0.0</td>\n",
       "      <td>2.2</td>\n",
       "      <td>...</td>\n",
       "      <td>72.9</td>\n",
       "      <td>1.4</td>\n",
       "      <td>2.2</td>\n",
       "      <td>3.6</td>\n",
       "      <td>1.4</td>\n",
       "      <td>0.6</td>\n",
       "      <td>0.3</td>\n",
       "      <td>1.8</td>\n",
       "      <td>7.8</td>\n",
       "      <td>0</td>\n",
       "    </tr>\n",
       "    <tr>\n",
       "      <th>2</th>\n",
       "      <td>1</td>\n",
       "      <td>182.0</td>\n",
       "      <td>3.2</td>\n",
       "      <td>1.4</td>\n",
       "      <td>3.1</td>\n",
       "      <td>45.4</td>\n",
       "      <td>0.0</td>\n",
       "      <td>0.1</td>\n",
       "      <td>0.0</td>\n",
       "      <td>0.4</td>\n",
       "      <td>...</td>\n",
       "      <td>56.4</td>\n",
       "      <td>0.5</td>\n",
       "      <td>0.6</td>\n",
       "      <td>1.0</td>\n",
       "      <td>1.2</td>\n",
       "      <td>0.6</td>\n",
       "      <td>0.1</td>\n",
       "      <td>1.3</td>\n",
       "      <td>2.8</td>\n",
       "      <td>0</td>\n",
       "    </tr>\n",
       "    <tr>\n",
       "      <th>3</th>\n",
       "      <td>1</td>\n",
       "      <td>86.0</td>\n",
       "      <td>3.5</td>\n",
       "      <td>1.4</td>\n",
       "      <td>2.6</td>\n",
       "      <td>52.4</td>\n",
       "      <td>0.0</td>\n",
       "      <td>0.0</td>\n",
       "      <td>0.0</td>\n",
       "      <td>0.7</td>\n",
       "      <td>...</td>\n",
       "      <td>60.4</td>\n",
       "      <td>0.8</td>\n",
       "      <td>0.9</td>\n",
       "      <td>1.7</td>\n",
       "      <td>0.3</td>\n",
       "      <td>0.3</td>\n",
       "      <td>0.1</td>\n",
       "      <td>0.7</td>\n",
       "      <td>3.4</td>\n",
       "      <td>0</td>\n",
       "    </tr>\n",
       "    <tr>\n",
       "      <th>4</th>\n",
       "      <td>1</td>\n",
       "      <td>103.0</td>\n",
       "      <td>2.9</td>\n",
       "      <td>1.1</td>\n",
       "      <td>1.8</td>\n",
       "      <td>58.3</td>\n",
       "      <td>0.0</td>\n",
       "      <td>0.0</td>\n",
       "      <td>50.0</td>\n",
       "      <td>0.7</td>\n",
       "      <td>...</td>\n",
       "      <td>82.5</td>\n",
       "      <td>0.6</td>\n",
       "      <td>0.7</td>\n",
       "      <td>1.3</td>\n",
       "      <td>0.8</td>\n",
       "      <td>0.4</td>\n",
       "      <td>0.1</td>\n",
       "      <td>0.8</td>\n",
       "      <td>3.8</td>\n",
       "      <td>0</td>\n",
       "    </tr>\n",
       "  </tbody>\n",
       "</table>\n",
       "<p>5 rows × 21 columns</p>\n",
       "</div>"
      ],
      "text/plain": [
       "   Years_Played   Pick  PTS  FGM  FGA   FG%  3P_Made  3PA   3P%  FTM  ...  \\\n",
       "0             1    NaN  2.6  1.1  3.1  34.8      0.0  0.1  50.0  0.4  ...   \n",
       "1             1   31.0  7.9  2.9  6.3  46.0      0.0  0.1   0.0  2.2  ...   \n",
       "2             1  182.0  3.2  1.4  3.1  45.4      0.0  0.1   0.0  0.4  ...   \n",
       "3             1   86.0  3.5  1.4  2.6  52.4      0.0  0.0   0.0  0.7  ...   \n",
       "4             1  103.0  2.9  1.1  1.8  58.3      0.0  0.0  50.0  0.7  ...   \n",
       "\n",
       "    FT%  OREB  DREB  REB  AST  STL  BLK  TOV  EFF  HOF_Hall of Fame Member  \n",
       "0  45.9   0.6   0.7  1.3  0.3  0.2  0.0  0.6  1.4                        0  \n",
       "1  72.9   1.4   2.2  3.6  1.4  0.6  0.3  1.8  7.8                        0  \n",
       "2  56.4   0.5   0.6  1.0  1.2  0.6  0.1  1.3  2.8                        0  \n",
       "3  60.4   0.8   0.9  1.7  0.3  0.3  0.1  0.7  3.4                        0  \n",
       "4  82.5   0.6   0.7  1.3  0.8  0.4  0.1  0.8  3.8                        0  \n",
       "\n",
       "[5 rows x 21 columns]"
      ]
     },
     "execution_count": 152,
     "metadata": {},
     "output_type": "execute_result"
    }
   ],
   "source": [
    "# drop columns that will likely error/confuse the ML models\n",
    "data_df.drop(['GUID', 'Name', 'Team', 'College', # dropping object columns \n",
    "              'HallofFameClass', 'YearDrafted', 'TO_YEAR', 'HOF_Elgibility_Year', 'GP', 'MIN' # non performance stats\n",
    "                ], axis=1, inplace=True)\n",
    "data_df.head()"
   ]
  },
  {
   "cell_type": "code",
   "execution_count": 153,
   "id": "09f1c8fe",
   "metadata": {},
   "outputs": [
    {
     "data": {
      "text/plain": [
       "True"
      ]
     },
     "execution_count": 153,
     "metadata": {},
     "output_type": "execute_result"
    }
   ],
   "source": [
    "# check for NaNs\n",
    "data_df.isnull().values.any()"
   ]
  },
  {
   "cell_type": "code",
   "execution_count": 154,
   "id": "af63e36c",
   "metadata": {},
   "outputs": [
    {
     "data": {
      "text/plain": [
       "Years_Played               1217\n",
       "Pick                        915\n",
       "PTS                        1217\n",
       "FGM                        1217\n",
       "FGA                        1217\n",
       "FG%                        1217\n",
       "3P_Made                    1217\n",
       "3PA                        1217\n",
       "3P%                        1217\n",
       "FTM                        1217\n",
       "FTA                        1217\n",
       "FT%                        1217\n",
       "OREB                       1217\n",
       "DREB                       1217\n",
       "REB                        1217\n",
       "AST                        1217\n",
       "STL                        1217\n",
       "BLK                        1217\n",
       "TOV                        1217\n",
       "EFF                        1217\n",
       "HOF_Hall of Fame Member    1217\n",
       "dtype: int64"
      ]
     },
     "execution_count": 154,
     "metadata": {},
     "output_type": "execute_result"
    }
   ],
   "source": [
    "# where are the NaNs?\n",
    "data_df.count()"
   ]
  },
  {
   "cell_type": "code",
   "execution_count": 155,
   "id": "c68799d5",
   "metadata": {},
   "outputs": [
    {
     "data": {
      "text/plain": [
       "Years_Played               1217\n",
       "Pick                       1217\n",
       "PTS                        1217\n",
       "FGM                        1217\n",
       "FGA                        1217\n",
       "FG%                        1217\n",
       "3P_Made                    1217\n",
       "3PA                        1217\n",
       "3P%                        1217\n",
       "FTM                        1217\n",
       "FTA                        1217\n",
       "FT%                        1217\n",
       "OREB                       1217\n",
       "DREB                       1217\n",
       "REB                        1217\n",
       "AST                        1217\n",
       "STL                        1217\n",
       "BLK                        1217\n",
       "TOV                        1217\n",
       "EFF                        1217\n",
       "HOF_Hall of Fame Member    1217\n",
       "dtype: int64"
      ]
     },
     "execution_count": 155,
     "metadata": {},
     "output_type": "execute_result"
    }
   ],
   "source": [
    "# fill NaNs with 0\n",
    "data_df['Pick'] = data_df['Pick'].fillna(0)\n",
    "data_df.count()"
   ]
  },
  {
   "cell_type": "code",
   "execution_count": 156,
   "id": "1e6cb4d7",
   "metadata": {},
   "outputs": [
    {
     "name": "stdout",
     "output_type": "stream",
     "text": [
      "(1217, 21)\n"
     ]
    }
   ],
   "source": [
    "print(data_df.shape)"
   ]
  },
  {
   "cell_type": "markdown",
   "id": "06132115",
   "metadata": {},
   "source": [
    "# Machine Learning Models"
   ]
  },
  {
   "cell_type": "markdown",
   "id": "7abc0649",
   "metadata": {},
   "source": [
    "### LogReg w/ Oversampling"
   ]
  },
  {
   "cell_type": "code",
   "execution_count": 157,
   "id": "362eb4bc",
   "metadata": {},
   "outputs": [],
   "source": [
    "# ML imports\n",
    "from collections import Counter\n",
    "from sklearn.model_selection import train_test_split\n",
    "from sklearn.preprocessing import StandardScaler\n",
    "from sklearn.linear_model import LogisticRegression\n",
    "from sklearn.metrics import confusion_matrix\n",
    "from sklearn.metrics import balanced_accuracy_score\n",
    "from imblearn.metrics import classification_report_imbalanced\n",
    "import tensorflow as tf"
   ]
  },
  {
   "cell_type": "code",
   "execution_count": 174,
   "id": "c6d486c5",
   "metadata": {},
   "outputs": [],
   "source": [
    "# create our features\n",
    "X = data_df.drop(['HOF_Hall of Fame Member'], axis=1)\n",
    "\n",
    "# create our target\n",
    "y = data_df['HOF_Hall of Fame Member']"
   ]
  },
  {
   "cell_type": "code",
   "execution_count": 175,
   "id": "584b8440",
   "metadata": {},
   "outputs": [
    {
     "data": {
      "text/plain": [
       "Counter({0: 879, 1: 33})"
      ]
     },
     "execution_count": 175,
     "metadata": {},
     "output_type": "execute_result"
    }
   ],
   "source": [
    "# normal train-test split\n",
    "X_train, X_test, y_train, y_test = train_test_split(X, y, random_state=1)\n",
    "Counter(y_train)"
   ]
  },
  {
   "cell_type": "markdown",
   "id": "f00ed1a6",
   "metadata": {},
   "source": [
    "### RandomOverSampler"
   ]
  },
  {
   "cell_type": "code",
   "execution_count": 176,
   "id": "f66c1ed8",
   "metadata": {},
   "outputs": [],
   "source": [
    "# import RandomOverSampler\n",
    "from imblearn.over_sampling import RandomOverSampler"
   ]
  },
  {
   "cell_type": "code",
   "execution_count": 180,
   "id": "eb4fbe20",
   "metadata": {},
   "outputs": [
    {
     "data": {
      "text/plain": [
       "Counter({0: 879, 1: 879})"
      ]
     },
     "execution_count": 180,
     "metadata": {},
     "output_type": "execute_result"
    }
   ],
   "source": [
    "# implement random oversampling\n",
    "X_resampled, y_resampled = RandomOverSampler(random_state=1).fit_resample(X_train, y_train)\n",
    "Counter(y_resampled)"
   ]
  },
  {
   "cell_type": "code",
   "execution_count": 181,
   "id": "c56a55cc",
   "metadata": {},
   "outputs": [
    {
     "data": {
      "text/plain": [
       "LogisticRegression(random_state=1, solver='liblinear')"
      ]
     },
     "execution_count": 181,
     "metadata": {},
     "output_type": "execute_result"
    }
   ],
   "source": [
    "# logistic regression using random oversampled data\n",
    "model = LogisticRegression(solver='liblinear', random_state=1)\n",
    "model.fit(X_resampled, y_resampled)"
   ]
  },
  {
   "cell_type": "code",
   "execution_count": 182,
   "id": "579e4b16",
   "metadata": {},
   "outputs": [],
   "source": [
    "# display the confusion matrix\n",
    "y_pred = model.predict(X_test)\n",
    "\n",
    "# calculated the balanced accuracy score\n",
    "acc_score = balanced_accuracy_score(y_test, y_pred)"
   ]
  },
  {
   "cell_type": "code",
   "execution_count": 183,
   "id": "082087e0",
   "metadata": {},
   "outputs": [],
   "source": [
    "# display the confusion matrix\n",
    "cm = confusion_matrix(y_test, y_pred)\n",
    "\n",
    "# create a DataFrame from the confusion matrix.\n",
    "cm_df = pd.DataFrame(\n",
    "    cm, index=[\"Not HOF Member\", \"HOF Member\"], \n",
    "    columns=[\"Predicted Not HOF Member\", \"Predicted HOF Member\"])"
   ]
  },
  {
   "cell_type": "code",
   "execution_count": 184,
   "id": "a45d3206",
   "metadata": {},
   "outputs": [
    {
     "name": "stdout",
     "output_type": "stream",
     "text": [
      "Confusion Matrix\n"
     ]
    },
    {
     "data": {
      "text/html": [
       "<div>\n",
       "<style scoped>\n",
       "    .dataframe tbody tr th:only-of-type {\n",
       "        vertical-align: middle;\n",
       "    }\n",
       "\n",
       "    .dataframe tbody tr th {\n",
       "        vertical-align: top;\n",
       "    }\n",
       "\n",
       "    .dataframe thead th {\n",
       "        text-align: right;\n",
       "    }\n",
       "</style>\n",
       "<table border=\"1\" class=\"dataframe\">\n",
       "  <thead>\n",
       "    <tr style=\"text-align: right;\">\n",
       "      <th></th>\n",
       "      <th>Predicted Not HOF Member</th>\n",
       "      <th>Predicted HOF Member</th>\n",
       "    </tr>\n",
       "  </thead>\n",
       "  <tbody>\n",
       "    <tr>\n",
       "      <th>Not HOF Member</th>\n",
       "      <td>256</td>\n",
       "      <td>40</td>\n",
       "    </tr>\n",
       "    <tr>\n",
       "      <th>HOF Member</th>\n",
       "      <td>0</td>\n",
       "      <td>9</td>\n",
       "    </tr>\n",
       "  </tbody>\n",
       "</table>\n",
       "</div>"
      ],
      "text/plain": [
       "                Predicted Not HOF Member  Predicted HOF Member\n",
       "Not HOF Member                       256                    40\n",
       "HOF Member                             0                     9"
      ]
     },
     "metadata": {},
     "output_type": "display_data"
    },
    {
     "name": "stdout",
     "output_type": "stream",
     "text": [
      "Accuracy Score : 0.9324324324324325\n",
      "Classification Report\n",
      "                   pre       rec       spe        f1       geo       iba       sup\n",
      "\n",
      "          0       1.00      0.86      1.00      0.93      0.93      0.85       296\n",
      "          1       0.18      1.00      0.86      0.31      0.93      0.88         9\n",
      "\n",
      "avg / total       0.98      0.87      1.00      0.91      0.93      0.85       305\n",
      "\n"
     ]
    }
   ],
   "source": [
    "# RandomOverSample results\n",
    "print(\"Confusion Matrix\")\n",
    "display(cm_df)\n",
    "print(f\"Accuracy Score : {acc_score}\")\n",
    "print(\"Classification Report\")\n",
    "print(classification_report_imbalanced(y_test, y_pred))"
   ]
  },
  {
   "cell_type": "markdown",
   "id": "1493c299",
   "metadata": {},
   "source": [
    "### SMOTE"
   ]
  },
  {
   "cell_type": "code",
   "execution_count": 185,
   "id": "c7e03589",
   "metadata": {},
   "outputs": [],
   "source": [
    "# import SMOTE\n",
    "from imblearn.over_sampling import SMOTE"
   ]
  },
  {
   "cell_type": "code",
   "execution_count": 186,
   "id": "90038eda",
   "metadata": {},
   "outputs": [
    {
     "data": {
      "text/plain": [
       "Counter({0: 879, 1: 879})"
      ]
     },
     "execution_count": 186,
     "metadata": {},
     "output_type": "execute_result"
    }
   ],
   "source": [
    "# implement SMOTE resampling\n",
    "X_resampled, y_resampled = SMOTE(random_state=1, sampling_strategy='auto').fit_resample(X_train, y_train)\n",
    "Counter(y_resampled)"
   ]
  },
  {
   "cell_type": "code",
   "execution_count": 187,
   "id": "49ea7476",
   "metadata": {},
   "outputs": [
    {
     "data": {
      "text/plain": [
       "LogisticRegression(random_state=1, solver='liblinear')"
      ]
     },
     "execution_count": 187,
     "metadata": {},
     "output_type": "execute_result"
    }
   ],
   "source": [
    "# logistic regression using SMOTE data\n",
    "model = LogisticRegression(solver='liblinear', random_state=1)\n",
    "model.fit(X_resampled, y_resampled)"
   ]
  },
  {
   "cell_type": "code",
   "execution_count": 189,
   "id": "3ccadc74",
   "metadata": {},
   "outputs": [],
   "source": [
    "# display the confusion matrix\n",
    "y_pred = model.predict(X_test)\n",
    "\n",
    "# calculated the balanced accuracy score\n",
    "acc_score = balanced_accuracy_score(y_test, y_pred)"
   ]
  },
  {
   "cell_type": "code",
   "execution_count": 190,
   "id": "a1db8a98",
   "metadata": {},
   "outputs": [],
   "source": [
    "# display the confusion matrix\n",
    "cm = confusion_matrix(y_test, y_pred)\n",
    "\n",
    "# create a DataFrame from the confusion matrix.\n",
    "cm_df = pd.DataFrame(\n",
    "    cm, index=[\"Not HOF Member\", \"HOF Member\"], \n",
    "    columns=[\"Predicted Not HOF Member\", \"Predicted HOF Member\"])"
   ]
  },
  {
   "cell_type": "code",
   "execution_count": 191,
   "id": "beeabd18",
   "metadata": {},
   "outputs": [
    {
     "name": "stdout",
     "output_type": "stream",
     "text": [
      "Confusion Matrix\n"
     ]
    },
    {
     "data": {
      "text/html": [
       "<div>\n",
       "<style scoped>\n",
       "    .dataframe tbody tr th:only-of-type {\n",
       "        vertical-align: middle;\n",
       "    }\n",
       "\n",
       "    .dataframe tbody tr th {\n",
       "        vertical-align: top;\n",
       "    }\n",
       "\n",
       "    .dataframe thead th {\n",
       "        text-align: right;\n",
       "    }\n",
       "</style>\n",
       "<table border=\"1\" class=\"dataframe\">\n",
       "  <thead>\n",
       "    <tr style=\"text-align: right;\">\n",
       "      <th></th>\n",
       "      <th>Predicted Not HOF Member</th>\n",
       "      <th>Predicted HOF Member</th>\n",
       "    </tr>\n",
       "  </thead>\n",
       "  <tbody>\n",
       "    <tr>\n",
       "      <th>Not HOF Member</th>\n",
       "      <td>258</td>\n",
       "      <td>38</td>\n",
       "    </tr>\n",
       "    <tr>\n",
       "      <th>HOF Member</th>\n",
       "      <td>0</td>\n",
       "      <td>9</td>\n",
       "    </tr>\n",
       "  </tbody>\n",
       "</table>\n",
       "</div>"
      ],
      "text/plain": [
       "                Predicted Not HOF Member  Predicted HOF Member\n",
       "Not HOF Member                       258                    38\n",
       "HOF Member                             0                     9"
      ]
     },
     "metadata": {},
     "output_type": "display_data"
    },
    {
     "name": "stdout",
     "output_type": "stream",
     "text": [
      "Accuracy Score : 0.9358108108108107\n",
      "Classification Report\n",
      "                   pre       rec       spe        f1       geo       iba       sup\n",
      "\n",
      "          0       1.00      0.87      1.00      0.93      0.93      0.86       296\n",
      "          1       0.19      1.00      0.87      0.32      0.93      0.88         9\n",
      "\n",
      "avg / total       0.98      0.88      1.00      0.91      0.93      0.86       305\n",
      "\n"
     ]
    }
   ],
   "source": [
    "# SMOTE results\n",
    "print(\"Confusion Matrix\")\n",
    "display(cm_df)\n",
    "print(f\"Accuracy Score : {acc_score}\")\n",
    "print(\"Classification Report\")\n",
    "print(classification_report_imbalanced(y_test, y_pred))"
   ]
  },
  {
   "cell_type": "markdown",
   "id": "71e54cee",
   "metadata": {},
   "source": [
    "### SVM SMOTE"
   ]
  },
  {
   "cell_type": "code",
   "execution_count": 192,
   "id": "de2c25dd",
   "metadata": {},
   "outputs": [],
   "source": [
    "# import SVMSMOTE\n",
    "from imblearn.over_sampling import SVMSMOTE"
   ]
  },
  {
   "cell_type": "code",
   "execution_count": 193,
   "id": "3cc3d5a9",
   "metadata": {},
   "outputs": [
    {
     "data": {
      "text/plain": [
       "Counter({0: 879, 1: 596})"
      ]
     },
     "execution_count": 193,
     "metadata": {},
     "output_type": "execute_result"
    }
   ],
   "source": [
    "## implement SVM SMOTE resampling\n",
    "X_resampled, y_resampled = SVMSMOTE(random_state=1, sampling_strategy='auto').fit_resample(X_train, y_train)\n",
    "Counter(y_resampled)"
   ]
  },
  {
   "cell_type": "code",
   "execution_count": 194,
   "id": "03bfc673",
   "metadata": {},
   "outputs": [
    {
     "data": {
      "text/plain": [
       "LogisticRegression(random_state=1, solver='liblinear')"
      ]
     },
     "execution_count": 194,
     "metadata": {},
     "output_type": "execute_result"
    }
   ],
   "source": [
    "# logistic regression using SVM SMOTE data\n",
    "model = LogisticRegression(solver='liblinear', random_state=1)\n",
    "model.fit(X_resampled, y_resampled)"
   ]
  },
  {
   "cell_type": "code",
   "execution_count": 195,
   "id": "5f3313a4",
   "metadata": {},
   "outputs": [],
   "source": [
    "# calculated the balanced accuracy score\n",
    "y_pred = model.predict(X_test)\n",
    "acc_score = balanced_accuracy_score(y_test, y_pred)"
   ]
  },
  {
   "cell_type": "code",
   "execution_count": 196,
   "id": "c8911bf3",
   "metadata": {},
   "outputs": [],
   "source": [
    "# display the confusion matrix\n",
    "cm = confusion_matrix(y_test, y_pred)\n",
    "\n",
    "# create a DataFrame from the confusion matrix.\n",
    "cm_df = pd.DataFrame(\n",
    "    cm, index=[\"Not HOF Member\", \"HOF Member\"], \n",
    "    columns=[\"Predicted Not HOF Member\", \"Predicted HOF Member\"])"
   ]
  },
  {
   "cell_type": "code",
   "execution_count": 197,
   "id": "ef4bd2a0",
   "metadata": {},
   "outputs": [
    {
     "name": "stdout",
     "output_type": "stream",
     "text": [
      "Confusion Matrix\n"
     ]
    },
    {
     "data": {
      "text/html": [
       "<div>\n",
       "<style scoped>\n",
       "    .dataframe tbody tr th:only-of-type {\n",
       "        vertical-align: middle;\n",
       "    }\n",
       "\n",
       "    .dataframe tbody tr th {\n",
       "        vertical-align: top;\n",
       "    }\n",
       "\n",
       "    .dataframe thead th {\n",
       "        text-align: right;\n",
       "    }\n",
       "</style>\n",
       "<table border=\"1\" class=\"dataframe\">\n",
       "  <thead>\n",
       "    <tr style=\"text-align: right;\">\n",
       "      <th></th>\n",
       "      <th>Predicted Not HOF Member</th>\n",
       "      <th>Predicted HOF Member</th>\n",
       "    </tr>\n",
       "  </thead>\n",
       "  <tbody>\n",
       "    <tr>\n",
       "      <th>Not HOF Member</th>\n",
       "      <td>273</td>\n",
       "      <td>23</td>\n",
       "    </tr>\n",
       "    <tr>\n",
       "      <th>HOF Member</th>\n",
       "      <td>0</td>\n",
       "      <td>9</td>\n",
       "    </tr>\n",
       "  </tbody>\n",
       "</table>\n",
       "</div>"
      ],
      "text/plain": [
       "                Predicted Not HOF Member  Predicted HOF Member\n",
       "Not HOF Member                       273                    23\n",
       "HOF Member                             0                     9"
      ]
     },
     "metadata": {},
     "output_type": "display_data"
    },
    {
     "name": "stdout",
     "output_type": "stream",
     "text": [
      "Accuracy Score : 0.9611486486486487\n",
      "Classification Report\n",
      "                   pre       rec       spe        f1       geo       iba       sup\n",
      "\n",
      "          0       1.00      0.92      1.00      0.96      0.96      0.92       296\n",
      "          1       0.28      1.00      0.92      0.44      0.96      0.93         9\n",
      "\n",
      "avg / total       0.98      0.92      1.00      0.94      0.96      0.92       305\n",
      "\n"
     ]
    }
   ],
   "source": [
    "# SVMSMOTE results\n",
    "print(\"Confusion Matrix\")\n",
    "display(cm_df)\n",
    "print(f\"Accuracy Score : {acc_score}\")\n",
    "print(\"Classification Report\")\n",
    "print(classification_report_imbalanced (y_test, y_pred))"
   ]
  },
  {
   "cell_type": "markdown",
   "id": "c82ac166",
   "metadata": {},
   "source": [
    "## Decision Tree and Neural Net"
   ]
  },
  {
   "cell_type": "markdown",
   "id": "87729ae3",
   "metadata": {},
   "source": [
    "### Scale the data"
   ]
  },
  {
   "cell_type": "code",
   "execution_count": 198,
   "id": "b163c971",
   "metadata": {},
   "outputs": [],
   "source": [
    "# Create a StandardScaler instance\n",
    "scaler = StandardScaler()\n",
    "\n",
    "# Fit the StandardScaler\n",
    "X_scaler = scaler.fit(X_train)\n",
    "\n",
    "# Scale the data\n",
    "X_train_scaled = X_scaler.transform(X_train)\n",
    "X_test_scaled = X_scaler.transform(X_test)"
   ]
  },
  {
   "cell_type": "markdown",
   "id": "878048fe",
   "metadata": {},
   "source": [
    "## Decision Tree Model"
   ]
  },
  {
   "cell_type": "code",
   "execution_count": 199,
   "id": "c7726074",
   "metadata": {},
   "outputs": [],
   "source": [
    "# DT imports\n",
    "from path import Path\n",
    "from sklearn import tree\n",
    "from sklearn.metrics import confusion_matrix, accuracy_score, classification_report"
   ]
  },
  {
   "cell_type": "code",
   "execution_count": 200,
   "id": "5c89dd61",
   "metadata": {},
   "outputs": [],
   "source": [
    "# create the decision tree classifier instance.\n",
    "model = tree.DecisionTreeClassifier()\n",
    "\n",
    "# fit the model.\n",
    "model = model.fit(X_train_scaled, y_train)"
   ]
  },
  {
   "cell_type": "code",
   "execution_count": 201,
   "id": "26789527",
   "metadata": {},
   "outputs": [],
   "source": [
    "# DT predictions\n",
    "predictions = model.predict(X_test_scaled)\n",
    "\n",
    "# calcuate the accuracy score.\n",
    "acc_score = accuracy_score(y_test, predictions)"
   ]
  },
  {
   "cell_type": "code",
   "execution_count": 202,
   "id": "66bc48fa",
   "metadata": {},
   "outputs": [],
   "source": [
    "# Calculating the confusion matrix\n",
    "cm = confusion_matrix(y_test, predictions)\n",
    "\n",
    "# Create a DataFrame from the confusion matrix.\n",
    "cm_df = pd.DataFrame(\n",
    "    cm, index=[\"Not HOF Member\", \"HOF Member\"], \n",
    "    columns=[\"Predicted Not HOF Member\", \"Predicted HOF Member\"])"
   ]
  },
  {
   "cell_type": "code",
   "execution_count": 203,
   "id": "9f2f9644",
   "metadata": {},
   "outputs": [
    {
     "name": "stdout",
     "output_type": "stream",
     "text": [
      "Confusion Matrix\n"
     ]
    },
    {
     "data": {
      "text/html": [
       "<div>\n",
       "<style scoped>\n",
       "    .dataframe tbody tr th:only-of-type {\n",
       "        vertical-align: middle;\n",
       "    }\n",
       "\n",
       "    .dataframe tbody tr th {\n",
       "        vertical-align: top;\n",
       "    }\n",
       "\n",
       "    .dataframe thead th {\n",
       "        text-align: right;\n",
       "    }\n",
       "</style>\n",
       "<table border=\"1\" class=\"dataframe\">\n",
       "  <thead>\n",
       "    <tr style=\"text-align: right;\">\n",
       "      <th></th>\n",
       "      <th>Predicted Not HOF Member</th>\n",
       "      <th>Predicted HOF Member</th>\n",
       "    </tr>\n",
       "  </thead>\n",
       "  <tbody>\n",
       "    <tr>\n",
       "      <th>Not HOF Member</th>\n",
       "      <td>291</td>\n",
       "      <td>5</td>\n",
       "    </tr>\n",
       "    <tr>\n",
       "      <th>HOF Member</th>\n",
       "      <td>7</td>\n",
       "      <td>2</td>\n",
       "    </tr>\n",
       "  </tbody>\n",
       "</table>\n",
       "</div>"
      ],
      "text/plain": [
       "                Predicted Not HOF Member  Predicted HOF Member\n",
       "Not HOF Member                       291                     5\n",
       "HOF Member                             7                     2"
      ]
     },
     "metadata": {},
     "output_type": "display_data"
    },
    {
     "name": "stdout",
     "output_type": "stream",
     "text": [
      "Accuracy Score : 0.9606557377049181\n",
      "Classification Report\n",
      "              precision    recall  f1-score   support\n",
      "\n",
      "           0       0.98      0.98      0.98       296\n",
      "           1       0.29      0.22      0.25         9\n",
      "\n",
      "    accuracy                           0.96       305\n",
      "   macro avg       0.63      0.60      0.61       305\n",
      "weighted avg       0.96      0.96      0.96       305\n",
      "\n"
     ]
    }
   ],
   "source": [
    "# DT results\n",
    "print(\"Confusion Matrix\")\n",
    "display(cm_df)\n",
    "print(f\"Accuracy Score : {acc_score}\")\n",
    "print(\"Classification Report\")\n",
    "print(classification_report(y_test, predictions))"
   ]
  },
  {
   "cell_type": "markdown",
   "id": "4916962a",
   "metadata": {},
   "source": [
    "## Neural Net"
   ]
  },
  {
   "cell_type": "code",
   "execution_count": 204,
   "id": "2c53eb7b",
   "metadata": {},
   "outputs": [],
   "source": [
    "# Create a StandardScaler instance\n",
    "scaler = StandardScaler()\n",
    "\n",
    "# Fit the StandardScaler\n",
    "X_scaler = scaler.fit(X_train)\n",
    "\n",
    "# Scale the data\n",
    "X_train_scaled = X_scaler.transform(X_train)\n",
    "X_test_scaled = X_scaler.transform(X_test)"
   ]
  },
  {
   "cell_type": "code",
   "execution_count": 207,
   "id": "f9c8bcb0",
   "metadata": {},
   "outputs": [
    {
     "name": "stdout",
     "output_type": "stream",
     "text": [
      "Epoch 1/100\n",
      "29/29 [==============================] - 0s 570us/step - loss: 0.4255 - accuracy: 0.8860\n",
      "Epoch 2/100\n",
      "29/29 [==============================] - 0s 606us/step - loss: 0.3272 - accuracy: 0.9441\n",
      "Epoch 3/100\n",
      "29/29 [==============================] - 0s 606us/step - loss: 0.2664 - accuracy: 0.9572\n",
      "Epoch 4/100\n",
      "29/29 [==============================] - 0s 606us/step - loss: 0.2282 - accuracy: 0.9583\n",
      "Epoch 5/100\n",
      "29/29 [==============================] - 0s 606us/step - loss: 0.2033 - accuracy: 0.9583\n",
      "Epoch 6/100\n",
      "29/29 [==============================] - 0s 570us/step - loss: 0.1864 - accuracy: 0.9594\n",
      "Epoch 7/100\n",
      "29/29 [==============================] - 0s 570us/step - loss: 0.1736 - accuracy: 0.9594\n",
      "Epoch 8/100\n",
      "29/29 [==============================] - 0s 606us/step - loss: 0.1642 - accuracy: 0.9594\n",
      "Epoch 9/100\n",
      "29/29 [==============================] - 0s 570us/step - loss: 0.1562 - accuracy: 0.9616\n",
      "Epoch 10/100\n",
      "29/29 [==============================] - 0s 605us/step - loss: 0.1494 - accuracy: 0.9616\n",
      "Epoch 11/100\n",
      "29/29 [==============================] - 0s 606us/step - loss: 0.1439 - accuracy: 0.9605\n",
      "Epoch 12/100\n",
      "29/29 [==============================] - 0s 570us/step - loss: 0.1392 - accuracy: 0.9627\n",
      "Epoch 13/100\n",
      "29/29 [==============================] - 0s 570us/step - loss: 0.1351 - accuracy: 0.9649\n",
      "Epoch 14/100\n",
      "29/29 [==============================] - 0s 606us/step - loss: 0.1312 - accuracy: 0.9649\n",
      "Epoch 15/100\n",
      "29/29 [==============================] - 0s 570us/step - loss: 0.1286 - accuracy: 0.9660\n",
      "Epoch 16/100\n",
      "29/29 [==============================] - 0s 606us/step - loss: 0.1252 - accuracy: 0.9671\n",
      "Epoch 17/100\n",
      "29/29 [==============================] - 0s 606us/step - loss: 0.1228 - accuracy: 0.9660\n",
      "Epoch 18/100\n",
      "29/29 [==============================] - 0s 606us/step - loss: 0.1207 - accuracy: 0.9671\n",
      "Epoch 19/100\n",
      "29/29 [==============================] - 0s 641us/step - loss: 0.1185 - accuracy: 0.9660\n",
      "Epoch 20/100\n",
      "29/29 [==============================] - 0s 606us/step - loss: 0.1167 - accuracy: 0.9671\n",
      "Epoch 21/100\n",
      "29/29 [==============================] - 0s 570us/step - loss: 0.1148 - accuracy: 0.9671\n",
      "Epoch 22/100\n",
      "29/29 [==============================] - 0s 606us/step - loss: 0.1130 - accuracy: 0.9682\n",
      "Epoch 23/100\n",
      "29/29 [==============================] - 0s 570us/step - loss: 0.1116 - accuracy: 0.9693\n",
      "Epoch 24/100\n",
      "29/29 [==============================] - 0s 606us/step - loss: 0.1107 - accuracy: 0.9682\n",
      "Epoch 25/100\n",
      "29/29 [==============================] - 0s 606us/step - loss: 0.1091 - accuracy: 0.9682\n",
      "Epoch 26/100\n",
      "29/29 [==============================] - 0s 641us/step - loss: 0.1080 - accuracy: 0.9682\n",
      "Epoch 27/100\n",
      "29/29 [==============================] - 0s 606us/step - loss: 0.1069 - accuracy: 0.9682\n",
      "Epoch 28/100\n",
      "29/29 [==============================] - 0s 606us/step - loss: 0.1058 - accuracy: 0.9682\n",
      "Epoch 29/100\n",
      "29/29 [==============================] - 0s 570us/step - loss: 0.1049 - accuracy: 0.9682\n",
      "Epoch 30/100\n",
      "29/29 [==============================] - 0s 606us/step - loss: 0.1043 - accuracy: 0.9682\n",
      "Epoch 31/100\n",
      "29/29 [==============================] - 0s 606us/step - loss: 0.1031 - accuracy: 0.9671\n",
      "Epoch 32/100\n",
      "29/29 [==============================] - 0s 606us/step - loss: 0.1023 - accuracy: 0.9671\n",
      "Epoch 33/100\n",
      "29/29 [==============================] - 0s 641us/step - loss: 0.1015 - accuracy: 0.9671\n",
      "Epoch 34/100\n",
      "29/29 [==============================] - 0s 606us/step - loss: 0.1006 - accuracy: 0.9660\n",
      "Epoch 35/100\n",
      "29/29 [==============================] - 0s 606us/step - loss: 0.1000 - accuracy: 0.9660\n",
      "Epoch 36/100\n",
      "29/29 [==============================] - 0s 748us/step - loss: 0.0991 - accuracy: 0.9671\n",
      "Epoch 37/100\n",
      "29/29 [==============================] - 0s 606us/step - loss: 0.0986 - accuracy: 0.9660\n",
      "Epoch 38/100\n",
      "29/29 [==============================] - 0s 641us/step - loss: 0.0982 - accuracy: 0.9660\n",
      "Epoch 39/100\n",
      "29/29 [==============================] - 0s 677us/step - loss: 0.0973 - accuracy: 0.9682\n",
      "Epoch 40/100\n",
      "29/29 [==============================] - 0s 606us/step - loss: 0.0967 - accuracy: 0.9671\n",
      "Epoch 41/100\n",
      "29/29 [==============================] - 0s 606us/step - loss: 0.0960 - accuracy: 0.9671\n",
      "Epoch 42/100\n",
      "29/29 [==============================] - 0s 606us/step - loss: 0.0956 - accuracy: 0.9682\n",
      "Epoch 43/100\n",
      "29/29 [==============================] - 0s 641us/step - loss: 0.0956 - accuracy: 0.9671\n",
      "Epoch 44/100\n",
      "29/29 [==============================] - 0s 606us/step - loss: 0.0944 - accuracy: 0.9671\n",
      "Epoch 45/100\n",
      "29/29 [==============================] - 0s 570us/step - loss: 0.0943 - accuracy: 0.9671\n",
      "Epoch 46/100\n",
      "29/29 [==============================] - 0s 641us/step - loss: 0.0938 - accuracy: 0.9660\n",
      "Epoch 47/100\n",
      "29/29 [==============================] - 0s 641us/step - loss: 0.0929 - accuracy: 0.9671\n",
      "Epoch 48/100\n",
      "29/29 [==============================] - 0s 570us/step - loss: 0.0927 - accuracy: 0.9682\n",
      "Epoch 49/100\n",
      "29/29 [==============================] - 0s 605us/step - loss: 0.0921 - accuracy: 0.9671\n",
      "Epoch 50/100\n",
      "29/29 [==============================] - 0s 606us/step - loss: 0.0910 - accuracy: 0.9671\n",
      "Epoch 51/100\n",
      "29/29 [==============================] - 0s 605us/step - loss: 0.0912 - accuracy: 0.9671\n",
      "Epoch 52/100\n",
      "29/29 [==============================] - 0s 641us/step - loss: 0.0907 - accuracy: 0.9671\n",
      "Epoch 53/100\n",
      "29/29 [==============================] - 0s 712us/step - loss: 0.0901 - accuracy: 0.9671\n",
      "Epoch 54/100\n",
      "29/29 [==============================] - 0s 606us/step - loss: 0.0895 - accuracy: 0.9682\n",
      "Epoch 55/100\n",
      "29/29 [==============================] - 0s 605us/step - loss: 0.0893 - accuracy: 0.9682\n",
      "Epoch 56/100\n",
      "29/29 [==============================] - 0s 606us/step - loss: 0.0887 - accuracy: 0.9671\n",
      "Epoch 57/100\n",
      "29/29 [==============================] - 0s 570us/step - loss: 0.0879 - accuracy: 0.9682\n",
      "Epoch 58/100\n",
      "29/29 [==============================] - 0s 606us/step - loss: 0.0881 - accuracy: 0.9682\n",
      "Epoch 59/100\n",
      "29/29 [==============================] - 0s 606us/step - loss: 0.0873 - accuracy: 0.9693\n",
      "Epoch 60/100\n",
      "29/29 [==============================] - 0s 606us/step - loss: 0.0874 - accuracy: 0.9682\n",
      "Epoch 61/100\n",
      "29/29 [==============================] - 0s 606us/step - loss: 0.0865 - accuracy: 0.9682\n",
      "Epoch 62/100\n",
      "29/29 [==============================] - 0s 606us/step - loss: 0.0867 - accuracy: 0.9682\n",
      "Epoch 63/100\n",
      "29/29 [==============================] - 0s 606us/step - loss: 0.0861 - accuracy: 0.9693\n",
      "Epoch 64/100\n",
      "29/29 [==============================] - 0s 606us/step - loss: 0.0853 - accuracy: 0.9682\n",
      "Epoch 65/100\n",
      "29/29 [==============================] - 0s 606us/step - loss: 0.0847 - accuracy: 0.9693\n",
      "Epoch 66/100\n",
      "29/29 [==============================] - 0s 606us/step - loss: 0.0842 - accuracy: 0.9682\n",
      "Epoch 67/100\n",
      "29/29 [==============================] - 0s 605us/step - loss: 0.0839 - accuracy: 0.9682\n",
      "Epoch 68/100\n",
      "29/29 [==============================] - 0s 641us/step - loss: 0.0834 - accuracy: 0.9682\n",
      "Epoch 69/100\n",
      "29/29 [==============================] - 0s 606us/step - loss: 0.0833 - accuracy: 0.9682\n",
      "Epoch 70/100\n",
      "29/29 [==============================] - 0s 606us/step - loss: 0.0827 - accuracy: 0.9682\n",
      "Epoch 71/100\n",
      "29/29 [==============================] - 0s 606us/step - loss: 0.0822 - accuracy: 0.9682\n",
      "Epoch 72/100\n",
      "29/29 [==============================] - 0s 570us/step - loss: 0.0818 - accuracy: 0.9693\n",
      "Epoch 73/100\n",
      "29/29 [==============================] - 0s 606us/step - loss: 0.0820 - accuracy: 0.9693\n",
      "Epoch 74/100\n",
      "29/29 [==============================] - 0s 606us/step - loss: 0.0818 - accuracy: 0.9671\n",
      "Epoch 75/100\n",
      "29/29 [==============================] - 0s 570us/step - loss: 0.0805 - accuracy: 0.9682\n",
      "Epoch 76/100\n",
      "29/29 [==============================] - 0s 570us/step - loss: 0.0802 - accuracy: 0.9682\n",
      "Epoch 77/100\n",
      "29/29 [==============================] - 0s 570us/step - loss: 0.0803 - accuracy: 0.9682\n",
      "Epoch 78/100\n",
      "29/29 [==============================] - 0s 606us/step - loss: 0.0796 - accuracy: 0.9693\n",
      "Epoch 79/100\n",
      "29/29 [==============================] - 0s 570us/step - loss: 0.0793 - accuracy: 0.9693\n",
      "Epoch 80/100\n",
      "29/29 [==============================] - 0s 606us/step - loss: 0.0791 - accuracy: 0.9693\n",
      "Epoch 81/100\n"
     ]
    },
    {
     "name": "stdout",
     "output_type": "stream",
     "text": [
      "29/29 [==============================] - 0s 570us/step - loss: 0.0786 - accuracy: 0.9693\n",
      "Epoch 82/100\n",
      "29/29 [==============================] - 0s 570us/step - loss: 0.0781 - accuracy: 0.9704\n",
      "Epoch 83/100\n",
      "29/29 [==============================] - 0s 606us/step - loss: 0.0774 - accuracy: 0.9693\n",
      "Epoch 84/100\n",
      "29/29 [==============================] - 0s 570us/step - loss: 0.0774 - accuracy: 0.9693\n",
      "Epoch 85/100\n",
      "29/29 [==============================] - 0s 606us/step - loss: 0.0768 - accuracy: 0.9693\n",
      "Epoch 86/100\n",
      "29/29 [==============================] - 0s 570us/step - loss: 0.0762 - accuracy: 0.9693\n",
      "Epoch 87/100\n",
      "29/29 [==============================] - 0s 606us/step - loss: 0.0764 - accuracy: 0.9693\n",
      "Epoch 88/100\n",
      "29/29 [==============================] - 0s 570us/step - loss: 0.0758 - accuracy: 0.9693\n",
      "Epoch 89/100\n",
      "29/29 [==============================] - 0s 570us/step - loss: 0.0755 - accuracy: 0.9693\n",
      "Epoch 90/100\n",
      "29/29 [==============================] - 0s 570us/step - loss: 0.0749 - accuracy: 0.9693\n",
      "Epoch 91/100\n",
      "29/29 [==============================] - 0s 570us/step - loss: 0.0751 - accuracy: 0.9693\n",
      "Epoch 92/100\n",
      "29/29 [==============================] - 0s 570us/step - loss: 0.0741 - accuracy: 0.9693\n",
      "Epoch 93/100\n",
      "29/29 [==============================] - 0s 570us/step - loss: 0.0739 - accuracy: 0.9693\n",
      "Epoch 94/100\n",
      "29/29 [==============================] - 0s 570us/step - loss: 0.0739 - accuracy: 0.9693\n",
      "Epoch 95/100\n",
      "29/29 [==============================] - 0s 570us/step - loss: 0.0730 - accuracy: 0.9704\n",
      "Epoch 96/100\n",
      "29/29 [==============================] - 0s 570us/step - loss: 0.0728 - accuracy: 0.9704\n",
      "Epoch 97/100\n",
      "29/29 [==============================] - 0s 570us/step - loss: 0.0728 - accuracy: 0.9693\n",
      "Epoch 98/100\n",
      "29/29 [==============================] - 0s 570us/step - loss: 0.0720 - accuracy: 0.9693\n",
      "Epoch 99/100\n",
      "29/29 [==============================] - 0s 570us/step - loss: 0.0715 - accuracy: 0.9693\n",
      "Epoch 100/100\n",
      "29/29 [==============================] - 0s 570us/step - loss: 0.0714 - accuracy: 0.9693\n",
      "10/10 - 0s - loss: 0.0704 - accuracy: 0.9738 - 70ms/epoch - 7ms/step\n",
      "Loss: 0.07041539996862411, Accuracy: 0.9737704992294312\n"
     ]
    }
   ],
   "source": [
    "# Neural Net model\n",
    "# Define the basic neural network model\n",
    "nn_model = tf.keras.models.Sequential()\n",
    "nn_model.add(tf.keras.layers.Dense(units=10, activation=\"relu\", input_dim=20))\n",
    "nn_model.add(tf.keras.layers.Dense(units=1, activation=\"sigmoid\"))\n",
    "\n",
    "# Compile the Sequential model together and customize metrics\n",
    "nn_model.compile(loss=\"binary_crossentropy\", optimizer=\"adam\", metrics=[\"accuracy\"])\n",
    "\n",
    "# Train the model\n",
    "fit_model = nn_model.fit(X_train_scaled, y_train, epochs=100)\n",
    "\n",
    "# Evaluate the model using the test data\n",
    "model_loss, model_accuracy = nn_model.evaluate(X_test_scaled,y_test,verbose=2)\n",
    "print(f\"Loss: {model_loss}, Accuracy: {model_accuracy}\")"
   ]
  },
  {
   "cell_type": "markdown",
   "id": "25998614",
   "metadata": {},
   "source": [
    "## Deep Learning"
   ]
  },
  {
   "cell_type": "code",
   "execution_count": 206,
   "id": "01d7d515",
   "metadata": {},
   "outputs": [
    {
     "name": "stdout",
     "output_type": "stream",
     "text": [
      "Epoch 1/100\n",
      "29/29 [==============================] - 0s 641us/step - loss: 0.6387 - accuracy: 0.6974\n",
      "Epoch 2/100\n",
      "29/29 [==============================] - 0s 641us/step - loss: 0.4607 - accuracy: 0.8246\n",
      "Epoch 3/100\n",
      "29/29 [==============================] - 0s 642us/step - loss: 0.3710 - accuracy: 0.9090\n",
      "Epoch 4/100\n",
      "29/29 [==============================] - 0s 641us/step - loss: 0.3147 - accuracy: 0.9419\n",
      "Epoch 5/100\n",
      "29/29 [==============================] - 0s 606us/step - loss: 0.2715 - accuracy: 0.9539\n",
      "Epoch 6/100\n",
      "29/29 [==============================] - 0s 641us/step - loss: 0.2376 - accuracy: 0.9605\n",
      "Epoch 7/100\n",
      "29/29 [==============================] - 0s 606us/step - loss: 0.2116 - accuracy: 0.9616\n",
      "Epoch 8/100\n",
      "29/29 [==============================] - 0s 641us/step - loss: 0.1929 - accuracy: 0.9616\n",
      "Epoch 9/100\n",
      "29/29 [==============================] - 0s 606us/step - loss: 0.1774 - accuracy: 0.9660\n",
      "Epoch 10/100\n",
      "29/29 [==============================] - 0s 641us/step - loss: 0.1637 - accuracy: 0.9660\n",
      "Epoch 11/100\n",
      "29/29 [==============================] - 0s 641us/step - loss: 0.1542 - accuracy: 0.9660\n",
      "Epoch 12/100\n",
      "29/29 [==============================] - 0s 606us/step - loss: 0.1464 - accuracy: 0.9660\n",
      "Epoch 13/100\n",
      "29/29 [==============================] - 0s 641us/step - loss: 0.1401 - accuracy: 0.9671\n",
      "Epoch 14/100\n",
      "29/29 [==============================] - 0s 605us/step - loss: 0.1342 - accuracy: 0.9660\n",
      "Epoch 15/100\n",
      "29/29 [==============================] - 0s 641us/step - loss: 0.1301 - accuracy: 0.9660\n",
      "Epoch 16/100\n",
      "29/29 [==============================] - 0s 641us/step - loss: 0.1252 - accuracy: 0.9671\n",
      "Epoch 17/100\n",
      "29/29 [==============================] - 0s 641us/step - loss: 0.1214 - accuracy: 0.9660\n",
      "Epoch 18/100\n",
      "29/29 [==============================] - 0s 641us/step - loss: 0.1176 - accuracy: 0.9693\n",
      "Epoch 19/100\n",
      "29/29 [==============================] - 0s 641us/step - loss: 0.1151 - accuracy: 0.9660\n",
      "Epoch 20/100\n",
      "29/29 [==============================] - 0s 641us/step - loss: 0.1132 - accuracy: 0.9704\n",
      "Epoch 21/100\n",
      "29/29 [==============================] - 0s 606us/step - loss: 0.1100 - accuracy: 0.9693\n",
      "Epoch 22/100\n",
      "29/29 [==============================] - 0s 641us/step - loss: 0.1076 - accuracy: 0.9693\n",
      "Epoch 23/100\n",
      "29/29 [==============================] - 0s 606us/step - loss: 0.1057 - accuracy: 0.9704\n",
      "Epoch 24/100\n",
      "29/29 [==============================] - 0s 606us/step - loss: 0.1039 - accuracy: 0.9704\n",
      "Epoch 25/100\n",
      "29/29 [==============================] - 0s 606us/step - loss: 0.1022 - accuracy: 0.9704\n",
      "Epoch 26/100\n",
      "29/29 [==============================] - 0s 641us/step - loss: 0.1020 - accuracy: 0.9682\n",
      "Epoch 27/100\n",
      "29/29 [==============================] - 0s 677us/step - loss: 0.1007 - accuracy: 0.9682\n",
      "Epoch 28/100\n",
      "29/29 [==============================] - 0s 641us/step - loss: 0.0991 - accuracy: 0.9704\n",
      "Epoch 29/100\n",
      "29/29 [==============================] - 0s 677us/step - loss: 0.0984 - accuracy: 0.9682\n",
      "Epoch 30/100\n",
      "29/29 [==============================] - 0s 641us/step - loss: 0.0964 - accuracy: 0.9693\n",
      "Epoch 31/100\n",
      "29/29 [==============================] - 0s 641us/step - loss: 0.0957 - accuracy: 0.9671\n",
      "Epoch 32/100\n",
      "29/29 [==============================] - 0s 677us/step - loss: 0.0947 - accuracy: 0.9704\n",
      "Epoch 33/100\n",
      "29/29 [==============================] - 0s 677us/step - loss: 0.0930 - accuracy: 0.9693\n",
      "Epoch 34/100\n",
      "29/29 [==============================] - 0s 641us/step - loss: 0.0926 - accuracy: 0.9704\n",
      "Epoch 35/100\n",
      "29/29 [==============================] - 0s 641us/step - loss: 0.0910 - accuracy: 0.9693\n",
      "Epoch 36/100\n",
      "29/29 [==============================] - 0s 712us/step - loss: 0.0898 - accuracy: 0.9704\n",
      "Epoch 37/100\n",
      "29/29 [==============================] - 0s 677us/step - loss: 0.0898 - accuracy: 0.9693\n",
      "Epoch 38/100\n",
      "29/29 [==============================] - 0s 606us/step - loss: 0.0885 - accuracy: 0.9693\n",
      "Epoch 39/100\n",
      "29/29 [==============================] - 0s 641us/step - loss: 0.0879 - accuracy: 0.9693\n",
      "Epoch 40/100\n",
      "29/29 [==============================] - 0s 641us/step - loss: 0.0866 - accuracy: 0.9682\n",
      "Epoch 41/100\n",
      "29/29 [==============================] - 0s 641us/step - loss: 0.0865 - accuracy: 0.9682\n",
      "Epoch 42/100\n",
      "29/29 [==============================] - 0s 641us/step - loss: 0.0859 - accuracy: 0.9715\n",
      "Epoch 43/100\n",
      "29/29 [==============================] - 0s 641us/step - loss: 0.0849 - accuracy: 0.9693\n",
      "Epoch 44/100\n",
      "29/29 [==============================] - 0s 677us/step - loss: 0.0844 - accuracy: 0.9704\n",
      "Epoch 45/100\n",
      "29/29 [==============================] - 0s 677us/step - loss: 0.0837 - accuracy: 0.9704\n",
      "Epoch 46/100\n",
      "29/29 [==============================] - 0s 677us/step - loss: 0.0837 - accuracy: 0.9704\n",
      "Epoch 47/100\n",
      "29/29 [==============================] - 0s 641us/step - loss: 0.0832 - accuracy: 0.9693\n",
      "Epoch 48/100\n",
      "29/29 [==============================] - 0s 677us/step - loss: 0.0820 - accuracy: 0.9693\n",
      "Epoch 49/100\n",
      "29/29 [==============================] - 0s 677us/step - loss: 0.0820 - accuracy: 0.9726\n",
      "Epoch 50/100\n",
      "29/29 [==============================] - 0s 641us/step - loss: 0.0812 - accuracy: 0.9704\n",
      "Epoch 51/100\n",
      "29/29 [==============================] - 0s 677us/step - loss: 0.0814 - accuracy: 0.9704\n",
      "Epoch 52/100\n",
      "29/29 [==============================] - 0s 677us/step - loss: 0.0811 - accuracy: 0.9693\n",
      "Epoch 53/100\n",
      "29/29 [==============================] - 0s 641us/step - loss: 0.0793 - accuracy: 0.9715\n",
      "Epoch 54/100\n",
      "29/29 [==============================] - 0s 677us/step - loss: 0.0788 - accuracy: 0.9715\n",
      "Epoch 55/100\n",
      "29/29 [==============================] - 0s 641us/step - loss: 0.0788 - accuracy: 0.9715\n",
      "Epoch 56/100\n",
      "29/29 [==============================] - 0s 677us/step - loss: 0.0789 - accuracy: 0.9726\n",
      "Epoch 57/100\n",
      "29/29 [==============================] - 0s 677us/step - loss: 0.0786 - accuracy: 0.9726\n",
      "Epoch 58/100\n",
      "29/29 [==============================] - 0s 641us/step - loss: 0.0771 - accuracy: 0.9715\n",
      "Epoch 59/100\n",
      "29/29 [==============================] - 0s 641us/step - loss: 0.0768 - accuracy: 0.9726\n",
      "Epoch 60/100\n",
      "29/29 [==============================] - 0s 677us/step - loss: 0.0768 - accuracy: 0.9726\n",
      "Epoch 61/100\n",
      "29/29 [==============================] - 0s 677us/step - loss: 0.0756 - accuracy: 0.9726\n",
      "Epoch 62/100\n",
      "29/29 [==============================] - 0s 641us/step - loss: 0.0758 - accuracy: 0.9726\n",
      "Epoch 63/100\n",
      "29/29 [==============================] - 0s 641us/step - loss: 0.0758 - accuracy: 0.9737\n",
      "Epoch 64/100\n",
      "29/29 [==============================] - 0s 641us/step - loss: 0.0749 - accuracy: 0.9748\n",
      "Epoch 65/100\n",
      "29/29 [==============================] - 0s 641us/step - loss: 0.0764 - accuracy: 0.9715\n",
      "Epoch 66/100\n",
      "29/29 [==============================] - 0s 641us/step - loss: 0.0738 - accuracy: 0.9737\n",
      "Epoch 67/100\n",
      "29/29 [==============================] - 0s 606us/step - loss: 0.0739 - accuracy: 0.9726\n",
      "Epoch 68/100\n",
      "29/29 [==============================] - 0s 606us/step - loss: 0.0733 - accuracy: 0.9737\n",
      "Epoch 69/100\n",
      "29/29 [==============================] - 0s 641us/step - loss: 0.0741 - accuracy: 0.9737\n",
      "Epoch 70/100\n",
      "29/29 [==============================] - 0s 641us/step - loss: 0.0727 - accuracy: 0.9726\n",
      "Epoch 71/100\n",
      "29/29 [==============================] - 0s 641us/step - loss: 0.0725 - accuracy: 0.9737\n",
      "Epoch 72/100\n",
      "29/29 [==============================] - 0s 641us/step - loss: 0.0730 - accuracy: 0.9726\n",
      "Epoch 73/100\n",
      "29/29 [==============================] - 0s 606us/step - loss: 0.0723 - accuracy: 0.9726\n",
      "Epoch 74/100\n",
      "29/29 [==============================] - 0s 606us/step - loss: 0.0725 - accuracy: 0.9737\n",
      "Epoch 75/100\n",
      "29/29 [==============================] - 0s 641us/step - loss: 0.0729 - accuracy: 0.9726\n",
      "Epoch 76/100\n",
      "29/29 [==============================] - 0s 641us/step - loss: 0.0710 - accuracy: 0.9759\n",
      "Epoch 77/100\n",
      "29/29 [==============================] - 0s 605us/step - loss: 0.0710 - accuracy: 0.9726\n",
      "Epoch 78/100\n",
      "29/29 [==============================] - 0s 641us/step - loss: 0.0698 - accuracy: 0.9737\n",
      "Epoch 79/100\n",
      "29/29 [==============================] - 0s 606us/step - loss: 0.0702 - accuracy: 0.9737\n",
      "Epoch 80/100\n",
      "29/29 [==============================] - 0s 641us/step - loss: 0.0713 - accuracy: 0.9759\n",
      "Epoch 81/100\n"
     ]
    },
    {
     "name": "stdout",
     "output_type": "stream",
     "text": [
      "29/29 [==============================] - 0s 606us/step - loss: 0.0699 - accuracy: 0.9726\n",
      "Epoch 82/100\n",
      "29/29 [==============================] - 0s 641us/step - loss: 0.0692 - accuracy: 0.9748\n",
      "Epoch 83/100\n",
      "29/29 [==============================] - 0s 606us/step - loss: 0.0694 - accuracy: 0.9726\n",
      "Epoch 84/100\n",
      "29/29 [==============================] - 0s 606us/step - loss: 0.0693 - accuracy: 0.9715\n",
      "Epoch 85/100\n",
      "29/29 [==============================] - 0s 641us/step - loss: 0.0685 - accuracy: 0.9759\n",
      "Epoch 86/100\n",
      "29/29 [==============================] - 0s 606us/step - loss: 0.0679 - accuracy: 0.9748\n",
      "Epoch 87/100\n",
      "29/29 [==============================] - 0s 606us/step - loss: 0.0672 - accuracy: 0.9748\n",
      "Epoch 88/100\n",
      "29/29 [==============================] - 0s 641us/step - loss: 0.0692 - accuracy: 0.9737\n",
      "Epoch 89/100\n",
      "29/29 [==============================] - 0s 606us/step - loss: 0.0675 - accuracy: 0.9748\n",
      "Epoch 90/100\n",
      "29/29 [==============================] - 0s 641us/step - loss: 0.0679 - accuracy: 0.9748\n",
      "Epoch 91/100\n",
      "29/29 [==============================] - 0s 606us/step - loss: 0.0667 - accuracy: 0.9726\n",
      "Epoch 92/100\n",
      "29/29 [==============================] - 0s 641us/step - loss: 0.0667 - accuracy: 0.9726\n",
      "Epoch 93/100\n",
      "29/29 [==============================] - 0s 606us/step - loss: 0.0667 - accuracy: 0.9726\n",
      "Epoch 94/100\n",
      "29/29 [==============================] - 0s 641us/step - loss: 0.0654 - accuracy: 0.9748\n",
      "Epoch 95/100\n",
      "29/29 [==============================] - 0s 606us/step - loss: 0.0653 - accuracy: 0.9748\n",
      "Epoch 96/100\n",
      "29/29 [==============================] - 0s 641us/step - loss: 0.0651 - accuracy: 0.9737\n",
      "Epoch 97/100\n",
      "29/29 [==============================] - 0s 606us/step - loss: 0.0653 - accuracy: 0.9748\n",
      "Epoch 98/100\n",
      "29/29 [==============================] - 0s 641us/step - loss: 0.0646 - accuracy: 0.9748\n",
      "Epoch 99/100\n",
      "29/29 [==============================] - 0s 641us/step - loss: 0.0647 - accuracy: 0.9737\n",
      "Epoch 100/100\n",
      "29/29 [==============================] - 0s 641us/step - loss: 0.0635 - accuracy: 0.9748\n",
      "10/10 - 0s - loss: 0.0617 - accuracy: 0.9770 - 76ms/epoch - 8ms/step\n",
      "Loss: 0.0617479532957077, Accuracy: 0.9770491719245911\n"
     ]
    }
   ],
   "source": [
    "# Define the model - deep neural net\n",
    "number_input_features = len(X_train_scaled[0])\n",
    "hidden_nodes_layer1 = 10\n",
    "hidden_nodes_layer2 = 5\n",
    "\n",
    "nn = tf.keras.models.Sequential()\n",
    "\n",
    "# First hidden layer\n",
    "nn.add(\n",
    "    tf.keras.layers.Dense(units=hidden_nodes_layer1, input_dim=number_input_features, activation=\"relu\")\n",
    ")\n",
    "\n",
    "# Second hidden layer\n",
    "nn.add(tf.keras.layers.Dense(units=hidden_nodes_layer2, activation=\"relu\"))\n",
    "\n",
    "\n",
    "# Output layer\n",
    "nn.add(tf.keras.layers.Dense(units=1, activation=\"sigmoid\"))\n",
    "\n",
    "# Compile the Sequential model together and customize metrics\n",
    "nn.compile(loss=\"binary_crossentropy\", optimizer=\"adam\", metrics=[\"accuracy\"])\n",
    "\n",
    "# Train the model\n",
    "fit_model = nn.fit(X_train_scaled, y_train, epochs=100)\n",
    "\n",
    "# Evaluate the model using the test data\n",
    "model_loss, model_accuracy = nn.evaluate(X_test_scaled,y_test,verbose=2)\n",
    "print(f\"Loss: {model_loss}, Accuracy: {model_accuracy}\")"
   ]
  },
  {
   "cell_type": "code",
   "execution_count": null,
   "id": "7d38bfff",
   "metadata": {},
   "outputs": [],
   "source": []
  }
 ],
 "metadata": {
  "kernelspec": {
   "display_name": "mlenv",
   "language": "python",
   "name": "mlenv"
  },
  "language_info": {
   "codemirror_mode": {
    "name": "ipython",
    "version": 3
   },
   "file_extension": ".py",
   "mimetype": "text/x-python",
   "name": "python",
   "nbconvert_exporter": "python",
   "pygments_lexer": "ipython3",
   "version": "3.7.11"
  }
 },
 "nbformat": 4,
 "nbformat_minor": 5
}
