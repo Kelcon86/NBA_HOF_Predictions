{
 "cells": [
  {
   "cell_type": "markdown",
   "id": "8e6b918b",
   "metadata": {},
   "source": [
    "### Imports and Loading Data"
   ]
  },
  {
   "cell_type": "code",
   "execution_count": 1,
   "id": "21721210",
   "metadata": {},
   "outputs": [],
   "source": [
    "# imports\n",
    "import pandas as pd\n",
    "import psycopg2\n",
    "import config as c\n",
    "\n",
    "# import for multiple output per cell\n",
    "from IPython.core.interactiveshell import InteractiveShell\n",
    "InteractiveShell.ast_node_interactivity = \"all\""
   ]
  },
  {
   "cell_type": "code",
   "execution_count": 2,
   "id": "48228734",
   "metadata": {},
   "outputs": [],
   "source": [
    "# connection to database\n",
    "connection = psycopg2.connect(\n",
    "    host = c.host,\n",
    "    port = c.port,\n",
    "    user = c.user,\n",
    "    password = c.password,\n",
    "    database = c.database\n",
    "    )\n",
    "cursor=connection.cursor()"
   ]
  },
  {
   "cell_type": "code",
   "execution_count": 3,
   "id": "98e957af",
   "metadata": {},
   "outputs": [],
   "source": [
    "# SQL query\n",
    "data_sql = \"\"\"\n",
    "SELECT *\n",
    "FROM final_dataset;\n",
    "\"\"\"\n",
    "\n",
    "# load in tables as dataframes\n",
    "data_df = pd.read_sql(data_sql, con=connection)"
   ]
  },
  {
   "cell_type": "markdown",
   "id": "fe255791",
   "metadata": {},
   "source": [
    "### Preprocessing Based on Optimization Results"
   ]
  },
  {
   "cell_type": "code",
   "execution_count": 4,
   "id": "3d213d51",
   "metadata": {},
   "outputs": [],
   "source": [
    "# get_dummies to encode HallofFameClass column\n",
    "data_df = pd.get_dummies(data_df, prefix='HOF', columns=['HallOfFameStatus'])\n",
    "data_df.drop(['HOF_Not Inducted'], axis=1, inplace=True) # remove extra get_dummies column, drop_first no ideal\n",
    "\n",
    "# drop coulmns/features\n",
    "data_df.drop(['GUID',\n",
    "              'Name',\n",
    "              'HallofFameClass',\n",
    "              'YearDrafted',\n",
    "              'TO_YEAR',\n",
    "              'Years_Played',\n",
    "              'HOF_Elgibility_Year',\n",
    "              'Team',\n",
    "              'College',\n",
    "              'GP',\n",
    "              'MIN',\n",
    "              'idPlayer',\n",
    "              'BIRTHDATE',\n",
    "              'POSITION',\n",
    "              'AGE_ROOKIE_SEASON',\n",
    "              'Draft_Decade',\n",
    "              'numBallotsBeforeInduct'], \n",
    "             axis=1, inplace=True)"
   ]
  },
  {
   "cell_type": "markdown",
   "id": "7abc0649",
   "metadata": {},
   "source": [
    "### Fit Model"
   ]
  },
  {
   "cell_type": "code",
   "execution_count": 5,
   "id": "362eb4bc",
   "metadata": {},
   "outputs": [],
   "source": [
    "# ML imports\n",
    "from collections import Counter\n",
    "from sklearn.model_selection import train_test_split\n",
    "from imblearn.over_sampling import RandomOverSampler\n",
    "from sklearn.linear_model import LogisticRegression"
   ]
  },
  {
   "cell_type": "code",
   "execution_count": 6,
   "id": "c6d486c5",
   "metadata": {},
   "outputs": [],
   "source": [
    "# create our features\n",
    "X = data_df.drop(['HOF_Hall of Fame Member'], axis=1)\n",
    "\n",
    "# create our target\n",
    "y = data_df['HOF_Hall of Fame Member']"
   ]
  },
  {
   "cell_type": "code",
   "execution_count": 7,
   "id": "584b8440",
   "metadata": {},
   "outputs": [
    {
     "data": {
      "text/plain": [
       "Counter({0: 880, 1: 32})"
      ]
     },
     "execution_count": 7,
     "metadata": {},
     "output_type": "execute_result"
    }
   ],
   "source": [
    "# normal train-test split\n",
    "X_train, X_test, y_train, y_test = train_test_split(X, y, random_state=2)\n",
    "Counter(y_train)"
   ]
  },
  {
   "cell_type": "code",
   "execution_count": 9,
   "id": "3cc3d5a9",
   "metadata": {},
   "outputs": [
    {
     "data": {
      "text/plain": [
       "Counter({0: 880, 1: 880})"
      ]
     },
     "execution_count": 9,
     "metadata": {},
     "output_type": "execute_result"
    }
   ],
   "source": [
    "## implement SVM SMOTE resampling\n",
    "X_resampled, y_resampled = RandomOverSampler(random_state=2, sampling_strategy='auto').fit_resample(X_train, y_train)\n",
    "Counter(y_resampled)"
   ]
  },
  {
   "cell_type": "code",
   "execution_count": 10,
   "id": "03bfc673",
   "metadata": {},
   "outputs": [
    {
     "data": {
      "text/plain": [
       "LogisticRegression(random_state=2, solver='liblinear')"
      ]
     },
     "execution_count": 10,
     "metadata": {},
     "output_type": "execute_result"
    }
   ],
   "source": [
    "# logistic regression using SVM SMOTE data\n",
    "model = LogisticRegression(solver='liblinear', random_state=2)\n",
    "model.fit(X_resampled, y_resampled)"
   ]
  },
  {
   "cell_type": "markdown",
   "id": "b8236e9a",
   "metadata": {},
   "source": [
    "### Save Model"
   ]
  },
  {
   "cell_type": "code",
   "execution_count": 11,
   "id": "f4c401d8",
   "metadata": {},
   "outputs": [],
   "source": [
    "# import \n",
    "import pickle\n",
    "\n",
    "# open file and load model\n",
    "pickle.dump(model, open('ml_model.sav', 'wb'))"
   ]
  },
  {
   "cell_type": "code",
   "execution_count": null,
   "id": "1473635d",
   "metadata": {},
   "outputs": [],
   "source": []
  }
 ],
 "metadata": {
  "kernelspec": {
   "display_name": "mlenv",
   "language": "python",
   "name": "mlenv"
  },
  "language_info": {
   "codemirror_mode": {
    "name": "ipython",
    "version": 3
   },
   "file_extension": ".py",
   "mimetype": "text/x-python",
   "name": "python",
   "nbconvert_exporter": "python",
   "pygments_lexer": "ipython3",
   "version": "3.7.11"
  }
 },
 "nbformat": 4,
 "nbformat_minor": 5
}
