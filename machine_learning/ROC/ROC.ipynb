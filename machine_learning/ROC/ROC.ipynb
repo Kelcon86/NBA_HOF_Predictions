{
 "cells": [
  {
   "cell_type": "markdown",
   "id": "8e6b918b",
   "metadata": {},
   "source": [
    "### Imports and Loading Data"
   ]
  },
  {
   "cell_type": "code",
   "execution_count": 15,
   "id": "21721210",
   "metadata": {},
   "outputs": [],
   "source": [
    "# imports\n",
    "import pandas as pd\n",
    "import psycopg2\n",
    "import config as c"
   ]
  },
  {
   "cell_type": "code",
   "execution_count": 16,
   "id": "48228734",
   "metadata": {},
   "outputs": [],
   "source": [
    "# connection to database\n",
    "connection = psycopg2.connect(\n",
    "    host = c.host,\n",
    "    port = c.port,\n",
    "    user = c.user,\n",
    "    password = c.password,\n",
    "    database = c.database\n",
    "    )\n",
    "cursor=connection.cursor()"
   ]
  },
  {
   "cell_type": "code",
   "execution_count": 17,
   "id": "98e957af",
   "metadata": {},
   "outputs": [],
   "source": [
    "# SQL query\n",
    "data_sql = \"\"\"\n",
    "SELECT *\n",
    "FROM final_dataset;\n",
    "\"\"\"\n",
    "\n",
    "# load in tables as dataframes\n",
    "data_df = pd.read_sql(data_sql, con=connection)"
   ]
  },
  {
   "cell_type": "markdown",
   "id": "fe255791",
   "metadata": {},
   "source": [
    "### Preprocessing Based on Optimization Results"
   ]
  },
  {
   "cell_type": "code",
   "execution_count": 18,
   "id": "3d213d51",
   "metadata": {},
   "outputs": [
    {
     "data": {
      "text/html": [
       "<div>\n",
       "<style scoped>\n",
       "    .dataframe tbody tr th:only-of-type {\n",
       "        vertical-align: middle;\n",
       "    }\n",
       "\n",
       "    .dataframe tbody tr th {\n",
       "        vertical-align: top;\n",
       "    }\n",
       "\n",
       "    .dataframe thead th {\n",
       "        text-align: right;\n",
       "    }\n",
       "</style>\n",
       "<table border=\"1\" class=\"dataframe\">\n",
       "  <thead>\n",
       "    <tr style=\"text-align: right;\">\n",
       "      <th></th>\n",
       "      <th>Pick</th>\n",
       "      <th>PTS</th>\n",
       "      <th>FGM</th>\n",
       "      <th>FGA</th>\n",
       "      <th>FG%</th>\n",
       "      <th>3P_Made</th>\n",
       "      <th>3PA</th>\n",
       "      <th>3P%</th>\n",
       "      <th>FTM</th>\n",
       "      <th>FTA</th>\n",
       "      <th>...</th>\n",
       "      <th>OREB</th>\n",
       "      <th>DREB</th>\n",
       "      <th>REB</th>\n",
       "      <th>AST</th>\n",
       "      <th>STL</th>\n",
       "      <th>BLK</th>\n",
       "      <th>TOV</th>\n",
       "      <th>EFF</th>\n",
       "      <th>numberRound</th>\n",
       "      <th>HOF_Hall of Fame Member</th>\n",
       "    </tr>\n",
       "  </thead>\n",
       "  <tbody>\n",
       "    <tr>\n",
       "      <th>0</th>\n",
       "      <td>21</td>\n",
       "      <td>6.3</td>\n",
       "      <td>2.8</td>\n",
       "      <td>5.2</td>\n",
       "      <td>53.3</td>\n",
       "      <td>0.0</td>\n",
       "      <td>0.1</td>\n",
       "      <td>0.0</td>\n",
       "      <td>0.8</td>\n",
       "      <td>1.3</td>\n",
       "      <td>...</td>\n",
       "      <td>1.7</td>\n",
       "      <td>3.5</td>\n",
       "      <td>5.2</td>\n",
       "      <td>0.4</td>\n",
       "      <td>0.5</td>\n",
       "      <td>0.5</td>\n",
       "      <td>1.0</td>\n",
       "      <td>9.0</td>\n",
       "      <td>1</td>\n",
       "      <td>0</td>\n",
       "    </tr>\n",
       "    <tr>\n",
       "      <th>1</th>\n",
       "      <td>26</td>\n",
       "      <td>5.6</td>\n",
       "      <td>1.9</td>\n",
       "      <td>6.0</td>\n",
       "      <td>32.3</td>\n",
       "      <td>1.1</td>\n",
       "      <td>3.6</td>\n",
       "      <td>30.1</td>\n",
       "      <td>0.7</td>\n",
       "      <td>0.8</td>\n",
       "      <td>...</td>\n",
       "      <td>0.5</td>\n",
       "      <td>1.6</td>\n",
       "      <td>2.0</td>\n",
       "      <td>0.5</td>\n",
       "      <td>0.5</td>\n",
       "      <td>0.3</td>\n",
       "      <td>0.5</td>\n",
       "      <td>4.3</td>\n",
       "      <td>1</td>\n",
       "      <td>0</td>\n",
       "    </tr>\n",
       "    <tr>\n",
       "      <th>2</th>\n",
       "      <td>32</td>\n",
       "      <td>7.9</td>\n",
       "      <td>2.8</td>\n",
       "      <td>7.0</td>\n",
       "      <td>39.6</td>\n",
       "      <td>0.7</td>\n",
       "      <td>2.4</td>\n",
       "      <td>28.7</td>\n",
       "      <td>1.6</td>\n",
       "      <td>2.1</td>\n",
       "      <td>...</td>\n",
       "      <td>1.0</td>\n",
       "      <td>2.2</td>\n",
       "      <td>3.2</td>\n",
       "      <td>1.2</td>\n",
       "      <td>0.7</td>\n",
       "      <td>1.1</td>\n",
       "      <td>1.7</td>\n",
       "      <td>7.6</td>\n",
       "      <td>2</td>\n",
       "      <td>0</td>\n",
       "    </tr>\n",
       "    <tr>\n",
       "      <th>3</th>\n",
       "      <td>34</td>\n",
       "      <td>5.4</td>\n",
       "      <td>1.9</td>\n",
       "      <td>5.5</td>\n",
       "      <td>35.5</td>\n",
       "      <td>0.6</td>\n",
       "      <td>2.2</td>\n",
       "      <td>26.2</td>\n",
       "      <td>0.9</td>\n",
       "      <td>1.2</td>\n",
       "      <td>...</td>\n",
       "      <td>0.6</td>\n",
       "      <td>1.9</td>\n",
       "      <td>2.5</td>\n",
       "      <td>0.9</td>\n",
       "      <td>0.6</td>\n",
       "      <td>0.3</td>\n",
       "      <td>1.0</td>\n",
       "      <td>4.8</td>\n",
       "      <td>2</td>\n",
       "      <td>0</td>\n",
       "    </tr>\n",
       "    <tr>\n",
       "      <th>4</th>\n",
       "      <td>60</td>\n",
       "      <td>3.7</td>\n",
       "      <td>1.5</td>\n",
       "      <td>3.3</td>\n",
       "      <td>44.9</td>\n",
       "      <td>0.0</td>\n",
       "      <td>0.3</td>\n",
       "      <td>13.3</td>\n",
       "      <td>0.6</td>\n",
       "      <td>1.1</td>\n",
       "      <td>...</td>\n",
       "      <td>0.9</td>\n",
       "      <td>2.0</td>\n",
       "      <td>2.9</td>\n",
       "      <td>0.3</td>\n",
       "      <td>0.2</td>\n",
       "      <td>0.4</td>\n",
       "      <td>0.4</td>\n",
       "      <td>4.8</td>\n",
       "      <td>2</td>\n",
       "      <td>0</td>\n",
       "    </tr>\n",
       "  </tbody>\n",
       "</table>\n",
       "<p>5 rows × 21 columns</p>\n",
       "</div>"
      ],
      "text/plain": [
       "   Pick  PTS  FGM  FGA   FG%  3P_Made  3PA   3P%  FTM  FTA  ...  OREB  DREB  \\\n",
       "0    21  6.3  2.8  5.2  53.3      0.0  0.1   0.0  0.8  1.3  ...   1.7   3.5   \n",
       "1    26  5.6  1.9  6.0  32.3      1.1  3.6  30.1  0.7  0.8  ...   0.5   1.6   \n",
       "2    32  7.9  2.8  7.0  39.6      0.7  2.4  28.7  1.6  2.1  ...   1.0   2.2   \n",
       "3    34  5.4  1.9  5.5  35.5      0.6  2.2  26.2  0.9  1.2  ...   0.6   1.9   \n",
       "4    60  3.7  1.5  3.3  44.9      0.0  0.3  13.3  0.6  1.1  ...   0.9   2.0   \n",
       "\n",
       "   REB  AST  STL  BLK  TOV  EFF  numberRound  HOF_Hall of Fame Member  \n",
       "0  5.2  0.4  0.5  0.5  1.0  9.0            1                        0  \n",
       "1  2.0  0.5  0.5  0.3  0.5  4.3            1                        0  \n",
       "2  3.2  1.2  0.7  1.1  1.7  7.6            2                        0  \n",
       "3  2.5  0.9  0.6  0.3  1.0  4.8            2                        0  \n",
       "4  2.9  0.3  0.2  0.4  0.4  4.8            2                        0  \n",
       "\n",
       "[5 rows x 21 columns]"
      ]
     },
     "execution_count": 18,
     "metadata": {},
     "output_type": "execute_result"
    }
   ],
   "source": [
    "# get_dummies to encode HallofFameClass column\n",
    "data_df = pd.get_dummies(data_df, prefix='HOF', columns=['HallOfFameStatus'])\n",
    "data_df.drop(['HOF_Not Inducted'], axis=1, inplace=True) # remove extra get_dummies column, drop_first no ideal\n",
    "\n",
    "# drop coulmns/features\n",
    "data_df.drop(['GUID',\n",
    "              'Name',\n",
    "              'HallofFameClass',\n",
    "              'YearDrafted',\n",
    "              'TO_YEAR',\n",
    "              'Years_Played',\n",
    "              'HOF_Elgibility_Year',\n",
    "              'Team',\n",
    "              'College',\n",
    "              'GP',\n",
    "              'MIN',\n",
    "              'idPlayer',\n",
    "              'BIRTHDATE',\n",
    "              'POSITION',\n",
    "              'AGE_ROOKIE_SEASON',\n",
    "              'Draft_Decade',\n",
    "              'numBallotsBeforeInduct',\n",
    "              'index',\n",
    "              'ML_Prediction'], \n",
    "             axis=1, inplace=True)\n",
    "data_df.head()"
   ]
  },
  {
   "cell_type": "markdown",
   "id": "7abc0649",
   "metadata": {},
   "source": [
    "### Fit Model"
   ]
  },
  {
   "cell_type": "code",
   "execution_count": 19,
   "id": "362eb4bc",
   "metadata": {},
   "outputs": [],
   "source": [
    "# ML imports\n",
    "from collections import Counter\n",
    "from sklearn.model_selection import train_test_split\n",
    "from imblearn.over_sampling import RandomOverSampler\n",
    "from sklearn.linear_model import LogisticRegression"
   ]
  },
  {
   "cell_type": "code",
   "execution_count": 20,
   "id": "c6d486c5",
   "metadata": {},
   "outputs": [],
   "source": [
    "# create our features\n",
    "X = data_df.drop(['HOF_Hall of Fame Member'], axis=1)\n",
    "\n",
    "# create our target\n",
    "y = data_df['HOF_Hall of Fame Member']"
   ]
  },
  {
   "cell_type": "code",
   "execution_count": 21,
   "id": "584b8440",
   "metadata": {},
   "outputs": [
    {
     "data": {
      "text/plain": [
       "Counter({0: 882, 1: 30})"
      ]
     },
     "execution_count": 21,
     "metadata": {},
     "output_type": "execute_result"
    }
   ],
   "source": [
    "# normal train-test split\n",
    "X_train, X_test, y_train, y_test = train_test_split(X, y, random_state=2)\n",
    "Counter(y_train)"
   ]
  },
  {
   "cell_type": "code",
   "execution_count": 22,
   "id": "3cc3d5a9",
   "metadata": {},
   "outputs": [
    {
     "data": {
      "text/plain": [
       "Counter({0: 882, 1: 882})"
      ]
     },
     "execution_count": 22,
     "metadata": {},
     "output_type": "execute_result"
    }
   ],
   "source": [
    "## implement RandomOverSampler resampling\n",
    "X_resampled, y_resampled = RandomOverSampler(random_state=2, sampling_strategy='auto').fit_resample(X_train, y_train)\n",
    "Counter(y_resampled)"
   ]
  },
  {
   "cell_type": "code",
   "execution_count": 23,
   "id": "03bfc673",
   "metadata": {},
   "outputs": [
    {
     "data": {
      "text/plain": [
       "LogisticRegression(random_state=2, solver='liblinear')"
      ]
     },
     "execution_count": 23,
     "metadata": {},
     "output_type": "execute_result"
    }
   ],
   "source": [
    "# logistic regression using RandomOverSampler data\n",
    "model = LogisticRegression(solver='liblinear', random_state=2)\n",
    "model.fit(X_resampled, y_resampled)"
   ]
  },
  {
   "cell_type": "markdown",
   "id": "b8236e9a",
   "metadata": {},
   "source": [
    "### ROC Plot"
   ]
  },
  {
   "cell_type": "code",
   "execution_count": 38,
   "id": "f4c401d8",
   "metadata": {},
   "outputs": [
    {
     "name": "stdout",
     "output_type": "stream",
     "text": [
      "\n"
     ]
    },
    {
     "data": {
      "image/png": "[encoded data removed]",
      "text/plain": [
       "<Figure size 432x288 with 1 Axes>"
      ]
     },
     "metadata": {
      "needs_background": "light"
     },
     "output_type": "display_data"
    }
   ],
   "source": [
    "# import\n",
    "import sklearn.metrics as metrics\n",
    "import matplotlib.pyplot as plt\n",
    "\n",
    "# defintions\n",
    "predictions = model.predict_proba(X_test)\n",
    "preds = predictions[:,1]\n",
    "fpr, tpr, threshold = metrics.roc_curve(y_test, preds)\n",
    "roc_auc = metrics.auc(fpr, tpr)\n",
    "\n",
    "# generate plot\n",
    "plt.title('Receiver Operating Characteristic')\n",
    "plt.plot(fpr, tpr, 'b', label = 'AUC = %0.2f' % roc_auc)\n",
    "plt.legend(loc = 'lower right', prop={'size': 15})\n",
    "plt.plot([0, 1], [0, 1],'r--')\n",
    "plt.xlim([0, 1])\n",
    "plt.ylim([0, 1])\n",
    "plt.ylabel('True Positive Rate')\n",
    "plt.xlabel('False Positive Rate')\n",
    "\n",
    "# source\n",
    "# https://stackoverflow.com/questions/25009284/how-to-plot-roc-curve-in-python"
   ]
  },
  {
   "cell_type": "code",
   "execution_count": null,
   "id": "1473635d",
   "metadata": {},
   "outputs": [],
   "source": []
  }
 ],
 "metadata": {
  "kernelspec": {
   "display_name": "mlenv",
   "language": "python",
   "name": "mlenv"
  },
  "language_info": {
   "codemirror_mode": {
    "name": "ipython",
    "version": 3
   },
   "file_extension": ".py",
   "mimetype": "text/x-python",
   "name": "python",
   "nbconvert_exporter": "python",
   "pygments_lexer": "ipython3",
   "version": "3.7.11"
  }
 },
 "nbformat": 4,
 "nbformat_minor": 5
}
