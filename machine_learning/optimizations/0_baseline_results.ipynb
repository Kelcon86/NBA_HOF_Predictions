{
 "cells": [
  {
   "cell_type": "markdown",
   "id": "f28fa517",
   "metadata": {},
   "source": [
    "### Imports and Preprocessing"
   ]
  },
  {
   "cell_type": "code",
   "execution_count": 1,
   "id": "21721210",
   "metadata": {},
   "outputs": [],
   "source": [
    "# imports\n",
    "import pandas as pd\n",
    "import sklearn as skl\n",
    "import psycopg2\n",
    "import config as c\n",
    "\n",
    "# import for multiple output per cell\n",
    "from IPython.core.interactiveshell import InteractiveShell\n",
    "InteractiveShell.ast_node_interactivity = \"all\""
   ]
  },
  {
   "cell_type": "code",
   "execution_count": 2,
   "id": "48228734",
   "metadata": {},
   "outputs": [],
   "source": [
    "# connection to database\n",
    "connection = psycopg2.connect(\n",
    "    host = c.host,\n",
    "    port = c.port,\n",
    "    user = c.user,\n",
    "    password = c.password,\n",
    "    database = c.database\n",
    "    )\n",
    "cursor=connection.cursor()"
   ]
  },
  {
   "cell_type": "code",
   "execution_count": 3,
   "id": "98e957af",
   "metadata": {},
   "outputs": [],
   "source": [
    "# SQL query\n",
    "data_sql = \"\"\"\n",
    "SELECT *\n",
    "FROM final_dataset;\n",
    "\"\"\"\n",
    "\n",
    "# load in tables as dataframes\n",
    "data_df = pd.read_sql(data_sql, con=connection)"
   ]
  },
  {
   "cell_type": "code",
   "execution_count": 4,
   "id": "f7472d6e",
   "metadata": {},
   "outputs": [],
   "source": [
    "# get_dummies to encode HallofFameClass column\n",
    "data_df = pd.get_dummies(data_df, prefix='HOF', columns=['HallOfFameStatus'])\n",
    "data_df.drop(['HOF_Not Inducted'], axis=1, inplace=True) # remove extra get_dummies column, drop_first no ideal\n",
    "\n",
    "# drop coulmns/features\n",
    "data_df.drop(['GUID',\n",
    "              'Name',\n",
    "              'HallofFameClass',\n",
    "              'YearDrafted',\n",
    "              'TO_YEAR',\n",
    "              'Years_Played',\n",
    "              'HOF_Elgibility_Year',\n",
    "              'Team',\n",
    "              'College',\n",
    "              'GP',\n",
    "              'MIN',\n",
    "              'idPlayer',\n",
    "              'BIRTHDATE',\n",
    "              'POSITION',\n",
    "              'AGE_ROOKIE_SEASON',\n",
    "              'Draft_Decade',\n",
    "              'numBallotsBeforeInduct'], \n",
    "             axis=1, inplace=True)"
   ]
  },
  {
   "cell_type": "markdown",
   "id": "06132115",
   "metadata": {},
   "source": [
    "## Machine Learning"
   ]
  },
  {
   "cell_type": "code",
   "execution_count": 5,
   "id": "362eb4bc",
   "metadata": {},
   "outputs": [],
   "source": [
    "# ML imports\n",
    "from collections import Counter\n",
    "from sklearn.model_selection import train_test_split\n",
    "from sklearn.linear_model import LogisticRegression\n",
    "from imblearn.over_sampling import RandomOverSampler\n",
    "from sklearn.metrics import confusion_matrix\n",
    "from sklearn.metrics import balanced_accuracy_score\n",
    "from imblearn.metrics import classification_report_imbalanced"
   ]
  },
  {
   "cell_type": "code",
   "execution_count": 6,
   "id": "c6d486c5",
   "metadata": {},
   "outputs": [],
   "source": [
    "# create our features\n",
    "X = data_df.drop(['HOF_Hall of Fame Member'], axis=1)\n",
    "\n",
    "# create our target\n",
    "y = data_df['HOF_Hall of Fame Member']"
   ]
  },
  {
   "cell_type": "code",
   "execution_count": 8,
   "id": "584b8440",
   "metadata": {},
   "outputs": [
    {
     "data": {
      "text/plain": [
       "Counter({0: 880, 1: 32})"
      ]
     },
     "execution_count": 8,
     "metadata": {},
     "output_type": "execute_result"
    },
    {
     "data": {
      "text/plain": [
       "Counter({0: 880, 1: 880})"
      ]
     },
     "execution_count": 8,
     "metadata": {},
     "output_type": "execute_result"
    },
    {
     "data": {
      "text/plain": [
       "LogisticRegression(random_state=2, solver='liblinear')"
      ]
     },
     "execution_count": 8,
     "metadata": {},
     "output_type": "execute_result"
    },
    {
     "name": "stdout",
     "output_type": "stream",
     "text": [
      "_______BASELINE RESULTS_______\n",
      "\n",
      "CONFUSION MATRIX\n"
     ]
    },
    {
     "data": {
      "text/html": [
       "<div>\n",
       "<style scoped>\n",
       "    .dataframe tbody tr th:only-of-type {\n",
       "        vertical-align: middle;\n",
       "    }\n",
       "\n",
       "    .dataframe tbody tr th {\n",
       "        vertical-align: top;\n",
       "    }\n",
       "\n",
       "    .dataframe thead th {\n",
       "        text-align: right;\n",
       "    }\n",
       "</style>\n",
       "<table border=\"1\" class=\"dataframe\">\n",
       "  <thead>\n",
       "    <tr style=\"text-align: right;\">\n",
       "      <th></th>\n",
       "      <th>Predicted Not HOF Member</th>\n",
       "      <th>Predicted HOF Member</th>\n",
       "    </tr>\n",
       "  </thead>\n",
       "  <tbody>\n",
       "    <tr>\n",
       "      <th>Not HOF Member</th>\n",
       "      <td>266</td>\n",
       "      <td>29</td>\n",
       "    </tr>\n",
       "    <tr>\n",
       "      <th>HOF Member</th>\n",
       "      <td>2</td>\n",
       "      <td>8</td>\n",
       "    </tr>\n",
       "  </tbody>\n",
       "</table>\n",
       "</div>"
      ],
      "text/plain": [
       "                Predicted Not HOF Member  Predicted HOF Member\n",
       "Not HOF Member                       266                    29\n",
       "HOF Member                             2                     8"
      ]
     },
     "metadata": {},
     "output_type": "display_data"
    },
    {
     "name": "stdout",
     "output_type": "stream",
     "text": [
      "ACCURACY SCORES\n",
      "\n",
      "Training Accuracy: 0.8826754385964912\n",
      "\n",
      "Testing Accuracy: 0.8508474576271187\n",
      "\n",
      "CLASSIFICATION REPORT\n",
      "\n",
      "                   pre       rec       spe        f1       geo       iba       sup\n",
      "\n",
      "          0       0.99      0.90      0.80      0.94      0.85      0.73       295\n",
      "          1       0.22      0.80      0.90      0.34      0.85      0.71        10\n",
      "\n",
      "avg / total       0.97      0.90      0.80      0.93      0.85      0.73       305\n",
      "\n"
     ]
    }
   ],
   "source": [
    "# normal train-test split\n",
    "X_train, X_test, y_train, y_test = train_test_split(X, y, random_state=2)\n",
    "Counter(y_train)\n",
    "\n",
    "# implement SVMSMOTE resampling\n",
    "X_resampled, y_resampled = RandomOverSampler(random_state=2, sampling_strategy='auto').fit_resample(X_train, y_train)\n",
    "Counter(y_resampled)\n",
    "\n",
    "# logistic regression using SVMSMOTE data\n",
    "model = LogisticRegression(solver='liblinear', random_state=2)\n",
    "model.fit(X_resampled, y_resampled)\n",
    "\n",
    "# generate predictions on test set\n",
    "y_pred_test = model.predict(X_test)\n",
    "\n",
    "# calculate the accuracy scores\n",
    "test_acc_score = balanced_accuracy_score(y_test, y_pred_test)\n",
    "train_acc_score = model.score(X_train, y_train)\n",
    "\n",
    "# define the confusion matrix\n",
    "cm = confusion_matrix(y_test, y_pred_test)\n",
    "\n",
    "# create a DataFrame from the confusion matrix.\n",
    "cm_df = pd.DataFrame(\n",
    "    cm, index=[\"Not HOF Member\", \"HOF Member\"], \n",
    "    columns=[\"Predicted Not HOF Member\", \"Predicted HOF Member\"])\n",
    "\n",
    "# print results\n",
    "print('_______BASELINE RESULTS_______\\n')\n",
    "print(\"CONFUSION MATRIX\")\n",
    "display(cm_df)\n",
    "print(\"ACCURACY SCORES\\n\")\n",
    "print(f'Training Accuracy: {train_acc_score}\\n')\n",
    "print(f'Testing Accuracy: {test_acc_score}\\n')\n",
    "print(\"CLASSIFICATION REPORT\\n\")\n",
    "print(classification_report_imbalanced(y_test, y_pred_test))"
   ]
  },
  {
   "cell_type": "code",
   "execution_count": null,
   "id": "ffb07212",
   "metadata": {},
   "outputs": [],
   "source": []
  }
 ],
 "metadata": {
  "kernelspec": {
   "display_name": "mlenv",
   "language": "python",
   "name": "mlenv"
  },
  "language_info": {
   "codemirror_mode": {
    "name": "ipython",
    "version": 3
   },
   "file_extension": ".py",
   "mimetype": "text/x-python",
   "name": "python",
   "nbconvert_exporter": "python",
   "pygments_lexer": "ipython3",
   "version": "3.7.11"
  }
 },
 "nbformat": 4,
 "nbformat_minor": 5
}
