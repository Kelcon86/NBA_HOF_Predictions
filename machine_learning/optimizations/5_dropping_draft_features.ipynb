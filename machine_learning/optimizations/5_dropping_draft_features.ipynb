{
 "cells": [
  {
   "cell_type": "markdown",
   "id": "4483a50d",
   "metadata": {},
   "source": [
    "### Imports and Preprocessing"
   ]
  },
  {
   "cell_type": "code",
   "execution_count": 1,
   "id": "21721210",
   "metadata": {},
   "outputs": [],
   "source": [
    "# imports\n",
    "import pandas as pd\n",
    "import sklearn as skl\n",
    "import psycopg2\n",
    "import config as c\n",
    "\n",
    "# import for multiple output per cell\n",
    "from IPython.core.interactiveshell import InteractiveShell\n",
    "InteractiveShell.ast_node_interactivity = \"all\""
   ]
  },
  {
   "cell_type": "code",
   "execution_count": 2,
   "id": "48228734",
   "metadata": {},
   "outputs": [],
   "source": [
    "# connection to database\n",
    "connection = psycopg2.connect(\n",
    "    host = c.host,\n",
    "    port = c.port,\n",
    "    user = c.user,\n",
    "    password = c.password,\n",
    "    database = c.database\n",
    "    )\n",
    "cursor=connection.cursor()"
   ]
  },
  {
   "cell_type": "code",
   "execution_count": 3,
   "id": "98e957af",
   "metadata": {},
   "outputs": [],
   "source": [
    "# SQL query\n",
    "data_sql = \"\"\"\n",
    "SELECT *\n",
    "FROM final_dataset;\n",
    "\"\"\"\n",
    "\n",
    "# load in tables as dataframes\n",
    "data_df = pd.read_sql(data_sql, con=connection)"
   ]
  },
  {
   "cell_type": "code",
   "execution_count": 4,
   "id": "f7472d6e",
   "metadata": {},
   "outputs": [],
   "source": [
    "# get_dummies to encode HallofFameClass column\n",
    "data_df = pd.get_dummies(data_df, prefix='HOF', columns=['HallOfFameStatus'])\n",
    "data_df.drop(['HOF_Not Inducted'], axis=1, inplace=True) # remove extra get_dummies column, drop_first no ideal\n",
    "\n",
    "# drop coulmns/features\n",
    "data_df.drop(['GUID',\n",
    "              'Name',\n",
    "              'HallofFameClass',\n",
    "              'YearDrafted',\n",
    "              'TO_YEAR',\n",
    "              'Years_Played',\n",
    "              'HOF_Elgibility_Year',\n",
    "              'Team',\n",
    "              'College',\n",
    "              'GP',\n",
    "              'MIN',\n",
    "              'idPlayer',\n",
    "              'BIRTHDATE',\n",
    "              'POSITION',\n",
    "              'AGE_ROOKIE_SEASON',\n",
    "              'Draft_Decade',\n",
    "              'numBallotsBeforeInduct'], \n",
    "             axis=1, inplace=True)"
   ]
  },
  {
   "cell_type": "markdown",
   "id": "4bea4710",
   "metadata": {},
   "source": [
    "### Optimization Attempt #6: Dropping Draft Features"
   ]
  },
  {
   "cell_type": "code",
   "execution_count": 5,
   "id": "2fce00a6",
   "metadata": {},
   "outputs": [
    {
     "data": {
      "text/html": [
       "<div>\n",
       "<style scoped>\n",
       "    .dataframe tbody tr th:only-of-type {\n",
       "        vertical-align: middle;\n",
       "    }\n",
       "\n",
       "    .dataframe tbody tr th {\n",
       "        vertical-align: top;\n",
       "    }\n",
       "\n",
       "    .dataframe thead th {\n",
       "        text-align: right;\n",
       "    }\n",
       "</style>\n",
       "<table border=\"1\" class=\"dataframe\">\n",
       "  <thead>\n",
       "    <tr style=\"text-align: right;\">\n",
       "      <th></th>\n",
       "      <th>PTS</th>\n",
       "      <th>FGM</th>\n",
       "      <th>FGA</th>\n",
       "      <th>FG%</th>\n",
       "      <th>3P_Made</th>\n",
       "      <th>3PA</th>\n",
       "      <th>3P%</th>\n",
       "      <th>FTM</th>\n",
       "      <th>FTA</th>\n",
       "      <th>FT%</th>\n",
       "      <th>OREB</th>\n",
       "      <th>DREB</th>\n",
       "      <th>REB</th>\n",
       "      <th>AST</th>\n",
       "      <th>STL</th>\n",
       "      <th>BLK</th>\n",
       "      <th>TOV</th>\n",
       "      <th>EFF</th>\n",
       "      <th>HOF_Hall of Fame Member</th>\n",
       "    </tr>\n",
       "  </thead>\n",
       "  <tbody>\n",
       "    <tr>\n",
       "      <th>0</th>\n",
       "      <td>6.3</td>\n",
       "      <td>2.8</td>\n",
       "      <td>5.2</td>\n",
       "      <td>53.3</td>\n",
       "      <td>0.0</td>\n",
       "      <td>0.1</td>\n",
       "      <td>0.0</td>\n",
       "      <td>0.8</td>\n",
       "      <td>1.3</td>\n",
       "      <td>62.5</td>\n",
       "      <td>1.7</td>\n",
       "      <td>3.5</td>\n",
       "      <td>5.2</td>\n",
       "      <td>0.4</td>\n",
       "      <td>0.5</td>\n",
       "      <td>0.5</td>\n",
       "      <td>1.0</td>\n",
       "      <td>9.0</td>\n",
       "      <td>0</td>\n",
       "    </tr>\n",
       "    <tr>\n",
       "      <th>1</th>\n",
       "      <td>5.6</td>\n",
       "      <td>1.9</td>\n",
       "      <td>6.0</td>\n",
       "      <td>32.3</td>\n",
       "      <td>1.1</td>\n",
       "      <td>3.6</td>\n",
       "      <td>30.1</td>\n",
       "      <td>0.7</td>\n",
       "      <td>0.8</td>\n",
       "      <td>86.1</td>\n",
       "      <td>0.5</td>\n",
       "      <td>1.6</td>\n",
       "      <td>2.0</td>\n",
       "      <td>0.5</td>\n",
       "      <td>0.5</td>\n",
       "      <td>0.3</td>\n",
       "      <td>0.5</td>\n",
       "      <td>4.3</td>\n",
       "      <td>0</td>\n",
       "    </tr>\n",
       "    <tr>\n",
       "      <th>2</th>\n",
       "      <td>7.9</td>\n",
       "      <td>2.8</td>\n",
       "      <td>7.0</td>\n",
       "      <td>39.6</td>\n",
       "      <td>0.7</td>\n",
       "      <td>2.4</td>\n",
       "      <td>28.7</td>\n",
       "      <td>1.6</td>\n",
       "      <td>2.1</td>\n",
       "      <td>75.2</td>\n",
       "      <td>1.0</td>\n",
       "      <td>2.2</td>\n",
       "      <td>3.2</td>\n",
       "      <td>1.2</td>\n",
       "      <td>0.7</td>\n",
       "      <td>1.1</td>\n",
       "      <td>1.7</td>\n",
       "      <td>7.6</td>\n",
       "      <td>0</td>\n",
       "    </tr>\n",
       "    <tr>\n",
       "      <th>3</th>\n",
       "      <td>5.4</td>\n",
       "      <td>1.9</td>\n",
       "      <td>5.5</td>\n",
       "      <td>35.5</td>\n",
       "      <td>0.6</td>\n",
       "      <td>2.2</td>\n",
       "      <td>26.2</td>\n",
       "      <td>0.9</td>\n",
       "      <td>1.2</td>\n",
       "      <td>75.0</td>\n",
       "      <td>0.6</td>\n",
       "      <td>1.9</td>\n",
       "      <td>2.5</td>\n",
       "      <td>0.9</td>\n",
       "      <td>0.6</td>\n",
       "      <td>0.3</td>\n",
       "      <td>1.0</td>\n",
       "      <td>4.8</td>\n",
       "      <td>0</td>\n",
       "    </tr>\n",
       "    <tr>\n",
       "      <th>4</th>\n",
       "      <td>3.7</td>\n",
       "      <td>1.5</td>\n",
       "      <td>3.3</td>\n",
       "      <td>44.9</td>\n",
       "      <td>0.0</td>\n",
       "      <td>0.3</td>\n",
       "      <td>13.3</td>\n",
       "      <td>0.6</td>\n",
       "      <td>1.1</td>\n",
       "      <td>57.4</td>\n",
       "      <td>0.9</td>\n",
       "      <td>2.0</td>\n",
       "      <td>2.9</td>\n",
       "      <td>0.3</td>\n",
       "      <td>0.2</td>\n",
       "      <td>0.4</td>\n",
       "      <td>0.4</td>\n",
       "      <td>4.8</td>\n",
       "      <td>0</td>\n",
       "    </tr>\n",
       "  </tbody>\n",
       "</table>\n",
       "</div>"
      ],
      "text/plain": [
       "   PTS  FGM  FGA   FG%  3P_Made  3PA   3P%  FTM  FTA   FT%  OREB  DREB  REB  \\\n",
       "0  6.3  2.8  5.2  53.3      0.0  0.1   0.0  0.8  1.3  62.5   1.7   3.5  5.2   \n",
       "1  5.6  1.9  6.0  32.3      1.1  3.6  30.1  0.7  0.8  86.1   0.5   1.6  2.0   \n",
       "2  7.9  2.8  7.0  39.6      0.7  2.4  28.7  1.6  2.1  75.2   1.0   2.2  3.2   \n",
       "3  5.4  1.9  5.5  35.5      0.6  2.2  26.2  0.9  1.2  75.0   0.6   1.9  2.5   \n",
       "4  3.7  1.5  3.3  44.9      0.0  0.3  13.3  0.6  1.1  57.4   0.9   2.0  2.9   \n",
       "\n",
       "   AST  STL  BLK  TOV  EFF  HOF_Hall of Fame Member  \n",
       "0  0.4  0.5  0.5  1.0  9.0                        0  \n",
       "1  0.5  0.5  0.3  0.5  4.3                        0  \n",
       "2  1.2  0.7  1.1  1.7  7.6                        0  \n",
       "3  0.9  0.6  0.3  1.0  4.8                        0  \n",
       "4  0.3  0.2  0.4  0.4  4.8                        0  "
      ]
     },
     "execution_count": 5,
     "metadata": {},
     "output_type": "execute_result"
    },
    {
     "name": "stdout",
     "output_type": "stream",
     "text": [
      "(1217, 19)\n"
     ]
    }
   ],
   "source": [
    "# dropping draft related features\n",
    "data_df.drop(['Pick', 'numberRound'], axis=1, inplace=True)\n",
    "data_df.head()\n",
    "print(data_df.shape)"
   ]
  },
  {
   "cell_type": "markdown",
   "id": "06132115",
   "metadata": {},
   "source": [
    "### Machine Learning"
   ]
  },
  {
   "cell_type": "code",
   "execution_count": 6,
   "id": "362eb4bc",
   "metadata": {},
   "outputs": [],
   "source": [
    "# ML imports\n",
    "from collections import Counter\n",
    "from sklearn.model_selection import train_test_split\n",
    "from sklearn.linear_model import LogisticRegression\n",
    "from imblearn.over_sampling import RandomOverSampler\n",
    "from sklearn.metrics import confusion_matrix\n",
    "from sklearn.metrics import balanced_accuracy_score\n",
    "from imblearn.metrics import classification_report_imbalanced"
   ]
  },
  {
   "cell_type": "code",
   "execution_count": 7,
   "id": "c6d486c5",
   "metadata": {},
   "outputs": [],
   "source": [
    "# create our features\n",
    "X = data_df.drop(['HOF_Hall of Fame Member'], axis=1)\n",
    "\n",
    "# create our target\n",
    "y = data_df['HOF_Hall of Fame Member']"
   ]
  },
  {
   "cell_type": "code",
   "execution_count": 8,
   "id": "584b8440",
   "metadata": {},
   "outputs": [
    {
     "data": {
      "text/plain": [
       "Counter({0: 880, 1: 32})"
      ]
     },
     "execution_count": 8,
     "metadata": {},
     "output_type": "execute_result"
    },
    {
     "data": {
      "text/plain": [
       "Counter({0: 880, 1: 880})"
      ]
     },
     "execution_count": 8,
     "metadata": {},
     "output_type": "execute_result"
    },
    {
     "data": {
      "text/plain": [
       "LogisticRegression(random_state=2, solver='liblinear')"
      ]
     },
     "execution_count": 8,
     "metadata": {},
     "output_type": "execute_result"
    },
    {
     "name": "stdout",
     "output_type": "stream",
     "text": [
      "_______DROPPING DRAFT FEATURES_______\n",
      "\n",
      "CONFUSION MATRIX\n"
     ]
    },
    {
     "data": {
      "text/html": [
       "<div>\n",
       "<style scoped>\n",
       "    .dataframe tbody tr th:only-of-type {\n",
       "        vertical-align: middle;\n",
       "    }\n",
       "\n",
       "    .dataframe tbody tr th {\n",
       "        vertical-align: top;\n",
       "    }\n",
       "\n",
       "    .dataframe thead th {\n",
       "        text-align: right;\n",
       "    }\n",
       "</style>\n",
       "<table border=\"1\" class=\"dataframe\">\n",
       "  <thead>\n",
       "    <tr style=\"text-align: right;\">\n",
       "      <th></th>\n",
       "      <th>Predicted Not HOF Member</th>\n",
       "      <th>Predicted HOF Member</th>\n",
       "    </tr>\n",
       "  </thead>\n",
       "  <tbody>\n",
       "    <tr>\n",
       "      <th>Not HOF Member</th>\n",
       "      <td>265</td>\n",
       "      <td>30</td>\n",
       "    </tr>\n",
       "    <tr>\n",
       "      <th>HOF Member</th>\n",
       "      <td>2</td>\n",
       "      <td>8</td>\n",
       "    </tr>\n",
       "  </tbody>\n",
       "</table>\n",
       "</div>"
      ],
      "text/plain": [
       "                Predicted Not HOF Member  Predicted HOF Member\n",
       "Not HOF Member                       265                    30\n",
       "HOF Member                             2                     8"
      ]
     },
     "metadata": {},
     "output_type": "display_data"
    },
    {
     "name": "stdout",
     "output_type": "stream",
     "text": [
      "ACCURACY SCORES\n",
      "\n",
      "Training Accuracy: 0.875\n",
      "\n",
      "Testing Accuracy: 0.8491525423728814\n",
      "\n",
      "CLASSIFICATION REPORT\n",
      "\n",
      "                   pre       rec       spe        f1       geo       iba       sup\n",
      "\n",
      "          0       0.99      0.90      0.80      0.94      0.85      0.73       295\n",
      "          1       0.21      0.80      0.90      0.33      0.85      0.71        10\n",
      "\n",
      "avg / total       0.97      0.90      0.80      0.92      0.85      0.73       305\n",
      "\n"
     ]
    }
   ],
   "source": [
    "# normal train-test split\n",
    "X_train, X_test, y_train, y_test = train_test_split(X, y, random_state=2)\n",
    "Counter(y_train)\n",
    "\n",
    "# implement SVMSMOTE resampling\n",
    "X_resampled, y_resampled = RandomOverSampler(random_state=2, sampling_strategy='auto').fit_resample(X_train, y_train)\n",
    "Counter(y_resampled)\n",
    "\n",
    "# logistic regression using SVMSMOTE data\n",
    "model = LogisticRegression(solver='liblinear', random_state=2)\n",
    "model.fit(X_resampled, y_resampled)\n",
    "\n",
    "# generate predictions on test set\n",
    "y_pred_test = model.predict(X_test)\n",
    "\n",
    "# calculate the accuracy scores\n",
    "test_acc_score = balanced_accuracy_score(y_test, y_pred_test)\n",
    "train_acc_score = model.score(X_train, y_train)\n",
    "\n",
    "# define the confusion matrix\n",
    "cm = confusion_matrix(y_test, y_pred_test)\n",
    "\n",
    "# create a DataFrame from the confusion matrix.\n",
    "cm_df = pd.DataFrame(\n",
    "    cm, index=[\"Not HOF Member\", \"HOF Member\"], \n",
    "    columns=[\"Predicted Not HOF Member\", \"Predicted HOF Member\"])\n",
    "\n",
    "# print results\n",
    "print('_______DROPPING DRAFT FEATURES_______\\n')\n",
    "print(\"CONFUSION MATRIX\")\n",
    "display(cm_df)\n",
    "print(\"ACCURACY SCORES\\n\")\n",
    "print(f'Training Accuracy: {train_acc_score}\\n')\n",
    "print(f'Testing Accuracy: {test_acc_score}\\n')\n",
    "print(\"CLASSIFICATION REPORT\\n\")\n",
    "print(classification_report_imbalanced(y_test, y_pred_test))"
   ]
  },
  {
   "cell_type": "code",
   "execution_count": null,
   "id": "ffb07212",
   "metadata": {},
   "outputs": [],
   "source": []
  }
 ],
 "metadata": {
  "kernelspec": {
   "display_name": "mlenv",
   "language": "python",
   "name": "mlenv"
  },
  "language_info": {
   "codemirror_mode": {
    "name": "ipython",
    "version": 3
   },
   "file_extension": ".py",
   "mimetype": "text/x-python",
   "name": "python",
   "nbconvert_exporter": "python",
   "pygments_lexer": "ipython3",
   "version": "3.7.11"
  }
 },
 "nbformat": 4,
 "nbformat_minor": 5
}
