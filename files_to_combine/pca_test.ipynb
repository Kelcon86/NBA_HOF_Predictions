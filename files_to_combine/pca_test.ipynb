{
 "cells": [
  {
   "cell_type": "code",
   "execution_count": 10,
   "id": "a199ed48",
   "metadata": {},
   "outputs": [],
   "source": [
    "# imports\n",
    "import pandas as pd\n",
    "from sklearn.preprocessing import StandardScaler\n",
    "from sklearn.decomposition import PCA\n",
    "from sklearn.cluster import KMeans\n",
    "import hvplot.pandas"
   ]
  },
  {
   "cell_type": "code",
   "execution_count": 11,
   "id": "fa070210",
   "metadata": {},
   "outputs": [
    {
     "data": {
      "text/html": [
       "<div>\n",
       "<style scoped>\n",
       "    .dataframe tbody tr th:only-of-type {\n",
       "        vertical-align: middle;\n",
       "    }\n",
       "\n",
       "    .dataframe tbody tr th {\n",
       "        vertical-align: top;\n",
       "    }\n",
       "\n",
       "    .dataframe thead th {\n",
       "        text-align: right;\n",
       "    }\n",
       "</style>\n",
       "<table border=\"1\" class=\"dataframe\">\n",
       "  <thead>\n",
       "    <tr style=\"text-align: right;\">\n",
       "      <th></th>\n",
       "      <th>hof_class</th>\n",
       "      <th>GP</th>\n",
       "      <th>MIN</th>\n",
       "      <th>PTS</th>\n",
       "      <th>FGM</th>\n",
       "      <th>FGA</th>\n",
       "      <th>FG%</th>\n",
       "      <th>3PM</th>\n",
       "      <th>3PA</th>\n",
       "      <th>FTM</th>\n",
       "      <th>FTA</th>\n",
       "      <th>FT%</th>\n",
       "      <th>OREB</th>\n",
       "      <th>DREB</th>\n",
       "      <th>REB</th>\n",
       "      <th>AST</th>\n",
       "      <th>STL</th>\n",
       "      <th>BLK</th>\n",
       "      <th>TOV</th>\n",
       "      <th>EFF</th>\n",
       "    </tr>\n",
       "  </thead>\n",
       "  <tbody>\n",
       "    <tr>\n",
       "      <th>0</th>\n",
       "      <td>0.0</td>\n",
       "      <td>82</td>\n",
       "      <td>18.8</td>\n",
       "      <td>6.4</td>\n",
       "      <td>2.5</td>\n",
       "      <td>4.7</td>\n",
       "      <td>53.9</td>\n",
       "      <td>0.0</td>\n",
       "      <td>0.1</td>\n",
       "      <td>1.2</td>\n",
       "      <td>2.0</td>\n",
       "      <td>61.1</td>\n",
       "      <td>2.0</td>\n",
       "      <td>2.7</td>\n",
       "      <td>4.6</td>\n",
       "      <td>0.7</td>\n",
       "      <td>0.6</td>\n",
       "      <td>0.6</td>\n",
       "      <td>1.2</td>\n",
       "      <td>8.7</td>\n",
       "    </tr>\n",
       "    <tr>\n",
       "      <th>1</th>\n",
       "      <td>0.0</td>\n",
       "      <td>70</td>\n",
       "      <td>20.6</td>\n",
       "      <td>8.8</td>\n",
       "      <td>3.6</td>\n",
       "      <td>8.2</td>\n",
       "      <td>43.9</td>\n",
       "      <td>0.0</td>\n",
       "      <td>0.4</td>\n",
       "      <td>1.6</td>\n",
       "      <td>2.2</td>\n",
       "      <td>70.7</td>\n",
       "      <td>0.9</td>\n",
       "      <td>1.2</td>\n",
       "      <td>2.1</td>\n",
       "      <td>2.5</td>\n",
       "      <td>0.4</td>\n",
       "      <td>0.2</td>\n",
       "      <td>1.6</td>\n",
       "      <td>7.1</td>\n",
       "    </tr>\n",
       "    <tr>\n",
       "      <th>2</th>\n",
       "      <td>0.0</td>\n",
       "      <td>56</td>\n",
       "      <td>15.4</td>\n",
       "      <td>7.3</td>\n",
       "      <td>2.6</td>\n",
       "      <td>6.3</td>\n",
       "      <td>41.0</td>\n",
       "      <td>1.1</td>\n",
       "      <td>3.1</td>\n",
       "      <td>1.1</td>\n",
       "      <td>1.3</td>\n",
       "      <td>80.0</td>\n",
       "      <td>0.2</td>\n",
       "      <td>1.4</td>\n",
       "      <td>1.6</td>\n",
       "      <td>1.9</td>\n",
       "      <td>0.6</td>\n",
       "      <td>0.1</td>\n",
       "      <td>1.1</td>\n",
       "      <td>6.4</td>\n",
       "    </tr>\n",
       "    <tr>\n",
       "      <th>3</th>\n",
       "      <td>0.0</td>\n",
       "      <td>51</td>\n",
       "      <td>11.9</td>\n",
       "      <td>5.2</td>\n",
       "      <td>1.8</td>\n",
       "      <td>4.4</td>\n",
       "      <td>41.3</td>\n",
       "      <td>0.7</td>\n",
       "      <td>2.1</td>\n",
       "      <td>0.8</td>\n",
       "      <td>1.0</td>\n",
       "      <td>85.7</td>\n",
       "      <td>0.3</td>\n",
       "      <td>0.8</td>\n",
       "      <td>1.1</td>\n",
       "      <td>1.7</td>\n",
       "      <td>0.3</td>\n",
       "      <td>0.1</td>\n",
       "      <td>0.9</td>\n",
       "      <td>4.7</td>\n",
       "    </tr>\n",
       "    <tr>\n",
       "      <th>4</th>\n",
       "      <td>0.0</td>\n",
       "      <td>47</td>\n",
       "      <td>17.0</td>\n",
       "      <td>5.2</td>\n",
       "      <td>2.0</td>\n",
       "      <td>4.4</td>\n",
       "      <td>44.7</td>\n",
       "      <td>0.3</td>\n",
       "      <td>1.0</td>\n",
       "      <td>0.9</td>\n",
       "      <td>1.3</td>\n",
       "      <td>72.1</td>\n",
       "      <td>1.0</td>\n",
       "      <td>2.6</td>\n",
       "      <td>3.6</td>\n",
       "      <td>0.7</td>\n",
       "      <td>0.5</td>\n",
       "      <td>0.5</td>\n",
       "      <td>0.8</td>\n",
       "      <td>6.8</td>\n",
       "    </tr>\n",
       "  </tbody>\n",
       "</table>\n",
       "</div>"
      ],
      "text/plain": [
       "   hof_class  GP   MIN  PTS  FGM  FGA   FG%  3PM  3PA  FTM  FTA   FT%  OREB  \\\n",
       "0        0.0  82  18.8  6.4  2.5  4.7  53.9  0.0  0.1  1.2  2.0  61.1   2.0   \n",
       "1        0.0  70  20.6  8.8  3.6  8.2  43.9  0.0  0.4  1.6  2.2  70.7   0.9   \n",
       "2        0.0  56  15.4  7.3  2.6  6.3  41.0  1.1  3.1  1.1  1.3  80.0   0.2   \n",
       "3        0.0  51  11.9  5.2  1.8  4.4  41.3  0.7  2.1  0.8  1.0  85.7   0.3   \n",
       "4        0.0  47  17.0  5.2  2.0  4.4  44.7  0.3  1.0  0.9  1.3  72.1   1.0   \n",
       "\n",
       "   DREB  REB  AST  STL  BLK  TOV  EFF  \n",
       "0   2.7  4.6  0.7  0.6  0.6  1.2  8.7  \n",
       "1   1.2  2.1  2.5  0.4  0.2  1.6  7.1  \n",
       "2   1.4  1.6  1.9  0.6  0.1  1.1  6.4  \n",
       "3   0.8  1.1  1.7  0.3  0.1  0.9  4.7  \n",
       "4   2.6  3.6  0.7  0.5  0.5  0.8  6.8  "
      ]
     },
     "execution_count": 11,
     "metadata": {},
     "output_type": "execute_result"
    }
   ],
   "source": [
    "# load data\n",
    "rookies_df = pd.read_csv('data/cleaned_nba_hof_rookies.csv')\n",
    "rookies_df.head()"
   ]
  },
  {
   "cell_type": "code",
   "execution_count": 12,
   "id": "76e7f3c4",
   "metadata": {},
   "outputs": [
    {
     "name": "stdout",
     "output_type": "stream",
     "text": [
      "[[-0.16965198  1.25063934  0.15528784 -0.07237608 -0.05308938 -0.31247592\n",
      "   1.58324823 -0.65882163 -0.65008069 -0.07834804  0.15807461 -0.86357655\n",
      "   1.27279594  0.47323033  0.74597861 -0.5584941  -0.00551556  0.45185066\n",
      "   0.02900601  0.29386378]\n",
      " [-0.16965198  0.56384151  0.37700397  0.49063719  0.6162485   0.6892906\n",
      "  -0.04398941 -0.65882163 -0.37497771  0.33334747  0.31107251  0.0314137\n",
      "  -0.14770449 -0.63217244 -0.47434699  0.70531236 -0.50418662 -0.40502098\n",
      "   0.5933381  -0.05759513]\n",
      " [-0.16965198 -0.23742263 -0.26350929  0.13875389  0.00775952  0.14547449\n",
      "  -0.51588833  2.13073441  2.10094909 -0.18127192 -0.37741805  0.89843551\n",
      "  -1.0516593  -0.4847854  -0.71841212  0.28404354 -0.00551556 -0.61923889\n",
      "  -0.11207701 -0.2113584 ]\n",
      " [-0.16965198 -0.52358839 -0.69462398 -0.35388272 -0.47903166 -0.39834162\n",
      "  -0.4670712   1.1163504   1.18393916 -0.49004356 -0.60691491  1.42983597\n",
      "  -0.9225229  -0.92694651 -0.96247724  0.1436206  -0.75352215 -0.61923889\n",
      "  -0.39424306 -0.5847835 ]\n",
      " [-0.16965198 -0.752521   -0.06642829 -0.35388272 -0.35733387 -0.39834162\n",
      "   0.0861896   0.10196638  0.17522825 -0.38711968 -0.37741805  0.16193311\n",
      "  -0.01856808  0.39953682  0.25784837 -0.5584941  -0.25485109  0.23763275\n",
      "  -0.53532608 -0.12349368]]\n"
     ]
    }
   ],
   "source": [
    "# standradize data\n",
    "rookies_scaled = StandardScaler().fit_transform(rookies_df)\n",
    "print(rookies_scaled[0:5])"
   ]
  },
  {
   "cell_type": "code",
   "execution_count": 13,
   "id": "460ee1ef",
   "metadata": {},
   "outputs": [],
   "source": [
    "# initialize PCA model\n",
    "pca = PCA(n_components=2)"
   ]
  },
  {
   "cell_type": "code",
   "execution_count": 14,
   "id": "5b377b09",
   "metadata": {},
   "outputs": [],
   "source": [
    "# fit the data\n",
    "rookies_pca = pca.fit_transform(rookies_scaled)"
   ]
  },
  {
   "cell_type": "code",
   "execution_count": 15,
   "id": "3376286e",
   "metadata": {},
   "outputs": [
    {
     "data": {
      "text/html": [
       "<div>\n",
       "<style scoped>\n",
       "    .dataframe tbody tr th:only-of-type {\n",
       "        vertical-align: middle;\n",
       "    }\n",
       "\n",
       "    .dataframe tbody tr th {\n",
       "        vertical-align: top;\n",
       "    }\n",
       "\n",
       "    .dataframe thead th {\n",
       "        text-align: right;\n",
       "    }\n",
       "</style>\n",
       "<table border=\"1\" class=\"dataframe\">\n",
       "  <thead>\n",
       "    <tr style=\"text-align: right;\">\n",
       "      <th></th>\n",
       "      <th>principal_componet_1</th>\n",
       "      <th>prinicpal_componet_2</th>\n",
       "    </tr>\n",
       "  </thead>\n",
       "  <tbody>\n",
       "    <tr>\n",
       "      <th>0</th>\n",
       "      <td>0.822433</td>\n",
       "      <td>-2.320291</td>\n",
       "    </tr>\n",
       "    <tr>\n",
       "      <th>1</th>\n",
       "      <td>0.599017</td>\n",
       "      <td>0.384720</td>\n",
       "    </tr>\n",
       "    <tr>\n",
       "      <th>2</th>\n",
       "      <td>-0.568228</td>\n",
       "      <td>3.103391</td>\n",
       "    </tr>\n",
       "    <tr>\n",
       "      <th>3</th>\n",
       "      <td>-1.969880</td>\n",
       "      <td>2.189917</td>\n",
       "    </tr>\n",
       "    <tr>\n",
       "      <th>4</th>\n",
       "      <td>-0.807715</td>\n",
       "      <td>-0.421470</td>\n",
       "    </tr>\n",
       "  </tbody>\n",
       "</table>\n",
       "</div>"
      ],
      "text/plain": [
       "   principal_componet_1  prinicpal_componet_2\n",
       "0              0.822433             -2.320291\n",
       "1              0.599017              0.384720\n",
       "2             -0.568228              3.103391\n",
       "3             -1.969880              2.189917\n",
       "4             -0.807715             -0.421470"
      ]
     },
     "execution_count": 15,
     "metadata": {},
     "output_type": "execute_result"
    }
   ],
   "source": [
    "# move PCA data into a df\n",
    "rookies_pca_df = pd.DataFrame(data=rookies_pca, columns=['principal_componet_1', 'prinicpal_componet_2'])\n",
    "rookies_pca_df.head()"
   ]
  },
  {
   "cell_type": "code",
   "execution_count": 16,
   "id": "4fce6a80",
   "metadata": {},
   "outputs": [
    {
     "data": {
      "text/plain": [
       "array([0.52405856, 0.17739363])"
      ]
     },
     "execution_count": 16,
     "metadata": {},
     "output_type": "execute_result"
    }
   ],
   "source": [
    "# get explained variance\n",
    "pca.explained_variance_ratio_"
   ]
  },
  {
   "cell_type": "code",
   "execution_count": 17,
   "id": "76a597d9",
   "metadata": {},
   "outputs": [
    {
     "name": "stderr",
     "output_type": "stream",
     "text": [
      "C:\\Users\\m207113\\Bootcamp_Progams\\Anaconda3_\\envs\\mlenv\\lib\\site-packages\\sklearn\\cluster\\_kmeans.py:882: UserWarning: KMeans is known to have a memory leak on Windows with MKL, when there are less chunks than available threads. You can avoid it by setting the environment variable OMP_NUM_THREADS=7.\n",
      "  f\"KMeans is known to have a memory leak on Windows \"\n"
     ]
    },
    {
     "data": {},
     "metadata": {},
     "output_type": "display_data"
    },
    {
     "data": {
      "application/vnd.holoviews_exec.v0+json": "",
      "text/html": [
       "<div id='1002'>\n",
       "\n",
       "\n",
       "\n",
       "\n",
       "\n",
       "  <div class=\"bk-root\" id=\"81f2203d-9e86-463f-8b24-4bfac459a2eb\" data-root-id=\"1002\"></div>\n",
       "</div>\n",
       "<script type=\"application/javascript\">(function(root) {\n",
       "  function embed_document(root) {\n",
       "    var docs_json = {\"a270298d-ba43-4252-b000-03a1d8d68156\":{\"defs\":[{\"extends\":null,\"module\":null,\"name\":\"ReactiveHTML1\",\"overrides\":[],\"properties\":[]},{\"extends\":null,\"module\":null,\"name\":\"FlexBox1\",\"overrides\":[],\"properties\":[{\"default\":\"flex-start\",\"kind\":null,\"name\":\"align_content\"},{\"default\":\"flex-start\",\"kind\":null,\"name\":\"align_items\"},{\"default\":\"row\",\"kind\":null,\"name\":\"flex_direction\"},{\"default\":\"wrap\",\"kind\":null,\"name\":\"flex_wrap\"},{\"default\":\"flex-start\",\"kind\":null,\"name\":\"justify_content\"}]},{\"extends\":null,\"module\":null,\"name\":\"GridStack1\",\"overrides\":[],\"properties\":[{\"default\":\"warn\",\"kind\":null,\"name\":\"mode\"},{\"default\":null,\"kind\":null,\"name\":\"ncols\"},{\"default\":null,\"kind\":null,\"name\":\"nrows\"},{\"default\":true,\"kind\":null,\"name\":\"allow_resize\"},{\"default\":true,\"kind\":null,\"name\":\"allow_drag\"},{\"default\":[],\"kind\":null,\"name\":\"state\"}]},{\"extends\":null,\"module\":null,\"name\":\"click1\",\"overrides\":[],\"properties\":[{\"default\":\"\",\"kind\":null,\"name\":\"terminal_output\"},{\"default\":\"\",\"kind\":null,\"name\":\"debug_name\"},{\"default\":0,\"kind\":null,\"name\":\"clears\"}]},{\"extends\":null,\"module\":null,\"name\":\"TemplateActions1\",\"overrides\":[],\"properties\":[{\"default\":0,\"kind\":null,\"name\":\"open_modal\"},{\"default\":0,\"kind\":null,\"name\":\"close_modal\"}]},{\"extends\":null,\"module\":null,\"name\":\"MaterialTemplateActions1\",\"overrides\":[],\"properties\":[{\"default\":0,\"kind\":null,\"name\":\"open_modal\"},{\"default\":0,\"kind\":null,\"name\":\"close_modal\"}]}],\"roots\":{\"references\":[{\"attributes\":{},\"id\":\"1026\",\"type\":\"WheelZoomTool\"},{\"attributes\":{},\"id\":\"1012\",\"type\":\"LinearScale\"},{\"attributes\":{},\"id\":\"1021\",\"type\":\"BasicTicker\"},{\"attributes\":{\"coordinates\":null,\"data_source\":{\"id\":\"1037\"},\"glyph\":{\"id\":\"1040\"},\"group\":null,\"hover_glyph\":null,\"muted_glyph\":{\"id\":\"1042\"},\"nonselection_glyph\":{\"id\":\"1041\"},\"selection_glyph\":{\"id\":\"1045\"},\"view\":{\"id\":\"1044\"}},\"id\":\"1043\",\"type\":\"GlyphRenderer\"},{\"attributes\":{\"overlay\":{\"id\":\"1029\"}},\"id\":\"1027\",\"type\":\"BoxZoomTool\"},{\"attributes\":{\"source\":{\"id\":\"1037\"}},\"id\":\"1044\",\"type\":\"CDSView\"},{\"attributes\":{\"line_color\":\"#30a2da\",\"line_width\":2,\"x\":{\"field\":\"k\"},\"y\":{\"field\":\"inertia\"}},\"id\":\"1045\",\"type\":\"Line\"},{\"attributes\":{\"coordinates\":null,\"group\":null,\"text\":\"Elbow Curve\",\"text_color\":\"black\",\"text_font_size\":\"12pt\"},\"id\":\"1008\",\"type\":\"Title\"},{\"attributes\":{\"callback\":null,\"renderers\":[{\"id\":\"1043\"}],\"tags\":[\"hv_created\"],\"tooltips\":[[\"k\",\"@{k}\"],[\"inertia\",\"@{inertia}\"]]},\"id\":\"1006\",\"type\":\"HoverTool\"},{\"attributes\":{\"tools\":[{\"id\":\"1006\"},{\"id\":\"1024\"},{\"id\":\"1025\"},{\"id\":\"1026\"},{\"id\":\"1027\"},{\"id\":\"1028\"}]},\"id\":\"1030\",\"type\":\"Toolbar\"},{\"attributes\":{},\"id\":\"1054\",\"type\":\"AllLabels\"},{\"attributes\":{\"axis\":{\"id\":\"1016\"},\"coordinates\":null,\"grid_line_color\":null,\"group\":null,\"ticker\":null},\"id\":\"1019\",\"type\":\"Grid\"},{\"attributes\":{\"axis_label\":\"inertia\",\"coordinates\":null,\"formatter\":{\"id\":\"1053\"},\"group\":null,\"major_label_policy\":{\"id\":\"1054\"},\"ticker\":{\"id\":\"1021\"}},\"id\":\"1020\",\"type\":\"LinearAxis\"},{\"attributes\":{\"bottom_units\":\"screen\",\"coordinates\":null,\"fill_alpha\":0.5,\"fill_color\":\"lightgrey\",\"group\":null,\"left_units\":\"screen\",\"level\":\"overlay\",\"line_alpha\":1.0,\"line_color\":\"black\",\"line_dash\":[4,4],\"line_width\":2,\"right_units\":\"screen\",\"syncable\":false,\"top_units\":\"screen\"},\"id\":\"1029\",\"type\":\"BoxAnnotation\"},{\"attributes\":{\"axis_label\":\"k\",\"coordinates\":null,\"formatter\":{\"id\":\"1048\"},\"group\":null,\"major_label_policy\":{\"id\":\"1049\"},\"ticker\":{\"id\":\"1046\"}},\"id\":\"1016\",\"type\":\"LinearAxis\"},{\"attributes\":{\"data\":{\"inertia\":{\"__ndarray__\":\"Su6896gO1UAqTJkvRGHFQMAgQl19e79AnkqSeZMot0AinTQ8QGiyQNaicYy9Qq5ALNrVIFgIqkD1wDO99wynQAUGfvCOoaRAvdT524VgokA=\",\"dtype\":\"float64\",\"order\":\"little\",\"shape\":[10]},\"k\":[1,2,3,4,5,6,7,8,9,10]},\"selected\":{\"id\":\"1038\"},\"selection_policy\":{\"id\":\"1061\"}},\"id\":\"1037\",\"type\":\"ColumnDataSource\"},{\"attributes\":{},\"id\":\"1025\",\"type\":\"PanTool\"},{\"attributes\":{},\"id\":\"1061\",\"type\":\"UnionRenderers\"},{\"attributes\":{},\"id\":\"1038\",\"type\":\"Selection\"},{\"attributes\":{\"axis\":{\"id\":\"1020\"},\"coordinates\":null,\"dimension\":1,\"grid_line_color\":null,\"group\":null,\"ticker\":null},\"id\":\"1023\",\"type\":\"Grid\"},{\"attributes\":{},\"id\":\"1028\",\"type\":\"ResetTool\"},{\"attributes\":{\"end\":23483.677988410236,\"reset_end\":23483.677988410236,\"reset_start\":431.22357622592017,\"start\":431.22357622592017,\"tags\":[[[\"inertia\",\"inertia\",null]]]},\"id\":\"1005\",\"type\":\"Range1d\"},{\"attributes\":{\"margin\":[5,5,5,5],\"name\":\"HSpacer01632\",\"sizing_mode\":\"stretch_width\"},\"id\":\"1073\",\"type\":\"Spacer\"},{\"attributes\":{\"children\":[{\"id\":\"1003\"},{\"id\":\"1007\"},{\"id\":\"1073\"}],\"margin\":[0,0,0,0],\"name\":\"Row01627\",\"tags\":[\"embedded\"]},\"id\":\"1002\",\"type\":\"Row\"},{\"attributes\":{},\"id\":\"1053\",\"type\":\"BasicTickFormatter\"},{\"attributes\":{},\"id\":\"1048\",\"type\":\"BasicTickFormatter\"},{\"attributes\":{\"line_alpha\":0.1,\"line_color\":\"#30a2da\",\"line_width\":2,\"x\":{\"field\":\"k\"},\"y\":{\"field\":\"inertia\"}},\"id\":\"1041\",\"type\":\"Line\"},{\"attributes\":{\"ticks\":[1,2,3,4,5,6,7,8,9,10]},\"id\":\"1046\",\"type\":\"FixedTicker\"},{\"attributes\":{\"margin\":[5,5,5,5],\"name\":\"HSpacer01631\",\"sizing_mode\":\"stretch_width\"},\"id\":\"1003\",\"type\":\"Spacer\"},{\"attributes\":{\"end\":10.0,\"reset_end\":10.0,\"reset_start\":1.0,\"start\":1.0,\"tags\":[[[\"k\",\"k\",null]]]},\"id\":\"1004\",\"type\":\"Range1d\"},{\"attributes\":{\"line_alpha\":0.2,\"line_color\":\"#30a2da\",\"line_width\":2,\"x\":{\"field\":\"k\"},\"y\":{\"field\":\"inertia\"}},\"id\":\"1042\",\"type\":\"Line\"},{\"attributes\":{},\"id\":\"1014\",\"type\":\"LinearScale\"},{\"attributes\":{},\"id\":\"1049\",\"type\":\"AllLabels\"},{\"attributes\":{},\"id\":\"1024\",\"type\":\"SaveTool\"},{\"attributes\":{\"below\":[{\"id\":\"1016\"}],\"center\":[{\"id\":\"1019\"},{\"id\":\"1023\"}],\"height\":300,\"left\":[{\"id\":\"1020\"}],\"margin\":[5,5,5,5],\"min_border_bottom\":10,\"min_border_left\":10,\"min_border_right\":10,\"min_border_top\":10,\"renderers\":[{\"id\":\"1043\"}],\"sizing_mode\":\"fixed\",\"title\":{\"id\":\"1008\"},\"toolbar\":{\"id\":\"1030\"},\"width\":700,\"x_range\":{\"id\":\"1004\"},\"x_scale\":{\"id\":\"1012\"},\"y_range\":{\"id\":\"1005\"},\"y_scale\":{\"id\":\"1014\"}},\"id\":\"1007\",\"subtype\":\"Figure\",\"type\":\"Plot\"},{\"attributes\":{\"line_color\":\"#30a2da\",\"line_width\":2,\"x\":{\"field\":\"k\"},\"y\":{\"field\":\"inertia\"}},\"id\":\"1040\",\"type\":\"Line\"}],\"root_ids\":[\"1002\"]},\"title\":\"Bokeh Application\",\"version\":\"2.4.1\"}};\n",
       "    var render_items = [{\"docid\":\"a270298d-ba43-4252-b000-03a1d8d68156\",\"root_ids\":[\"1002\"],\"roots\":{\"1002\":\"81f2203d-9e86-463f-8b24-4bfac459a2eb\"}}];\n",
       "    root.Bokeh.embed.embed_items_notebook(docs_json, render_items);\n",
       "  }\n",
       "  if (root.Bokeh !== undefined && root.Bokeh.Panel !== undefined) {\n",
       "    embed_document(root);\n",
       "  } else {\n",
       "    var attempts = 0;\n",
       "    var timer = setInterval(function(root) {\n",
       "      if (root.Bokeh !== undefined && root.Bokeh.Panel !== undefined) {\n",
       "        clearInterval(timer);\n",
       "        embed_document(root);\n",
       "      } else if (document.readyState == \"complete\") {\n",
       "        attempts++;\n",
       "        if (attempts > 200) {\n",
       "          clearInterval(timer);\n",
       "          console.log(\"Bokeh: ERROR: Unable to run BokehJS code because BokehJS library is missing\");\n",
       "        }\n",
       "      }\n",
       "    }, 25, root)\n",
       "  }\n",
       "})(window);</script>"
      ],
      "text/plain": [
       ":Curve   [k]   (inertia)"
      ]
     },
     "execution_count": 17,
     "metadata": {
      "application/vnd.holoviews_exec.v0+json": {
       "id": "1002"
      }
     },
     "output_type": "execute_result"
    }
   ],
   "source": [
    "# elbow curve\n",
    "# find best k value\n",
    "inertia = []\n",
    "k = list(range(1, 11))\n",
    "\n",
    "# loop through k values in range\n",
    "for i in k:\n",
    "    km = KMeans(n_clusters=i, random_state=42)\n",
    "    km.fit(rookies_pca_df)\n",
    "    inertia.append(km.inertia_)\n",
    "    \n",
    "# generate elbow curve\n",
    "elbow_data = {'k': k, 'inertia': inertia}\n",
    "df_elbow = pd.DataFrame(elbow_data)\n",
    "\n",
    "# plot\n",
    "df_elbow.hvplot.line(x='k', y='inertia', xticks=k, title='Elbow Curve')"
   ]
  },
  {
   "cell_type": "code",
   "execution_count": 18,
   "id": "39faec7f",
   "metadata": {},
   "outputs": [
    {
     "data": {
      "text/html": [
       "<div>\n",
       "<style scoped>\n",
       "    .dataframe tbody tr th:only-of-type {\n",
       "        vertical-align: middle;\n",
       "    }\n",
       "\n",
       "    .dataframe tbody tr th {\n",
       "        vertical-align: top;\n",
       "    }\n",
       "\n",
       "    .dataframe thead th {\n",
       "        text-align: right;\n",
       "    }\n",
       "</style>\n",
       "<table border=\"1\" class=\"dataframe\">\n",
       "  <thead>\n",
       "    <tr style=\"text-align: right;\">\n",
       "      <th></th>\n",
       "      <th>principal_componet_1</th>\n",
       "      <th>prinicpal_componet_2</th>\n",
       "      <th>class</th>\n",
       "    </tr>\n",
       "  </thead>\n",
       "  <tbody>\n",
       "    <tr>\n",
       "      <th>0</th>\n",
       "      <td>0.822433</td>\n",
       "      <td>-2.320291</td>\n",
       "      <td>0</td>\n",
       "    </tr>\n",
       "    <tr>\n",
       "      <th>1</th>\n",
       "      <td>0.599017</td>\n",
       "      <td>0.384720</td>\n",
       "      <td>4</td>\n",
       "    </tr>\n",
       "    <tr>\n",
       "      <th>2</th>\n",
       "      <td>-0.568228</td>\n",
       "      <td>3.103391</td>\n",
       "      <td>4</td>\n",
       "    </tr>\n",
       "    <tr>\n",
       "      <th>3</th>\n",
       "      <td>-1.969880</td>\n",
       "      <td>2.189917</td>\n",
       "      <td>4</td>\n",
       "    </tr>\n",
       "    <tr>\n",
       "      <th>4</th>\n",
       "      <td>-0.807715</td>\n",
       "      <td>-0.421470</td>\n",
       "      <td>2</td>\n",
       "    </tr>\n",
       "  </tbody>\n",
       "</table>\n",
       "</div>"
      ],
      "text/plain": [
       "   principal_componet_1  prinicpal_componet_2  class\n",
       "0              0.822433             -2.320291      0\n",
       "1              0.599017              0.384720      4\n",
       "2             -0.568228              3.103391      4\n",
       "3             -1.969880              2.189917      4\n",
       "4             -0.807715             -0.421470      2"
      ]
     },
     "execution_count": 18,
     "metadata": {},
     "output_type": "execute_result"
    }
   ],
   "source": [
    "# initialize k-means model\n",
    "model = KMeans(n_clusters=5, random_state=0)\n",
    "\n",
    "# fit model\n",
    "model.fit(rookies_pca_df)\n",
    "\n",
    "# predictions\n",
    "predictions = model.predict(rookies_pca_df)\n",
    "\n",
    "# add predicted class column\n",
    "rookies_pca_df['class'] = model.labels_\n",
    "rookies_pca_df.head()"
   ]
  },
  {
   "cell_type": "code",
   "execution_count": 19,
   "id": "de26d071",
   "metadata": {},
   "outputs": [
    {
     "data": {},
     "metadata": {},
     "output_type": "display_data"
    },
    {
     "data": {
      "application/vnd.holoviews_exec.v0+json": "",
      "text/html": [
       "<div id='1120'>\n",
       "\n",
       "\n",
       "\n",
       "\n",
       "\n",
       "  <div class=\"bk-root\" id=\"31bb28d4-41bb-45a1-8232-7888a16ecfd6\" data-root-id=\"1120\"></div>\n",
       "</div>\n",
       "<script type=\"application/javascript\">(function(root) {\n",
       "  function embed_document(root) {\n",
       "    var docs_json = {\"ea30add3-4406-44fa-8bbd-f716323b6420\":{\"defs\":[{\"extends\":null,\"module\":null,\"name\":\"ReactiveHTML1\",\"overrides\":[],\"properties\":[]},{\"extends\":null,\"module\":null,\"name\":\"FlexBox1\",\"overrides\":[],\"properties\":[{\"default\":\"flex-start\",\"kind\":null,\"name\":\"align_content\"},{\"default\":\"flex-start\",\"kind\":null,\"name\":\"align_items\"},{\"default\":\"row\",\"kind\":null,\"name\":\"flex_direction\"},{\"default\":\"wrap\",\"kind\":null,\"name\":\"flex_wrap\"},{\"default\":\"flex-start\",\"kind\":null,\"name\":\"justify_content\"}]},{\"extends\":null,\"module\":null,\"name\":\"GridStack1\",\"overrides\":[],\"properties\":[{\"default\":\"warn\",\"kind\":null,\"name\":\"mode\"},{\"default\":null,\"kind\":null,\"name\":\"ncols\"},{\"default\":null,\"kind\":null,\"name\":\"nrows\"},{\"default\":true,\"kind\":null,\"name\":\"allow_resize\"},{\"default\":true,\"kind\":null,\"name\":\"allow_drag\"},{\"default\":[],\"kind\":null,\"name\":\"state\"}]},{\"extends\":null,\"module\":null,\"name\":\"click1\",\"overrides\":[],\"properties\":[{\"default\":\"\",\"kind\":null,\"name\":\"terminal_output\"},{\"default\":\"\",\"kind\":null,\"name\":\"debug_name\"},{\"default\":0,\"kind\":null,\"name\":\"clears\"}]},{\"extends\":null,\"module\":null,\"name\":\"TemplateActions1\",\"overrides\":[],\"properties\":[{\"default\":0,\"kind\":null,\"name\":\"open_modal\"},{\"default\":0,\"kind\":null,\"name\":\"close_modal\"}]},{\"extends\":null,\"module\":null,\"name\":\"MaterialTemplateActions1\",\"overrides\":[],\"properties\":[{\"default\":0,\"kind\":null,\"name\":\"open_modal\"},{\"default\":0,\"kind\":null,\"name\":\"close_modal\"}]}],\"roots\":{\"references\":[{\"attributes\":{\"fill_color\":{\"value\":\"#8b8b8b\"},\"hatch_color\":{\"value\":\"#8b8b8b\"},\"line_color\":{\"value\":\"#8b8b8b\"},\"size\":{\"value\":5.477225575051661},\"x\":{\"field\":\"principal_componet_1\"},\"y\":{\"field\":\"prinicpal_componet_2\"}},\"id\":\"1261\",\"type\":\"Scatter\"},{\"attributes\":{\"angle\":{\"value\":0.0},\"fill_alpha\":{\"value\":1.0},\"fill_color\":{\"value\":\"#fc4f30\"},\"hatch_alpha\":{\"value\":1.0},\"hatch_color\":{\"value\":\"#fc4f30\"},\"hatch_scale\":{\"value\":12.0},\"hatch_weight\":{\"value\":1.0},\"line_alpha\":{\"value\":1.0},\"line_cap\":{\"value\":\"butt\"},\"line_color\":{\"value\":\"#fc4f30\"},\"line_dash\":{\"value\":[]},\"line_dash_offset\":{\"value\":0},\"line_join\":{\"value\":\"bevel\"},\"line_width\":{\"value\":1},\"marker\":{\"value\":\"circle\"},\"size\":{\"value\":5.477225575051661},\"x\":{\"field\":\"principal_componet_1\"},\"y\":{\"field\":\"prinicpal_componet_2\"}},\"id\":\"1207\",\"type\":\"Scatter\"},{\"attributes\":{\"fill_alpha\":{\"value\":0.2},\"fill_color\":{\"value\":\"#30a2da\"},\"hatch_alpha\":{\"value\":0.2},\"hatch_color\":{\"value\":\"#30a2da\"},\"line_alpha\":{\"value\":0.2},\"line_color\":{\"value\":\"#30a2da\"},\"size\":{\"value\":5.477225575051661},\"x\":{\"field\":\"principal_componet_1\"},\"y\":{\"field\":\"prinicpal_componet_2\"}},\"id\":\"1170\",\"type\":\"Scatter\"},{\"attributes\":{\"fill_color\":{\"value\":\"#fc4f30\"},\"hatch_color\":{\"value\":\"#fc4f30\"},\"line_color\":{\"value\":\"#fc4f30\"},\"size\":{\"value\":5.477225575051661},\"x\":{\"field\":\"principal_componet_1\"},\"y\":{\"field\":\"prinicpal_componet_2\"}},\"id\":\"1189\",\"type\":\"Scatter\"},{\"attributes\":{\"coordinates\":null,\"group\":null,\"text_color\":\"black\",\"text_font_size\":\"12pt\"},\"id\":\"1130\",\"type\":\"Title\"},{\"attributes\":{\"label\":{\"value\":\"0\"},\"renderers\":[{\"id\":\"1171\"}]},\"id\":\"1184\",\"type\":\"LegendItem\"},{\"attributes\":{\"source\":{\"id\":\"1258\"}},\"id\":\"1265\",\"type\":\"CDSView\"},{\"attributes\":{\"data\":{\"class\":{\"__ndarray__\":\"AgAAAAIAAAACAAAAAgAAAAIAAAACAAAAAgAAAAIAAAACAAAAAgAAAAIAAAACAAAAAgAAAAIAAAACAAAAAgAAAAIAAAACAAAAAgAAAAIAAAACAAAAAgAAAAIAAAACAAAAAgAAAAIAAAACAAAAAgAAAAIAAAACAAAAAgAAAAIAAAACAAAAAgAAAAIAAAACAAAAAgAAAAIAAAACAAAAAgAAAAIAAAACAAAAAgAAAAIAAAACAAAAAgAAAAIAAAACAAAAAgAAAAIAAAACAAAAAgAAAAIAAAACAAAAAgAAAAIAAAACAAAAAgAAAAIAAAACAAAAAgAAAAIAAAACAAAAAgAAAAIAAAACAAAAAgAAAAIAAAACAAAAAgAAAAIAAAACAAAAAgAAAAIAAAACAAAAAgAAAAIAAAACAAAAAgAAAAIAAAACAAAAAgAAAAIAAAACAAAAAgAAAAIAAAACAAAAAgAAAAIAAAACAAAAAgAAAAIAAAACAAAAAgAAAAIAAAACAAAAAgAAAAIAAAACAAAAAgAAAAIAAAACAAAAAgAAAAIAAAACAAAAAgAAAAIAAAACAAAAAgAAAAIAAAACAAAAAgAAAAIAAAACAAAAAgAAAAIAAAACAAAAAgAAAAIAAAACAAAAAgAAAAIAAAACAAAAAgAAAAIAAAACAAAAAgAAAAIAAAACAAAAAgAAAAIAAAACAAAAAgAAAAIAAAACAAAAAgAAAAIAAAACAAAAAgAAAAIAAAACAAAAAgAAAAIAAAACAAAAAgAAAAIAAAACAAAAAgAAAAIAAAACAAAAAgAAAAIAAAACAAAAAgAAAAIAAAACAAAAAgAAAAIAAAACAAAAAgAAAAIAAAACAAAAAgAAAAIAAAACAAAAAgAAAAIAAAACAAAAAgAAAAIAAAACAAAAAgAAAAIAAAACAAAAAgAAAAIAAAACAAAAAgAAAAIAAAACAAAAAgAAAAIAAAACAAAAAgAAAAIAAAACAAAAAgAAAAIAAAACAAAAAgAAAAIAAAACAAAAAgAAAAIAAAACAAAAAgAAAAIAAAACAAAAAgAAAAIAAAACAAAAAgAAAAIAAAACAAAAAgAAAAIAAAACAAAAAgAAAAIAAAACAAAAAgAAAAIAAAACAAAAAgAAAAIAAAACAAAAAgAAAAIAAAACAAAAAgAAAAIAAAACAAAAAgAAAAIAAAACAAAAAgAAAAIAAAACAAAAAgAAAAIAAAACAAAAAgAAAAIAAAACAAAAAgAAAAIAAAACAAAAAgAAAAIAAAACAAAAAgAAAAIAAAACAAAAAgAAAAIAAAACAAAAAgAAAAIAAAACAAAAAgAAAAIAAAACAAAAAgAAAAIAAAACAAAAAgAAAAIAAAACAAAAAgAAAAIAAAACAAAAAgAAAAIAAAACAAAAAgAAAAIAAAACAAAAAgAAAAIAAAACAAAAAgAAAAIAAAACAAAAAgAAAAIAAAACAAAAAgAAAAIAAAACAAAAAgAAAAIAAAACAAAAAgAAAAIAAAACAAAAAgAAAAIAAAACAAAAAgAAAAIAAAACAAAAAgAAAAIAAAACAAAAAgAAAAIAAAACAAAAAgAAAAIAAAACAAAAAgAAAAIAAAACAAAAAgAAAAIAAAACAAAAAgAAAAIAAAACAAAAAgAAAAIAAAACAAAAAgAAAAIAAAACAAAAAgAAAAIAAAACAAAAAgAAAAIAAAACAAAAAgAAAAIAAAACAAAAAgAAAAIAAAACAAAAAgAAAAIAAAACAAAAAgAAAAIAAAACAAAAAgAAAAIAAAACAAAAAgAAAAIAAAACAAAAAgAAAAIAAAACAAAAAgAAAAIAAAACAAAAAgAAAAIAAAACAAAAAgAAAAIAAAACAAAAAgAAAAIAAAACAAAAAgAAAAIAAAACAAAAAgAAAAIAAAACAAAAAgAAAAIAAAACAAAAAgAAAAIAAAACAAAAAgAAAAIAAAACAAAAAgAAAAIAAAACAAAAAgAAAAIAAAACAAAAAgAAAAIAAAACAAAAAgAAAAIAAAACAAAAAgAAAAIAAAACAAAAAgAAAAIAAAACAAAAAgAAAAIAAAACAAAAAgAAAAIAAAACAAAAAgAAAAIAAAACAAAAAgAAAAIAAAACAAAAAgAAAAIAAAACAAAAAgAAAAIAAAACAAAAAgAAAAIAAAACAAAAAgAAAAIAAAACAAAAAgAAAAIAAAACAAAAAgAAAAIAAAACAAAAAgAAAAIAAAACAAAAAgAAAAIAAAACAAAAAgAAAAIAAAACAAAAAgAAAAIAAAACAAAAAgAAAAIAAAACAAAAAgAAAAIAAAACAAAAAgAAAAIAAAACAAAAAgAAAAIAAAACAAAAAgAAAAIAAAACAAAAAgAAAAIAAAACAAAAAgAAAAIAAAACAAAAAgAAAAIAAAACAAAAAgAAAAIAAAACAAAAAgAAAAIAAAACAAAAAgAAAAIAAAACAAAAAgAAAAIAAAACAAAAAgAAAAIAAAACAAAAAgAAAAIAAAACAAAAAgAAAAIAAAACAAAAAgAAAAIAAAACAAAAAgAAAAIAAAACAAAAAgAAAAIAAAACAAAAAgAAAAIAAAACAAAAAgAAAAIAAAACAAAAAgAAAAIAAAACAAAAAgAAAAIAAAACAAAAAgAAAAIAAAACAAAAAgAAAAIAAAACAAAAAgAAAAIAAAACAAAAAgAAAAIAAAACAAAAAgAAAAIAAAACAAAAAgAAAAIAAAACAAAAAgAAAAIAAAACAAAAAgAAAAIAAAACAAAAAgAAAAIAAAACAAAAAgAAAAIAAAACAAAAAgAAAAIAAAACAAAAAgAAAAIAAAACAAAAAgAAAAIAAAACAAAAAgAAAAIAAAACAAAAAgAAAAIAAAACAAAAAgAAAAIAAAACAAAAAgAAAAIAAAACAAAAAgAAAAIAAAACAAAAAgAAAAIAAAACAAAAAgAAAAIAAAACAAAAAgAAAAIAAAACAAAAAgAAAAIAAAACAAAAAgAAAAIAAAACAAAAAgAAAAIAAAACAAAAAgAAAAIAAAACAAAAAgAAAAIAAAACAAAAAgAAAAIAAAACAAAAAgAAAAIAAAACAAAAAgAAAAIAAAACAAAAAgAAAAIAAAACAAAAAgAAAAIAAAACAAAAAgAAAAIAAAACAAAAAgAAAAIAAAACAAAAAgAAAAIAAAACAAAAAgAAAAIAAAACAAAAAgAAAAIAAAACAAAAAgAAAAIAAAACAAAAAgAAAAIAAAACAAAAAgAAAAIAAAACAAAAAgAAAAIAAAACAAAAAgAAAAIAAAACAAAAAgAAAAIAAAACAAAA\",\"dtype\":\"int32\",\"order\":\"little\",\"shape\":[621]},\"principal_componet_1\":{\"__ndarray__\":\"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\",\"dtype\":\"float64\",\"order\":\"little\",\"shape\":[621]},\"prinicpal_componet_2\":{\"__ndarray__\":\"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\",\"dtype\":\"float64\",\"order\":\"little\",\"shape\":[621]}},\"selected\":{\"id\":\"1209\"},\"selection_policy\":{\"id\":\"1227\"}},\"id\":\"1208\",\"type\":\"ColumnDataSource\"},{\"attributes\":{\"children\":[{\"id\":\"1121\"},{\"id\":\"1129\"},{\"id\":\"1448\"}],\"margin\":[0,0,0,0],\"name\":\"Row01896\",\"tags\":[\"embedded\"]},\"id\":\"1120\",\"type\":\"Row\"},{\"attributes\":{},\"id\":\"1161\",\"type\":\"AllLabels\"},{\"attributes\":{},\"id\":\"1209\",\"type\":\"Selection\"},{\"attributes\":{\"data\":{\"class\":{\"__ndarray__\":\"AAAAAAAAAAAAAAAAAAAAAAAAAAAAAAAAAAAAAAAAAAAAAAAAAAAAAAAAAAAAAAAAAAAAAAAAAAAAAAAAAAAAAAAAAAAAAAAAAAAAAAAAAAAAAAAAAAAAAAAAAAAAAAAAAAAAAAAAAAAAAAAAAAAAAAAAAAAAAAAAAAAAAAAAAAAAAAAAAAAAAAAAAAAAAAAAAAAAAAAAAAAAAAAAAAAAAAAAAAAAAAAAAAAAAAAAAAAAAAAAAAAAAAAAAAAAAAAAAAAAAAAAAAAAAAAAAAAAAAAAAAAAAAAAAAAAAAAAAAAAAAAAAAAAAAAAAAAAAAAAAAAAAAAAAAAAAAAAAAAAAAAAAAAAAAAAAAAAAAAAAAAAAAAAAAAAAAAAAAAAAAAAAAAAAAAAAAAAAAAAAAAAAAAAAAAAAAAAAAAAAAAAAAAAAAAAAAAAAAAAAAAAAAAAAAAAAAAAAAAAAAAAAAAAAAAAAAAAAAAAAAAAAAAAAAAAAAAAAAAAAAAAAAAAAAAAAAAAAAAAAAAAAAAAAAAAAAAAAAAAAAAAAAAAAAAAAAAAAAAAAAAAAAAAAAAAAAAAAAAAAAAAAAAAAAAAAAAAAAAAAAAAAAAAAAAAAAAAAAAAAAAAAAAAAAAAAAAAAAAAAAAAAAAAAAAAAAAAAAAAAAAAAAAAAAAAAAAAAAAAAAAAAAAAAAAAAAAAAAAAAAAAAAAAAAAAAAAAAAAAAAAAAAAAAAAAAAAAAAAAAAAAAAAAAAAAAAAAAAAAAAAAAAAAAAAAAAAAAAAAAAAAAAAAAAAAAAAAAAAAAAAAAAAAAAAAAAAAAAAAAAAAAAAAAAAAAAAAAAAAAAAAAAAAAAAAAAAAAAAAAAAAAAAAAAAAAAAAAAAAAAAAAAAAAAAAAAAAAAAAAAAAAAAAAAAAAAAAAAAAAAAAAAAAAAAAAAAAAAAAAAAAAAAAAAAAAAAAAAAAAAAAAAAAAAAAAAAAAAAAAAAAAAAAAAAAAAAAAAAAAAAAAAAAAAAAAAAAAAAAAAAAAAAAAAAAAAAAAAAAAAAAAAAAAAAAAAAAAAAAAAAAAAAAAAAAAAAAAAAAAAAAAAAAAAAAAAAAAAAAAAAAAAAAAAAAAAAAAAAAAAAAAAAAAAAAAAAAAAAAAAAAAAAAAAAAAAAAAAAAAAAAAAAAAAAAAAAAAAAAAAAAAAAAAAAAAAAAAAAAAAAAAAAAAAAAAAAAAAAAAAAAAAAAAAAAAAAAAAAAAAAAAAAAAAAAAAAAAAAAAAAAAAAAAAAAAAAAAAAAAAAAAAAAAAAAAAAAAAAAAAAAAAAAAAAAAAAAAAAAAAAAAAAAAAAAAAAAAAAAAAAAAAAAAAAAAAAAAAAAAAAAAAAAAAAAAAAAAAAAAAAAAAAAAAAAAAAAAAAAAAAAAAAAAAAAAAAAAAAAAAAAAAAAAAAAAAAAAAAAAAAAAAAAAAAAAAAAAAAAAAAAAAAAAAAAAAAAAAAAAAAAAAAAAAAAAAAAAAAAAAAAAAAAAAAAAAAAAAAAAAAAAAAAAAAAAAAAAAAAAAAAAAAAAAAAAAAAAAAAAAAAAAAAAAAAAAAAAAAAAAAAAAAAAAAAAAAAAAAAAAAAAAAAAAAAAAAAAAAAAAAAAAAAAAAAAAAAAAAAAAAAAAAAAAAAAAAAAAAAAAAAAAAAAAAAAAAAAAAAAAAAAAAAAAAAAAAAAAAAAAAAAAAAAAAAAAAAAAAAAAAAAAAAAAAAAAAAAAAAAAAAAAAAAAAAAAAAAAAAAAAAAAAAAAAAAAAAAAAAAAAAAAAAAAAAAAAAAAAAAAAAAAAAAAAAAAAAAAA=\",\"dtype\":\"int32\",\"order\":\"little\",\"shape\":[341]},\"principal_componet_1\":{\"__ndarray__\":\"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\",\"dtype\":\"float64\",\"order\":\"little\",\"shape\":[341]},\"prinicpal_componet_2\":{\"__ndarray__\":\"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\",\"dtype\":\"float64\",\"order\":\"little\",\"shape\":[341]}},\"selected\":{\"id\":\"1166\"},\"selection_policy\":{\"id\":\"1180\"}},\"id\":\"1165\",\"type\":\"ColumnDataSource\"},{\"attributes\":{\"data\":{\"class\":{\"__ndarray__\":\"BAAAAAQAAAAEAAAABAAAAAQAAAAEAAAABAAAAAQAAAAEAAAABAAAAAQAAAAEAAAABAAAAAQAAAAEAAAABAAAAAQAAAAEAAAABAAAAAQAAAAEAAAABAAAAAQAAAAEAAAABAAAAAQAAAAEAAAABAAAAAQAAAAEAAAABAAAAAQAAAAEAAAABAAAAAQAAAAEAAAABAAAAAQAAAAEAAAABAAAAAQAAAAEAAAABAAAAAQAAAAEAAAABAAAAAQAAAAEAAAABAAAAAQAAAAEAAAABAAAAAQAAAAEAAAABAAAAAQAAAAEAAAABAAAAAQAAAAEAAAABAAAAAQAAAAEAAAABAAAAAQAAAAEAAAABAAAAAQAAAAEAAAABAAAAAQAAAAEAAAABAAAAAQAAAAEAAAABAAAAAQAAAAEAAAABAAAAAQAAAAEAAAABAAAAAQAAAAEAAAABAAAAAQAAAAEAAAABAAAAAQAAAAEAAAABAAAAAQAAAAEAAAABAAAAAQAAAAEAAAABAAAAAQAAAAEAAAABAAAAAQAAAAEAAAABAAAAAQAAAAEAAAABAAAAAQAAAAEAAAABAAAAAQAAAAEAAAABAAAAAQAAAAEAAAABAAAAAQAAAAEAAAABAAAAAQAAAAEAAAABAAAAAQAAAAEAAAABAAAAAQAAAAEAAAABAAAAAQAAAAEAAAABAAAAAQAAAAEAAAABAAAAAQAAAAEAAAABAAAAAQAAAAEAAAABAAAAAQAAAAEAAAABAAAAAQAAAAEAAAABAAAAAQAAAAEAAAABAAAAAQAAAAEAAAABAAAAAQAAAAEAAAABAAAAAQAAAAEAAAABAAAAAQAAAAEAAAABAAAAAQAAAAEAAAABAAAAAQAAAAEAAAABAAAAAQAAAAEAAAABAAAAAQAAAAEAAAABAAAAAQAAAAEAAAABAAAAAQAAAAEAAAABAAAAAQAAAAEAAAABAAAAAQAAAAEAAAABAAAAAQAAAAEAAAABAAAAAQAAAAEAAAABAAAAAQAAAAEAAAABAAAAAQAAAAEAAAABAAAAAQAAAAEAAAABAAAAAQAAAAEAAAABAAAAAQAAAAEAAAABAAAAAQAAAAEAAAABAAAAAQAAAAEAAAABAAAAAQAAAAEAAAABAAAAAQAAAAEAAAABAAAAAQAAAAEAAAABAAAAAQAAAAEAAAABAAAAAQAAAAEAAAABAAAAAQAAAAEAAAABAAAAAQAAAAEAAAABAAAAAQAAAAEAAAABAAAAAQAAAAEAAAABAAAAAQAAAAEAAAABAAAAAQAAAAEAAAABAAAAAQAAAAEAAAABAAAAAQAAAAEAAAABAAAAAQAAAAEAAAABAAAAAQAAAAEAAAABAAAAAQAAAAEAAAABAAAAAQAAAAEAAAABAAAAAQAAAAEAAAABAAAAAQAAAAEAAAABAAAAAQAAAAEAAAABAAAAAQAAAAEAAAABAAAAAQAAAAEAAAABAAAAAQAAAAEAAAABAAAAAQAAAAEAAAABAAAAAQAAAAEAAAABAAAAAQAAAAEAAAABAAAAAQAAAAEAAAABAAAAAQAAAAEAAAABAAAAAQAAAAEAAAABAAAAAQAAAAEAAAABAAAAAQAAAAEAAAABAAAAAQAAAAEAAAABAAAAAQAAAAEAAAABAAAAAQAAAAEAAAABAAAAAQAAAAEAAAABAAAAAQAAAAEAAAABAAAAAQAAAAEAAAABAAAAAQAAAA=\",\"dtype\":\"int32\",\"order\":\"little\",\"shape\":[323]},\"principal_componet_1\":{\"__ndarray__\":\"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\",\"dtype\":\"float64\",\"order\":\"little\",\"shape\":[323]},\"prinicpal_componet_2\":{\"__ndarray__\":\"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\",\"dtype\":\"float64\",\"order\":\"little\",\"shape\":[323]}},\"selected\":{\"id\":\"1259\"},\"selection_policy\":{\"id\":\"1281\"}},\"id\":\"1258\",\"type\":\"ColumnDataSource\"},{\"attributes\":{\"click_policy\":\"mute\",\"coordinates\":null,\"group\":null,\"items\":[{\"id\":\"1184\"},{\"id\":\"1206\"},{\"id\":\"1230\"},{\"id\":\"1256\"},{\"id\":\"1284\"}],\"location\":[0,0],\"title\":\"class\"},\"id\":\"1183\",\"type\":\"Legend\"},{\"attributes\":{},\"id\":\"1160\",\"type\":\"BasicTickFormatter\"},{\"attributes\":{},\"id\":\"1203\",\"type\":\"UnionRenderers\"},{\"attributes\":{},\"id\":\"1136\",\"type\":\"LinearScale\"},{\"attributes\":{},\"id\":\"1180\",\"type\":\"UnionRenderers\"},{\"attributes\":{\"axis\":{\"id\":\"1138\"},\"coordinates\":null,\"grid_line_color\":null,\"group\":null,\"ticker\":null},\"id\":\"1141\",\"type\":\"Grid\"},{\"attributes\":{\"fill_color\":{\"value\":\"#e5ae38\"},\"hatch_color\":{\"value\":\"#e5ae38\"},\"line_color\":{\"value\":\"#e5ae38\"},\"size\":{\"value\":5.477225575051661},\"x\":{\"field\":\"principal_componet_1\"},\"y\":{\"field\":\"prinicpal_componet_2\"}},\"id\":\"1211\",\"type\":\"Scatter\"},{\"attributes\":{\"fill_alpha\":{\"value\":0.2},\"fill_color\":{\"value\":\"#6d904f\"},\"hatch_alpha\":{\"value\":0.2},\"hatch_color\":{\"value\":\"#6d904f\"},\"line_alpha\":{\"value\":0.2},\"line_color\":{\"value\":\"#6d904f\"},\"size\":{\"value\":5.477225575051661},\"x\":{\"field\":\"principal_componet_1\"},\"y\":{\"field\":\"prinicpal_componet_2\"}},\"id\":\"1237\",\"type\":\"Scatter\"},{\"attributes\":{\"source\":{\"id\":\"1208\"}},\"id\":\"1215\",\"type\":\"CDSView\"},{\"attributes\":{\"angle\":{\"value\":0.0},\"fill_alpha\":{\"value\":1.0},\"fill_color\":{\"value\":\"#6d904f\"},\"hatch_alpha\":{\"value\":1.0},\"hatch_color\":{\"value\":\"#6d904f\"},\"hatch_scale\":{\"value\":12.0},\"hatch_weight\":{\"value\":1.0},\"line_alpha\":{\"value\":1.0},\"line_cap\":{\"value\":\"butt\"},\"line_color\":{\"value\":\"#6d904f\"},\"line_dash\":{\"value\":[]},\"line_dash_offset\":{\"value\":0},\"line_join\":{\"value\":\"bevel\"},\"line_width\":{\"value\":1},\"marker\":{\"value\":\"circle\"},\"size\":{\"value\":5.477225575051661},\"x\":{\"field\":\"principal_componet_1\"},\"y\":{\"field\":\"prinicpal_componet_2\"}},\"id\":\"1257\",\"type\":\"Scatter\"},{\"attributes\":{},\"id\":\"1139\",\"type\":\"BasicTicker\"},{\"attributes\":{\"fill_alpha\":{\"value\":0.2},\"fill_color\":{\"value\":\"#fc4f30\"},\"hatch_alpha\":{\"value\":0.2},\"hatch_color\":{\"value\":\"#fc4f30\"},\"line_alpha\":{\"value\":0.2},\"line_color\":{\"value\":\"#fc4f30\"},\"size\":{\"value\":5.477225575051661},\"x\":{\"field\":\"principal_componet_1\"},\"y\":{\"field\":\"prinicpal_componet_2\"}},\"id\":\"1191\",\"type\":\"Scatter\"},{\"attributes\":{},\"id\":\"1143\",\"type\":\"BasicTicker\"},{\"attributes\":{\"axis_label\":\"principal_componet_1\",\"coordinates\":null,\"formatter\":{\"id\":\"1160\"},\"group\":null,\"major_label_policy\":{\"id\":\"1161\"},\"ticker\":{\"id\":\"1139\"}},\"id\":\"1138\",\"type\":\"LinearAxis\"},{\"attributes\":{\"end\":8.672446287245283,\"reset_end\":8.672446287245283,\"reset_start\":-7.8722130728981945,\"start\":-7.8722130728981945,\"tags\":[[[\"prinicpal_componet_2\",\"prinicpal_componet_2\",null]]]},\"id\":\"1123\",\"type\":\"Range1d\"},{\"attributes\":{},\"id\":\"1281\",\"type\":\"UnionRenderers\"},{\"attributes\":{\"axis\":{\"id\":\"1142\"},\"coordinates\":null,\"dimension\":1,\"grid_line_color\":null,\"group\":null,\"ticker\":null},\"id\":\"1145\",\"type\":\"Grid\"},{\"attributes\":{\"axis_label\":\"prinicpal_componet_2\",\"coordinates\":null,\"formatter\":{\"id\":\"1163\"},\"group\":null,\"major_label_policy\":{\"id\":\"1164\"},\"ticker\":{\"id\":\"1143\"}},\"id\":\"1142\",\"type\":\"LinearAxis\"},{\"attributes\":{\"fill_alpha\":{\"value\":0.1},\"fill_color\":{\"value\":\"#6d904f\"},\"hatch_alpha\":{\"value\":0.1},\"hatch_color\":{\"value\":\"#6d904f\"},\"line_alpha\":{\"value\":0.1},\"line_color\":{\"value\":\"#6d904f\"},\"size\":{\"value\":5.477225575051661},\"x\":{\"field\":\"principal_componet_1\"},\"y\":{\"field\":\"prinicpal_componet_2\"}},\"id\":\"1236\",\"type\":\"Scatter\"},{\"attributes\":{\"label\":{\"value\":\"3\"},\"renderers\":[{\"id\":\"1238\"}]},\"id\":\"1256\",\"type\":\"LegendItem\"},{\"attributes\":{\"data\":{\"class\":{\"__ndarray__\":\"AwAAAAMAAAADAAAAAwAAAAMAAAADAAAAAwAAAAMAAAADAAAAAwAAAAMAAAADAAAAAwAAAAMAAAADAAAAAwAAAAMAAAADAAAAAwAAAAMAAAADAAAAAwAAAAMAAAADAAAAAwAAAAMAAAADAAAAAwAAAAMAAAADAAAAAwAAAAMAAAADAAAAAwAAAAMAAAADAAAAAwAAAAMAAAADAAAAAwAAAAMAAAADAAAAAwAAAAMAAAADAAAAAwAAAAMAAAADAAAAAwAAAAMAAAADAAAAAwAAAAMAAAADAAAAAwAAAAMAAAADAAAAAwAAAAMAAAADAAAAAwAAAAMAAAADAAAAAwAAAAMAAAADAAAAAwAAAAMAAAADAAAAAwAAAAMAAAADAAAAAwAAAAMAAAADAAAAAwAAAAMAAAADAAAAAwAAAAMAAAADAAAAAwAAAAMAAAADAAAAAwAAAAMAAAADAAAAAwAAAAMAAAADAAAAAwAAAAMAAAADAAAAAwAAAAMAAAADAAAAAwAAAAMAAAADAAAAAwAAAAMAAAADAAAAAwAAAAMAAAA=\",\"dtype\":\"int32\",\"order\":\"little\",\"shape\":[104]},\"principal_componet_1\":{\"__ndarray__\":\"akC/xNIVFEBmbs35mJ0nQNpTAmllmRpAQhL99vmZEUClqBNB03oXQI61PW8Q1iBA9tszG3BaFUAUI52pTuAWQGi4M6g7URtA4/Ib93QkFUAagoqahCUSQPHja4iLexlAEFaeIaOrJ0D1UAbvTY0dQI0TZoyIJRZAhmhFexnbFUBGQzKSW7MUQOqjxtvEoiFAf8BLuklsHkAEfUhEu+8RQHx7CrVMghpAGEUCVXrrFUDkN1sordkiQN9HmG7aEiNAN3frKnHrH0DuBCvjrQAaQGwTVA8hlSNAkXYdKnamLkCCVDYx2R4cQD30qbhL9yJAGaSUE997JkDh8IJfIa8ZQDcbluLVvxtAsISfPmnLEEBXQIaoN1IbQOcOHm7pDSRAkwuF+ZB9HkAwH9dYAG4kQEADYlMuzhZAJIIR6p7VEEDSYMQiAUYoQHmnFMkkthJAfbjGP8eRG0BRS4RjxqcUQETYTa0XsBdA0ZTm8UMvFECFZwkrK0kRQCormyzXJiBAX9aSBf5cHEDa6Z5HbJQhQIHLAg8YRx1A5kSfeLwdIUDVj3Tjn0UcQKfhpJNsMh9A3gKoOtI2IUD0KqdU6H0iQChh1cK9hhRAMbu/B4MTEkB064P+WqYTQFU/5DPzLSFAQ/AmOyAFHEBAjOcTmU0jQI28+K5PgRhA9Pq5Or1BIkC1LbYlAxIWQFTM+Og2yBNA/VIa5wHiF0BVefPWHEsVQPrPH8p8cixAYM83zvwYFkCiWJXyXH8QQHuM9JrIeiNAxNJRIrDOEkDdSonDDn4VQOnVlx1TxhJA4lWMl31wJEDLcQYKTZQhQL6MA8YhqSZAmVRBlllVFUDMKS8rczMQQGT+re86MSVAk4XCKWgyEUDxf2T9nMwWQDfyaKwvuRFAlbYI/acwEUBQhbqLalMWQLzVHewXIi1ADfPI4d6HIEBUETdtBaMSQBgMY2p05RNAwtJM0dUbEkCETdl1UM8SQBzMGlsg7yZA7P7bRmc3KEBxpGLZQbQbQPr7qMYJgR5AuQ/+MaA9GEAPNzKFLEUdQIKVY+38rRNAjQGCRUj5E0CYWHWFt+4eQLHWU/VqQB5AzymeeT+JG0AFYo8iw8cYQA==\",\"dtype\":\"float64\",\"order\":\"little\",\"shape\":[104]},\"prinicpal_componet_2\":{\"__ndarray__\":\"J3yusU0LCcDGWGq8oa4UwHZoBzt+jwfAQh2GZxjU7r9WxVWMWBYIwBoND9zStMe/azp03UJQBsADa7m2vFj7v9hhJwRps/u/huRJa5NdC8A2XiCajUQFwG2wkp8SMQLA1n55fOQXBcCrkaTv1ZX8v+67OwsdFAjAwUJ1H4TSCcAPlfc7W/78v5atV6ts9hHA33B/OJz3B8C6Nt+CkooGwNP6hihoM/+/Mmn4g9HkBcDRV22lw9APwPw/BhUcB/G/RKt9ZLTA6D+t7pYh+/z4v5/LQmdWMf2/VIv6RIk8FcDrfs6eo7b5v/2u1o73qALAuqp6fU1UFsCVoDWFsW8CwFZHnQHwnfq/VypeMGUU779Js8BmIq4QwGS9mKzmjArALFhJiFUwEMCgyrCLnF2sv6wxWywOufa/cbPm2t3tBcAjQstfrm0WwNC+v1ujgQfA/wSpb1A0CMCdnSkjw18AwCKeSerAPwHAyYvnco0wAMAYj4ga/BsEwIu0U3jhFem/xKIM/7PRCMAuyOAaHFwHwKz3i9gQyAXAuUfYr3B0wD8NdQatSlv5v8E7lOjckALANqaan+WEA8BQ5eTtMVHQP28xzv3qIAHAYqbn4a8LAsCd9FnTC5cGwNRJkhUk6uU/aXed2yT5BsDCIEjKru//vymntZwvsRPAGFRxzT8I7r9PhrWKBXMEwNdPZ9H40ve/Xsq72mGfAcCEz+cSfNnmv7rGZmk+ae0/dJwEd+K+AMC3xkM6S6Xsv5M+AtZZRPA/mK7A3VNU/7/g/kPKa0gGwCB/Fc4dcQbAgK5qfcrNBcDrdwR0A3cJwGuwgAVQehHAfzte3IS37L+c+lQAbfIGwEO5H856P/s/G8OfEgG2BsAcdlvd8A4PwEAZgBk23/W/qXHub+r1+b+ypRWzidAGwEaKPtNV+RnA6KD7tIxx8L9HL7BafRgFwFZ3CxlYq+G/HLGE8qBVBsCYNWFHcVj0v5PtQrWlLAPAZV/xbz5gEsAPOibSsKf/v/YCQi1gdYM/NfWKHnwBCcAdWCsb2qi7PxVLrORUgfe//xDMgAz9AMCph2Ma6uTkP+yVCDFe9Pm/5iU6hkwDCsDzBN8OvwgMwA==\",\"dtype\":\"float64\",\"order\":\"little\",\"shape\":[104]}},\"selected\":{\"id\":\"1233\"},\"selection_policy\":{\"id\":\"1253\"}},\"id\":\"1232\",\"type\":\"ColumnDataSource\"},{\"attributes\":{\"angle\":{\"value\":0.0},\"fill_alpha\":{\"value\":1.0},\"fill_color\":{\"value\":\"#8b8b8b\"},\"hatch_alpha\":{\"value\":1.0},\"hatch_color\":{\"value\":\"#8b8b8b\"},\"hatch_scale\":{\"value\":12.0},\"hatch_weight\":{\"value\":1.0},\"line_alpha\":{\"value\":1.0},\"line_cap\":{\"value\":\"butt\"},\"line_color\":{\"value\":\"#8b8b8b\"},\"line_dash\":{\"value\":[]},\"line_dash_offset\":{\"value\":0},\"line_join\":{\"value\":\"bevel\"},\"line_width\":{\"value\":1},\"marker\":{\"value\":\"circle\"},\"size\":{\"value\":5.477225575051661},\"x\":{\"field\":\"principal_componet_1\"},\"y\":{\"field\":\"prinicpal_componet_2\"}},\"id\":\"1285\",\"type\":\"Scatter\"},{\"attributes\":{\"data\":{\"class\":{\"__ndarray__\":\"AQAAAAEAAAABAAAAAQAAAAEAAAABAAAAAQAAAAEAAAABAAAAAQAAAAEAAAABAAAAAQAAAAEAAAABAAAAAQAAAAEAAAABAAAAAQAAAAEAAAABAAAAAQAAAAEAAAABAAAAAQAAAAEAAAABAAAAAQAAAAEAAAABAAAAAQAAAAEAAAABAAAAAQAAAAEAAAABAAAAAQAAAAEAAAABAAAAAQAAAAEAAAABAAAAAQAAAAEAAAABAAAAAQAAAAEAAAABAAAAAQAAAAEAAAABAAAAAQAAAAEAAAABAAAAAQAAAAEAAAABAAAAAQAAAAEAAAABAAAAAQAAAAEAAAABAAAAAQAAAAEAAAABAAAAAQAAAAEAAAABAAAAAQAAAAEAAAABAAAAAQAAAAEAAAABAAAAAQAAAAEAAAABAAAAAQAAAAEAAAABAAAAAQAAAAEAAAABAAAAAQAAAAEAAAABAAAAAQAAAAEAAAABAAAAAQAAAAEAAAABAAAAAQAAAAEAAAABAAAAAQAAAAEAAAABAAAAAQAAAAEAAAABAAAAAQAAAAEAAAABAAAAAQAAAAEAAAABAAAAAQAAAAEAAAABAAAAAQAAAAEAAAABAAAAAQAAAAEAAAABAAAAAQAAAAEAAAABAAAAAQAAAAEAAAABAAAAAQAAAAEAAAABAAAAAQAAAAEAAAABAAAAAQAAAAEAAAABAAAAAQAAAAEAAAABAAAAAQAAAAEAAAABAAAAAQAAAAEAAAABAAAAAQAAAAEAAAABAAAAAQAAAAEAAAABAAAAAQAAAA==\",\"dtype\":\"int32\",\"order\":\"little\",\"shape\":[148]},\"principal_componet_1\":{\"__ndarray__\":\"oNhsg4G3AUBr/7zcvuELQCxk3I6fOidAyaoXtDkTEEAyj9doC2oNQP69Fpm9NgRAkhDsC0IXB0ActHkplLcZQEFZOJvOPiBADje0cyeoDkBMAkDnKxIRQB6NSq+znA5AWwgXdfd3FkCWAMzt/eoLQLKdW1WCshdAuH2GboUoAECYLCXAW+kRQDrHtJkX+QdAicxjM/zSIUARTRpmhiQaQPBK4F2ZdRBA9T6dcismC0Bvp4m9OIAUQMBSU2oYzQ5AYHxYm61fIECERQj3Nu0DQGMVQqUszAVAI3HvQYrJHEAIhCkCbxshQNalFxv/7A9AJ+w/GRzQGkAJIqSP89YMQMiITYjwaglAuj/n5qUBDkCkg0ZbsesNQNusI4ceigJAd5GVaBWHF0C517iVRQYMQP1e0tH+Gw5AqBdM/kKMCEBGjYrUjV8JQOwqD3grdBBAh0wL/Bj5GUAaCTu3ta0RQHrvTC/Uvw1AheDlMvWwEUCxcu5pIjELQMRqG+oiLRVACg1ULaFtAkBfiHvbvakSQPfBjnPspghARb/wZqYMCECmuJxvnAsLQAqcPLYORyNAgicqddlVBkAqwuwkKakTQPw0Pnl39wJAi4BRjSjsFEApcoDh3c0FQKVVNaVgdyBAiBhxKPTREUAHIDC+dGwdQMcWqcwisAJA9VZ30x9zG0C03M9Acd8SQEGMDQgy0hJAFp5k3mhsAkC7kvqyNHcgQPwk/ms9ViBAeVTUrdFZEEAbLlpatYcGQI9sHt37XQBAprdYvziz/z9BvAVDtUYfQNTyrNRP+hJA6m4EZYEfDEDy2VTCT3MIQPjVsWTzqxNA8JNqDZdeF0DTNxBLRtseQHUGA81SshJATxtRgsn1A0D83NDCbwkCQLAy3V8A8hJAiSHIzttZAUAQkoOhBVoXQMCEaSptVhpApj9JF8PoEUBN7AHKgtYKQCVOy3iEcQlAiKhvkybzFkAh+LXUXgsjQKvNsblX7wRAoCBL6AKqC0DMBDQ10O0BQCDGG7KokAhAOQNvJBw7DECMxyxkkGAYQG/QATvE8B1AeO1EOGAoB0BXQbcaZ+EJQEZnDVuSefo/DztiLeLDEUDm61ip4sUOQDAiA3n+lSBAMJ7PruMgFkD6H4EQdZMSQPFguAvo4gRABP6U/yU4DUBQdFv+89ECQJRumu5dRAhAMd4P49EcEUDHsnRLlAMHQJ1J37ckDBpAtos9a3xpHkBgaWARSPUKQAkIaSwYCBJAxrD5SwbbEkDfSVBWYDsQQMcUayZHEBBAOkXjcO50FUCSdklfohkSQIA8+qFXcv4/4gAUTHysCEAkCDYK1VsbQLiPA2X9mBBAoa6kLu+oGEBXla9/ty8WQKc8d2JJ3RxAm84sAEj7GEDajVVGQQkhQKCv2OQv+QpAwjDI/jHXGkCD5reCoHMRQESGQQ5ZAA9AbwEAT9uvAUDIrtKA1iEUQGLF6fKazwtA9zVapCKkIUCqt6rJrigMQH0Jy0YMpxNAzEuAfG2yCEClZiTJPYcWQGOhjWdRfQZAqyitmN/SGECQGcrL4hcJQHUDzPJt3RFAYVwT+ZtvAkA=\",\"dtype\":\"float64\",\"order\":\"little\",\"shape\":[148]},\"prinicpal_componet_2\":{\"__ndarray__\":\"OKjq9ZPwCEAJzVrAFoXiP0cOk6xglBpAF/O/yaxX5z+JKV/NQsz1P+XgqthYuQVAhk+TczNy9D9u6brLjEfxP48ngRedyQRAagqhhzCfEUBHcEe/cZoBQE7BCuAQMQ5A7Qbq3ly3F0DwauD6TjQSQP6a2N3jFwhA18NzYjRqD0C4rS2DjtUDQF57y9Q57ek/b9DwKbv8/j82eNRm3cj5Pz6L+oxWgcg/bf8LWzYXE0CJ4TJ4Pl/qP5Q6JeaxV+0/QRiVFVp1DUBnKBe0xp8RQIFhH+0MsBFAixJf4zxvHEDmJ23bJIoaQJVTyX2qYhJABn+bRHgn8z9lWMnke/oHQBieEF1dR/A/iX01VhYZDkAzlTqmff4AQPsHs+wwJwtADQqlPEhY/j/fG5mBzgIPQFovG4RueAxA7rVx4y4H6z+kJxdhiEzXP8R4nDb75O4/sKaSxGOG9j8iSzPa3uwIQI++duKjvPE/Y7lNPuMWEEByt76dCQgAQI6AGPOTvhFArg/7m95gAkBZca8DkpQDQDcipDbKjPM/zxK0wPndBUBRRCAz3PzfP9vrTtA93wVA4iyA+cjjCEA3LOlLMFAHQBWIx+gwjAlARtwvL5e+/T9aWsg9ZRcOQBNZzTpr1wdAP6HRc4T9CkAJIzOYfX0MQDiCMtRWAQhA0zdQKwWvCkCsGXMRjTkEQAe3MSnGLB1AwHQ1/oXCCUDMP2axexINQMtm1p6PAwxA6XxL0RFaEEBvNvxEJKMBQJMLDPiqRwxAN9jjhU+HFECLeH0VW4oCQF/IiFGxTwNAoqNLH2pSDUAFhoCSzJHqPzsaznSDlwZAvd9MemP4E0BbhGapPTQDQDx4pXpl3/4/MXHHjESP+j8daE5h27EGQM21JbvZHxhAnEOQPl/wEEBkswFct9bfP6adEDkpkBFADc+r0FpT/D9jOhmTjpzwP71uGLb3tw5Ar7cmuCYoBkBMrCH0QsAJQMjU/BV2Uw5A4ewtP+uB6D9PythvfAgGQPmahf9Yag5ANeyPNcLlEkB6LI+Bw2HtP1ewjzRAbA5Aa7YzEzds+T/L11U+phgCQBLSbao4XBRAgkolyN4rAkBfu5Cj/l/Rv8d1uJ6YWAhA9KlZj4hl+T9taTVcVWMJQB2Eu5twgwtAZyil3jrQ2T8UEZDJmyAGQC4SI13Lg9w/FkLADAsrFUAB6IY6HXz/P/oFp8v/whRAn+7aWSt8A0BlQnMZmN8AQLRkVBYVMvA/zzGpGoPXCEDgD3kQ5qUQQCvCIYSZqQdAbXEQmPb4EUDSvCgd6q3xP5QIh7NyLBNAYwjTBblL5z+e+PivyowBQL1GiL0ZGKq/3SjesOzLAUBLxb+QgSMCQHE7Vuz8rxhATZ1lPoqrFUACXH3ddiwRQLEp3u3gWANA4rqLo/nWCUCr48zi1A/1P3M84pGWFfA/OZukevcjCECjSrwuLMIOQP8Q2c1ZyRZAWzL6fNx7A0Dsw+BD5ccKQAZ3kt5jrdk/JlWET9E/AkAWtAJYBz0KQHMqZo3BMOg/B+lcXJ76A0DqzOX7+IPNP9Ubvefh8gRAHzkMQ0WhBkA=\",\"dtype\":\"float64\",\"order\":\"little\",\"shape\":[148]}},\"selected\":{\"id\":\"1187\"},\"selection_policy\":{\"id\":\"1203\"}},\"id\":\"1186\",\"type\":\"ColumnDataSource\"},{\"attributes\":{\"fill_alpha\":{\"value\":0.1},\"fill_color\":{\"value\":\"#e5ae38\"},\"hatch_alpha\":{\"value\":0.1},\"hatch_color\":{\"value\":\"#e5ae38\"},\"line_alpha\":{\"value\":0.1},\"line_color\":{\"value\":\"#e5ae38\"},\"size\":{\"value\":5.477225575051661},\"x\":{\"field\":\"principal_componet_1\"},\"y\":{\"field\":\"prinicpal_componet_2\"}},\"id\":\"1212\",\"type\":\"Scatter\"},{\"attributes\":{\"label\":{\"value\":\"2\"},\"renderers\":[{\"id\":\"1214\"}]},\"id\":\"1230\",\"type\":\"LegendItem\"},{\"attributes\":{},\"id\":\"1253\",\"type\":\"UnionRenderers\"},{\"attributes\":{\"coordinates\":null,\"data_source\":{\"id\":\"1232\"},\"glyph\":{\"id\":\"1235\"},\"group\":null,\"hover_glyph\":null,\"muted_glyph\":{\"id\":\"1237\"},\"nonselection_glyph\":{\"id\":\"1236\"},\"selection_glyph\":{\"id\":\"1257\"},\"view\":{\"id\":\"1239\"}},\"id\":\"1238\",\"type\":\"GlyphRenderer\"},{\"attributes\":{},\"id\":\"1134\",\"type\":\"LinearScale\"},{\"attributes\":{\"fill_alpha\":{\"value\":0.1},\"fill_color\":{\"value\":\"#30a2da\"},\"hatch_alpha\":{\"value\":0.1},\"hatch_color\":{\"value\":\"#30a2da\"},\"line_alpha\":{\"value\":0.1},\"line_color\":{\"value\":\"#30a2da\"},\"size\":{\"value\":5.477225575051661},\"x\":{\"field\":\"principal_componet_1\"},\"y\":{\"field\":\"prinicpal_componet_2\"}},\"id\":\"1169\",\"type\":\"Scatter\"},{\"attributes\":{\"callback\":null,\"renderers\":[{\"id\":\"1171\"},{\"id\":\"1192\"},{\"id\":\"1214\"},{\"id\":\"1238\"},{\"id\":\"1264\"}],\"tags\":[\"hv_created\"],\"tooltips\":[[\"class\",\"@{class}\"],[\"principal_componet_1\",\"@{principal_componet_1}\"],[\"prinicpal_componet_2\",\"@{prinicpal_componet_2}\"]]},\"id\":\"1124\",\"type\":\"HoverTool\"},{\"attributes\":{\"margin\":[5,5,5,5],\"name\":\"HSpacer01901\",\"sizing_mode\":\"stretch_width\"},\"id\":\"1448\",\"type\":\"Spacer\"},{\"attributes\":{\"fill_alpha\":{\"value\":0.1},\"fill_color\":{\"value\":\"#8b8b8b\"},\"hatch_alpha\":{\"value\":0.1},\"hatch_color\":{\"value\":\"#8b8b8b\"},\"line_alpha\":{\"value\":0.1},\"line_color\":{\"value\":\"#8b8b8b\"},\"size\":{\"value\":5.477225575051661},\"x\":{\"field\":\"principal_componet_1\"},\"y\":{\"field\":\"prinicpal_componet_2\"}},\"id\":\"1262\",\"type\":\"Scatter\"},{\"attributes\":{},\"id\":\"1164\",\"type\":\"AllLabels\"},{\"attributes\":{},\"id\":\"1227\",\"type\":\"UnionRenderers\"},{\"attributes\":{\"tools\":[{\"id\":\"1124\"},{\"id\":\"1146\"},{\"id\":\"1147\"},{\"id\":\"1148\"},{\"id\":\"1149\"},{\"id\":\"1150\"}]},\"id\":\"1152\",\"type\":\"Toolbar\"},{\"attributes\":{\"bottom_units\":\"screen\",\"coordinates\":null,\"fill_alpha\":0.5,\"fill_color\":\"lightgrey\",\"group\":null,\"left_units\":\"screen\",\"level\":\"overlay\",\"line_alpha\":1.0,\"line_color\":\"black\",\"line_dash\":[4,4],\"line_width\":2,\"right_units\":\"screen\",\"syncable\":false,\"top_units\":\"screen\"},\"id\":\"1151\",\"type\":\"BoxAnnotation\"},{\"attributes\":{\"coordinates\":null,\"data_source\":{\"id\":\"1186\"},\"glyph\":{\"id\":\"1189\"},\"group\":null,\"hover_glyph\":null,\"muted_glyph\":{\"id\":\"1191\"},\"nonselection_glyph\":{\"id\":\"1190\"},\"selection_glyph\":{\"id\":\"1207\"},\"view\":{\"id\":\"1193\"}},\"id\":\"1192\",\"type\":\"GlyphRenderer\"},{\"attributes\":{},\"id\":\"1146\",\"type\":\"SaveTool\"},{\"attributes\":{},\"id\":\"1233\",\"type\":\"Selection\"},{\"attributes\":{},\"id\":\"1147\",\"type\":\"PanTool\"},{\"attributes\":{},\"id\":\"1150\",\"type\":\"ResetTool\"},{\"attributes\":{\"angle\":{\"value\":0.0},\"fill_alpha\":{\"value\":1.0},\"fill_color\":{\"value\":\"#e5ae38\"},\"hatch_alpha\":{\"value\":1.0},\"hatch_color\":{\"value\":\"#e5ae38\"},\"hatch_scale\":{\"value\":12.0},\"hatch_weight\":{\"value\":1.0},\"line_alpha\":{\"value\":1.0},\"line_cap\":{\"value\":\"butt\"},\"line_color\":{\"value\":\"#e5ae38\"},\"line_dash\":{\"value\":[]},\"line_dash_offset\":{\"value\":0},\"line_join\":{\"value\":\"bevel\"},\"line_width\":{\"value\":1},\"marker\":{\"value\":\"circle\"},\"size\":{\"value\":5.477225575051661},\"x\":{\"field\":\"principal_componet_1\"},\"y\":{\"field\":\"prinicpal_componet_2\"}},\"id\":\"1231\",\"type\":\"Scatter\"},{\"attributes\":{},\"id\":\"1148\",\"type\":\"WheelZoomTool\"},{\"attributes\":{\"source\":{\"id\":\"1186\"}},\"id\":\"1193\",\"type\":\"CDSView\"},{\"attributes\":{\"overlay\":{\"id\":\"1151\"}},\"id\":\"1149\",\"type\":\"BoxZoomTool\"},{\"attributes\":{\"coordinates\":null,\"data_source\":{\"id\":\"1258\"},\"glyph\":{\"id\":\"1261\"},\"group\":null,\"hover_glyph\":null,\"muted_glyph\":{\"id\":\"1263\"},\"nonselection_glyph\":{\"id\":\"1262\"},\"selection_glyph\":{\"id\":\"1285\"},\"view\":{\"id\":\"1265\"}},\"id\":\"1264\",\"type\":\"GlyphRenderer\"},{\"attributes\":{},\"id\":\"1163\",\"type\":\"BasicTickFormatter\"},{\"attributes\":{},\"id\":\"1187\",\"type\":\"Selection\"},{\"attributes\":{\"fill_alpha\":{\"value\":0.1},\"fill_color\":{\"value\":\"#fc4f30\"},\"hatch_alpha\":{\"value\":0.1},\"hatch_color\":{\"value\":\"#fc4f30\"},\"line_alpha\":{\"value\":0.1},\"line_color\":{\"value\":\"#fc4f30\"},\"size\":{\"value\":5.477225575051661},\"x\":{\"field\":\"principal_componet_1\"},\"y\":{\"field\":\"prinicpal_componet_2\"}},\"id\":\"1190\",\"type\":\"Scatter\"},{\"attributes\":{\"below\":[{\"id\":\"1138\"}],\"center\":[{\"id\":\"1141\"},{\"id\":\"1145\"}],\"height\":300,\"left\":[{\"id\":\"1142\"}],\"margin\":[5,5,5,5],\"min_border_bottom\":10,\"min_border_left\":10,\"min_border_right\":10,\"min_border_top\":10,\"renderers\":[{\"id\":\"1171\"},{\"id\":\"1192\"},{\"id\":\"1214\"},{\"id\":\"1238\"},{\"id\":\"1264\"}],\"right\":[{\"id\":\"1183\"}],\"sizing_mode\":\"fixed\",\"title\":{\"id\":\"1130\"},\"toolbar\":{\"id\":\"1152\"},\"width\":700,\"x_range\":{\"id\":\"1122\"},\"x_scale\":{\"id\":\"1134\"},\"y_range\":{\"id\":\"1123\"},\"y_scale\":{\"id\":\"1136\"}},\"id\":\"1129\",\"subtype\":\"Figure\",\"type\":\"Plot\"},{\"attributes\":{\"end\":16.232224373434818,\"reset_end\":16.232224373434818,\"reset_start\":-6.747746153631771,\"start\":-6.747746153631771,\"tags\":[[[\"principal_componet_1\",\"principal_componet_1\",null]]]},\"id\":\"1122\",\"type\":\"Range1d\"},{\"attributes\":{\"fill_alpha\":{\"value\":0.2},\"fill_color\":{\"value\":\"#e5ae38\"},\"hatch_alpha\":{\"value\":0.2},\"hatch_color\":{\"value\":\"#e5ae38\"},\"line_alpha\":{\"value\":0.2},\"line_color\":{\"value\":\"#e5ae38\"},\"size\":{\"value\":5.477225575051661},\"x\":{\"field\":\"principal_componet_1\"},\"y\":{\"field\":\"prinicpal_componet_2\"}},\"id\":\"1213\",\"type\":\"Scatter\"},{\"attributes\":{\"fill_alpha\":{\"value\":0.2},\"fill_color\":{\"value\":\"#8b8b8b\"},\"hatch_alpha\":{\"value\":0.2},\"hatch_color\":{\"value\":\"#8b8b8b\"},\"line_alpha\":{\"value\":0.2},\"line_color\":{\"value\":\"#8b8b8b\"},\"size\":{\"value\":5.477225575051661},\"x\":{\"field\":\"principal_componet_1\"},\"y\":{\"field\":\"prinicpal_componet_2\"}},\"id\":\"1263\",\"type\":\"Scatter\"},{\"attributes\":{\"coordinates\":null,\"data_source\":{\"id\":\"1165\"},\"glyph\":{\"id\":\"1168\"},\"group\":null,\"hover_glyph\":null,\"muted_glyph\":{\"id\":\"1170\"},\"nonselection_glyph\":{\"id\":\"1169\"},\"selection_glyph\":{\"id\":\"1185\"},\"view\":{\"id\":\"1172\"}},\"id\":\"1171\",\"type\":\"GlyphRenderer\"},{\"attributes\":{\"label\":{\"value\":\"4\"},\"renderers\":[{\"id\":\"1264\"}]},\"id\":\"1284\",\"type\":\"LegendItem\"},{\"attributes\":{\"source\":{\"id\":\"1232\"}},\"id\":\"1239\",\"type\":\"CDSView\"},{\"attributes\":{\"label\":{\"value\":\"1\"},\"renderers\":[{\"id\":\"1192\"}]},\"id\":\"1206\",\"type\":\"LegendItem\"},{\"attributes\":{},\"id\":\"1259\",\"type\":\"Selection\"},{\"attributes\":{},\"id\":\"1166\",\"type\":\"Selection\"},{\"attributes\":{\"fill_color\":{\"value\":\"#6d904f\"},\"hatch_color\":{\"value\":\"#6d904f\"},\"line_color\":{\"value\":\"#6d904f\"},\"size\":{\"value\":5.477225575051661},\"x\":{\"field\":\"principal_componet_1\"},\"y\":{\"field\":\"prinicpal_componet_2\"}},\"id\":\"1235\",\"type\":\"Scatter\"},{\"attributes\":{\"angle\":{\"value\":0.0},\"fill_alpha\":{\"value\":1.0},\"fill_color\":{\"value\":\"#30a2da\"},\"hatch_alpha\":{\"value\":1.0},\"hatch_color\":{\"value\":\"#30a2da\"},\"hatch_scale\":{\"value\":12.0},\"hatch_weight\":{\"value\":1.0},\"line_alpha\":{\"value\":1.0},\"line_cap\":{\"value\":\"butt\"},\"line_color\":{\"value\":\"#30a2da\"},\"line_dash\":{\"value\":[]},\"line_dash_offset\":{\"value\":0},\"line_join\":{\"value\":\"bevel\"},\"line_width\":{\"value\":1},\"marker\":{\"value\":\"circle\"},\"size\":{\"value\":5.477225575051661},\"x\":{\"field\":\"principal_componet_1\"},\"y\":{\"field\":\"prinicpal_componet_2\"}},\"id\":\"1185\",\"type\":\"Scatter\"},{\"attributes\":{\"source\":{\"id\":\"1165\"}},\"id\":\"1172\",\"type\":\"CDSView\"},{\"attributes\":{\"coordinates\":null,\"data_source\":{\"id\":\"1208\"},\"glyph\":{\"id\":\"1211\"},\"group\":null,\"hover_glyph\":null,\"muted_glyph\":{\"id\":\"1213\"},\"nonselection_glyph\":{\"id\":\"1212\"},\"selection_glyph\":{\"id\":\"1231\"},\"view\":{\"id\":\"1215\"}},\"id\":\"1214\",\"type\":\"GlyphRenderer\"},{\"attributes\":{\"margin\":[5,5,5,5],\"name\":\"HSpacer01900\",\"sizing_mode\":\"stretch_width\"},\"id\":\"1121\",\"type\":\"Spacer\"},{\"attributes\":{\"fill_color\":{\"value\":\"#30a2da\"},\"hatch_color\":{\"value\":\"#30a2da\"},\"line_color\":{\"value\":\"#30a2da\"},\"size\":{\"value\":5.477225575051661},\"x\":{\"field\":\"principal_componet_1\"},\"y\":{\"field\":\"prinicpal_componet_2\"}},\"id\":\"1168\",\"type\":\"Scatter\"}],\"root_ids\":[\"1120\"]},\"title\":\"Bokeh Application\",\"version\":\"2.4.1\"}};\n",
       "    var render_items = [{\"docid\":\"ea30add3-4406-44fa-8bbd-f716323b6420\",\"root_ids\":[\"1120\"],\"roots\":{\"1120\":\"31bb28d4-41bb-45a1-8232-7888a16ecfd6\"}}];\n",
       "    root.Bokeh.embed.embed_items_notebook(docs_json, render_items);\n",
       "  }\n",
       "  if (root.Bokeh !== undefined && root.Bokeh.Panel !== undefined) {\n",
       "    embed_document(root);\n",
       "  } else {\n",
       "    var attempts = 0;\n",
       "    var timer = setInterval(function(root) {\n",
       "      if (root.Bokeh !== undefined && root.Bokeh.Panel !== undefined) {\n",
       "        clearInterval(timer);\n",
       "        embed_document(root);\n",
       "      } else if (document.readyState == \"complete\") {\n",
       "        attempts++;\n",
       "        if (attempts > 200) {\n",
       "          clearInterval(timer);\n",
       "          console.log(\"Bokeh: ERROR: Unable to run BokehJS code because BokehJS library is missing\");\n",
       "        }\n",
       "      }\n",
       "    }, 25, root)\n",
       "  }\n",
       "})(window);</script>"
      ],
      "text/plain": [
       ":NdOverlay   [class]\n",
       "   :Scatter   [principal_componet_1]   (prinicpal_componet_2,class)"
      ]
     },
     "execution_count": 19,
     "metadata": {
      "application/vnd.holoviews_exec.v0+json": {
       "id": "1120"
      }
     },
     "output_type": "execute_result"
    }
   ],
   "source": [
    "# plot clusters\n",
    "rookies_pca_df.hvplot.scatter(\n",
    "    x='principal_componet_1', \n",
    "    y='prinicpal_componet_2',\n",
    "    hover_cols=['class'], by='class')"
   ]
  },
  {
   "cell_type": "code",
   "execution_count": null,
   "id": "00fdca52",
   "metadata": {},
   "outputs": [],
   "source": []
  }
 ],
 "metadata": {
  "kernelspec": {
   "display_name": "mlenv",
   "language": "python",
   "name": "mlenv"
  },
  "language_info": {
   "codemirror_mode": {
    "name": "ipython",
    "version": 3
   },
   "file_extension": ".py",
   "mimetype": "text/x-python",
   "name": "python",
   "nbconvert_exporter": "python",
   "pygments_lexer": "ipython3",
   "version": "3.7.11"
  }
 },
 "nbformat": 4,
 "nbformat_minor": 5
}
