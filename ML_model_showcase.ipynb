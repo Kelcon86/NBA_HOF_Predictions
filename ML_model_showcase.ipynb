{
 "cells": [
  {
   "cell_type": "markdown",
   "id": "0ced7b50",
   "metadata": {},
   "source": [
    "# Machine Learning Models Showcase"
   ]
  },
  {
   "cell_type": "markdown",
   "id": "8e6b918b",
   "metadata": {},
   "source": [
    "### Load data from database"
   ]
  },
  {
   "cell_type": "code",
   "execution_count": 1,
   "id": "21721210",
   "metadata": {},
   "outputs": [],
   "source": [
    "# imports\n",
    "import pandas as pd\n",
    "import sklearn as skl\n",
    "import psycopg2\n",
    "import config as c\n",
    "\n",
    "# import for multiple output per cell\n",
    "from IPython.core.interactiveshell import InteractiveShell\n",
    "InteractiveShell.ast_node_interactivity = \"all\""
   ]
  },
  {
   "cell_type": "code",
   "execution_count": 2,
   "id": "48228734",
   "metadata": {},
   "outputs": [],
   "source": [
    "# connection to database\n",
    "connection = psycopg2.connect(\n",
    "    host = c.host,\n",
    "    port = c.port,\n",
    "    user = c.user,\n",
    "    password = c.password,\n",
    "    database = c.database\n",
    "    )\n",
    "cursor=connection.cursor()"
   ]
  },
  {
   "cell_type": "code",
   "execution_count": 3,
   "id": "98e957af",
   "metadata": {},
   "outputs": [
    {
     "data": {
      "text/html": [
       "<div>\n",
       "<style scoped>\n",
       "    .dataframe tbody tr th:only-of-type {\n",
       "        vertical-align: middle;\n",
       "    }\n",
       "\n",
       "    .dataframe tbody tr th {\n",
       "        vertical-align: top;\n",
       "    }\n",
       "\n",
       "    .dataframe thead th {\n",
       "        text-align: right;\n",
       "    }\n",
       "</style>\n",
       "<table border=\"1\" class=\"dataframe\">\n",
       "  <thead>\n",
       "    <tr style=\"text-align: right;\">\n",
       "      <th></th>\n",
       "      <th>GUID</th>\n",
       "      <th>Name</th>\n",
       "      <th>HallOfFameStatus</th>\n",
       "      <th>HallofFameClass</th>\n",
       "      <th>YearDrafted</th>\n",
       "      <th>TO_YEAR</th>\n",
       "      <th>Years_Played</th>\n",
       "      <th>HOF_Elgibility_Year</th>\n",
       "      <th>Pick</th>\n",
       "      <th>Team</th>\n",
       "      <th>...</th>\n",
       "      <th>FTA</th>\n",
       "      <th>FT%</th>\n",
       "      <th>OREB</th>\n",
       "      <th>DREB</th>\n",
       "      <th>REB</th>\n",
       "      <th>AST</th>\n",
       "      <th>STL</th>\n",
       "      <th>BLK</th>\n",
       "      <th>TOV</th>\n",
       "      <th>EFF</th>\n",
       "    </tr>\n",
       "  </thead>\n",
       "  <tbody>\n",
       "    <tr>\n",
       "      <th>0</th>\n",
       "      <td>MIKENILES1980</td>\n",
       "      <td>Mike Niles</td>\n",
       "      <td>Not Inducted</td>\n",
       "      <td>NaN</td>\n",
       "      <td>1980</td>\n",
       "      <td>1980</td>\n",
       "      <td>1</td>\n",
       "      <td>1985</td>\n",
       "      <td>NaN</td>\n",
       "      <td>None</td>\n",
       "      <td>...</td>\n",
       "      <td>0.8</td>\n",
       "      <td>45.9</td>\n",
       "      <td>0.6</td>\n",
       "      <td>0.7</td>\n",
       "      <td>1.3</td>\n",
       "      <td>0.3</td>\n",
       "      <td>0.2</td>\n",
       "      <td>0.0</td>\n",
       "      <td>0.6</td>\n",
       "      <td>1.4</td>\n",
       "    </tr>\n",
       "    <tr>\n",
       "      <th>1</th>\n",
       "      <td>WAYNEROBINSON1980</td>\n",
       "      <td>Wayne Robinson</td>\n",
       "      <td>Not Inducted</td>\n",
       "      <td>NaN</td>\n",
       "      <td>1980</td>\n",
       "      <td>1980</td>\n",
       "      <td>1</td>\n",
       "      <td>1985</td>\n",
       "      <td>31.0</td>\n",
       "      <td>LAL</td>\n",
       "      <td>...</td>\n",
       "      <td>3.0</td>\n",
       "      <td>72.9</td>\n",
       "      <td>1.4</td>\n",
       "      <td>2.2</td>\n",
       "      <td>3.6</td>\n",
       "      <td>1.4</td>\n",
       "      <td>0.6</td>\n",
       "      <td>0.3</td>\n",
       "      <td>1.8</td>\n",
       "      <td>7.8</td>\n",
       "    </tr>\n",
       "    <tr>\n",
       "      <th>2</th>\n",
       "      <td>BILLYREID1980</td>\n",
       "      <td>Billy Reid</td>\n",
       "      <td>Not Inducted</td>\n",
       "      <td>NaN</td>\n",
       "      <td>1980</td>\n",
       "      <td>1980</td>\n",
       "      <td>1</td>\n",
       "      <td>1985</td>\n",
       "      <td>182.0</td>\n",
       "      <td>GSW</td>\n",
       "      <td>...</td>\n",
       "      <td>0.7</td>\n",
       "      <td>56.4</td>\n",
       "      <td>0.5</td>\n",
       "      <td>0.6</td>\n",
       "      <td>1.0</td>\n",
       "      <td>1.2</td>\n",
       "      <td>0.6</td>\n",
       "      <td>0.1</td>\n",
       "      <td>1.3</td>\n",
       "      <td>2.8</td>\n",
       "    </tr>\n",
       "    <tr>\n",
       "      <th>3</th>\n",
       "      <td>ALEXBRADLEY1981</td>\n",
       "      <td>Alex Bradley</td>\n",
       "      <td>Not Inducted</td>\n",
       "      <td>NaN</td>\n",
       "      <td>1981</td>\n",
       "      <td>1981</td>\n",
       "      <td>1</td>\n",
       "      <td>1986</td>\n",
       "      <td>86.0</td>\n",
       "      <td>NYK</td>\n",
       "      <td>...</td>\n",
       "      <td>1.2</td>\n",
       "      <td>60.4</td>\n",
       "      <td>0.8</td>\n",
       "      <td>0.9</td>\n",
       "      <td>1.7</td>\n",
       "      <td>0.3</td>\n",
       "      <td>0.3</td>\n",
       "      <td>0.1</td>\n",
       "      <td>0.7</td>\n",
       "      <td>3.4</td>\n",
       "    </tr>\n",
       "    <tr>\n",
       "      <th>4</th>\n",
       "      <td>GARRYWITTS1981</td>\n",
       "      <td>Garry Witts</td>\n",
       "      <td>Not Inducted</td>\n",
       "      <td>NaN</td>\n",
       "      <td>1981</td>\n",
       "      <td>1981</td>\n",
       "      <td>1</td>\n",
       "      <td>1986</td>\n",
       "      <td>103.0</td>\n",
       "      <td>WSB</td>\n",
       "      <td>...</td>\n",
       "      <td>0.9</td>\n",
       "      <td>82.5</td>\n",
       "      <td>0.6</td>\n",
       "      <td>0.7</td>\n",
       "      <td>1.3</td>\n",
       "      <td>0.8</td>\n",
       "      <td>0.4</td>\n",
       "      <td>0.1</td>\n",
       "      <td>0.8</td>\n",
       "      <td>3.8</td>\n",
       "    </tr>\n",
       "  </tbody>\n",
       "</table>\n",
       "<p>5 rows × 31 columns</p>\n",
       "</div>"
      ],
      "text/plain": [
       "                GUID            Name HallOfFameStatus  HallofFameClass  \\\n",
       "0      MIKENILES1980      Mike Niles     Not Inducted              NaN   \n",
       "1  WAYNEROBINSON1980  Wayne Robinson     Not Inducted              NaN   \n",
       "2      BILLYREID1980      Billy Reid     Not Inducted              NaN   \n",
       "3    ALEXBRADLEY1981    Alex Bradley     Not Inducted              NaN   \n",
       "4     GARRYWITTS1981     Garry Witts     Not Inducted              NaN   \n",
       "\n",
       "   YearDrafted  TO_YEAR  Years_Played  HOF_Elgibility_Year   Pick  Team  ...  \\\n",
       "0         1980     1980             1                 1985    NaN  None  ...   \n",
       "1         1980     1980             1                 1985   31.0   LAL  ...   \n",
       "2         1980     1980             1                 1985  182.0   GSW  ...   \n",
       "3         1981     1981             1                 1986   86.0   NYK  ...   \n",
       "4         1981     1981             1                 1986  103.0   WSB  ...   \n",
       "\n",
       "   FTA   FT%  OREB  DREB  REB  AST  STL  BLK  TOV  EFF  \n",
       "0  0.8  45.9   0.6   0.7  1.3  0.3  0.2  0.0  0.6  1.4  \n",
       "1  3.0  72.9   1.4   2.2  3.6  1.4  0.6  0.3  1.8  7.8  \n",
       "2  0.7  56.4   0.5   0.6  1.0  1.2  0.6  0.1  1.3  2.8  \n",
       "3  1.2  60.4   0.8   0.9  1.7  0.3  0.3  0.1  0.7  3.4  \n",
       "4  0.9  82.5   0.6   0.7  1.3  0.8  0.4  0.1  0.8  3.8  \n",
       "\n",
       "[5 rows x 31 columns]"
      ]
     },
     "execution_count": 3,
     "metadata": {},
     "output_type": "execute_result"
    }
   ],
   "source": [
    "data_sql = \"\"\"\n",
    "SELECT *\n",
    "FROM comprehensive_dataset;\n",
    "\"\"\"\n",
    "\n",
    "#  load in tables as dataframes\n",
    "data_df = pd.read_sql(data_sql, con=connection)\n",
    "data_df.head()"
   ]
  },
  {
   "cell_type": "code",
   "execution_count": 4,
   "id": "05c3c944",
   "metadata": {},
   "outputs": [
    {
     "data": {
      "text/plain": [
       "GUID                    object\n",
       "Name                    object\n",
       "HallOfFameStatus        object\n",
       "HallofFameClass        float64\n",
       "YearDrafted              int64\n",
       "TO_YEAR                  int64\n",
       "Years_Played             int64\n",
       "HOF_Elgibility_Year      int64\n",
       "Pick                   float64\n",
       "Team                    object\n",
       "College                 object\n",
       "GP                       int64\n",
       "MIN                    float64\n",
       "PTS                    float64\n",
       "FGM                    float64\n",
       "FGA                    float64\n",
       "FG%                    float64\n",
       "3P_Made                float64\n",
       "3PA                    float64\n",
       "3P%                    float64\n",
       "FTM                    float64\n",
       "FTA                    float64\n",
       "FT%                    float64\n",
       "OREB                   float64\n",
       "DREB                   float64\n",
       "REB                    float64\n",
       "AST                    float64\n",
       "STL                    float64\n",
       "BLK                    float64\n",
       "TOV                    float64\n",
       "EFF                    float64\n",
       "dtype: object"
      ]
     },
     "execution_count": 4,
     "metadata": {},
     "output_type": "execute_result"
    }
   ],
   "source": [
    "data_df.dtypes"
   ]
  },
  {
   "cell_type": "markdown",
   "id": "fe255791",
   "metadata": {},
   "source": [
    "## Preprocessing "
   ]
  },
  {
   "cell_type": "code",
   "execution_count": 5,
   "id": "3d213d51",
   "metadata": {},
   "outputs": [
    {
     "data": {
      "text/html": [
       "<div>\n",
       "<style scoped>\n",
       "    .dataframe tbody tr th:only-of-type {\n",
       "        vertical-align: middle;\n",
       "    }\n",
       "\n",
       "    .dataframe tbody tr th {\n",
       "        vertical-align: top;\n",
       "    }\n",
       "\n",
       "    .dataframe thead th {\n",
       "        text-align: right;\n",
       "    }\n",
       "</style>\n",
       "<table border=\"1\" class=\"dataframe\">\n",
       "  <thead>\n",
       "    <tr style=\"text-align: right;\">\n",
       "      <th></th>\n",
       "      <th>GUID</th>\n",
       "      <th>Name</th>\n",
       "      <th>HallofFameClass</th>\n",
       "      <th>YearDrafted</th>\n",
       "      <th>TO_YEAR</th>\n",
       "      <th>Years_Played</th>\n",
       "      <th>HOF_Elgibility_Year</th>\n",
       "      <th>Pick</th>\n",
       "      <th>Team</th>\n",
       "      <th>College</th>\n",
       "      <th>...</th>\n",
       "      <th>FT%</th>\n",
       "      <th>OREB</th>\n",
       "      <th>DREB</th>\n",
       "      <th>REB</th>\n",
       "      <th>AST</th>\n",
       "      <th>STL</th>\n",
       "      <th>BLK</th>\n",
       "      <th>TOV</th>\n",
       "      <th>EFF</th>\n",
       "      <th>HOF_Hall of Fame Member</th>\n",
       "    </tr>\n",
       "  </thead>\n",
       "  <tbody>\n",
       "    <tr>\n",
       "      <th>0</th>\n",
       "      <td>MIKENILES1980</td>\n",
       "      <td>Mike Niles</td>\n",
       "      <td>NaN</td>\n",
       "      <td>1980</td>\n",
       "      <td>1980</td>\n",
       "      <td>1</td>\n",
       "      <td>1985</td>\n",
       "      <td>NaN</td>\n",
       "      <td>None</td>\n",
       "      <td>None</td>\n",
       "      <td>...</td>\n",
       "      <td>45.9</td>\n",
       "      <td>0.6</td>\n",
       "      <td>0.7</td>\n",
       "      <td>1.3</td>\n",
       "      <td>0.3</td>\n",
       "      <td>0.2</td>\n",
       "      <td>0.0</td>\n",
       "      <td>0.6</td>\n",
       "      <td>1.4</td>\n",
       "      <td>0</td>\n",
       "    </tr>\n",
       "    <tr>\n",
       "      <th>1</th>\n",
       "      <td>WAYNEROBINSON1980</td>\n",
       "      <td>Wayne Robinson</td>\n",
       "      <td>NaN</td>\n",
       "      <td>1980</td>\n",
       "      <td>1980</td>\n",
       "      <td>1</td>\n",
       "      <td>1985</td>\n",
       "      <td>31.0</td>\n",
       "      <td>LAL</td>\n",
       "      <td>Virginia Polytechnic Institute and State Unive...</td>\n",
       "      <td>...</td>\n",
       "      <td>72.9</td>\n",
       "      <td>1.4</td>\n",
       "      <td>2.2</td>\n",
       "      <td>3.6</td>\n",
       "      <td>1.4</td>\n",
       "      <td>0.6</td>\n",
       "      <td>0.3</td>\n",
       "      <td>1.8</td>\n",
       "      <td>7.8</td>\n",
       "      <td>0</td>\n",
       "    </tr>\n",
       "    <tr>\n",
       "      <th>2</th>\n",
       "      <td>BILLYREID1980</td>\n",
       "      <td>Billy Reid</td>\n",
       "      <td>NaN</td>\n",
       "      <td>1980</td>\n",
       "      <td>1980</td>\n",
       "      <td>1</td>\n",
       "      <td>1985</td>\n",
       "      <td>182.0</td>\n",
       "      <td>GSW</td>\n",
       "      <td>University of San Francisco</td>\n",
       "      <td>...</td>\n",
       "      <td>56.4</td>\n",
       "      <td>0.5</td>\n",
       "      <td>0.6</td>\n",
       "      <td>1.0</td>\n",
       "      <td>1.2</td>\n",
       "      <td>0.6</td>\n",
       "      <td>0.1</td>\n",
       "      <td>1.3</td>\n",
       "      <td>2.8</td>\n",
       "      <td>0</td>\n",
       "    </tr>\n",
       "    <tr>\n",
       "      <th>3</th>\n",
       "      <td>ALEXBRADLEY1981</td>\n",
       "      <td>Alex Bradley</td>\n",
       "      <td>NaN</td>\n",
       "      <td>1981</td>\n",
       "      <td>1981</td>\n",
       "      <td>1</td>\n",
       "      <td>1986</td>\n",
       "      <td>86.0</td>\n",
       "      <td>NYK</td>\n",
       "      <td>Villanova University</td>\n",
       "      <td>...</td>\n",
       "      <td>60.4</td>\n",
       "      <td>0.8</td>\n",
       "      <td>0.9</td>\n",
       "      <td>1.7</td>\n",
       "      <td>0.3</td>\n",
       "      <td>0.3</td>\n",
       "      <td>0.1</td>\n",
       "      <td>0.7</td>\n",
       "      <td>3.4</td>\n",
       "      <td>0</td>\n",
       "    </tr>\n",
       "    <tr>\n",
       "      <th>4</th>\n",
       "      <td>GARRYWITTS1981</td>\n",
       "      <td>Garry Witts</td>\n",
       "      <td>NaN</td>\n",
       "      <td>1981</td>\n",
       "      <td>1981</td>\n",
       "      <td>1</td>\n",
       "      <td>1986</td>\n",
       "      <td>103.0</td>\n",
       "      <td>WSB</td>\n",
       "      <td>College of the Holy Cross</td>\n",
       "      <td>...</td>\n",
       "      <td>82.5</td>\n",
       "      <td>0.6</td>\n",
       "      <td>0.7</td>\n",
       "      <td>1.3</td>\n",
       "      <td>0.8</td>\n",
       "      <td>0.4</td>\n",
       "      <td>0.1</td>\n",
       "      <td>0.8</td>\n",
       "      <td>3.8</td>\n",
       "      <td>0</td>\n",
       "    </tr>\n",
       "  </tbody>\n",
       "</table>\n",
       "<p>5 rows × 31 columns</p>\n",
       "</div>"
      ],
      "text/plain": [
       "                GUID            Name  HallofFameClass  YearDrafted  TO_YEAR  \\\n",
       "0      MIKENILES1980      Mike Niles              NaN         1980     1980   \n",
       "1  WAYNEROBINSON1980  Wayne Robinson              NaN         1980     1980   \n",
       "2      BILLYREID1980      Billy Reid              NaN         1980     1980   \n",
       "3    ALEXBRADLEY1981    Alex Bradley              NaN         1981     1981   \n",
       "4     GARRYWITTS1981     Garry Witts              NaN         1981     1981   \n",
       "\n",
       "   Years_Played  HOF_Elgibility_Year   Pick  Team  \\\n",
       "0             1                 1985    NaN  None   \n",
       "1             1                 1985   31.0   LAL   \n",
       "2             1                 1985  182.0   GSW   \n",
       "3             1                 1986   86.0   NYK   \n",
       "4             1                 1986  103.0   WSB   \n",
       "\n",
       "                                             College  ...   FT%  OREB  DREB  \\\n",
       "0                                               None  ...  45.9   0.6   0.7   \n",
       "1  Virginia Polytechnic Institute and State Unive...  ...  72.9   1.4   2.2   \n",
       "2                        University of San Francisco  ...  56.4   0.5   0.6   \n",
       "3                               Villanova University  ...  60.4   0.8   0.9   \n",
       "4                          College of the Holy Cross  ...  82.5   0.6   0.7   \n",
       "\n",
       "   REB  AST  STL  BLK  TOV  EFF  HOF_Hall of Fame Member  \n",
       "0  1.3  0.3  0.2  0.0  0.6  1.4                        0  \n",
       "1  3.6  1.4  0.6  0.3  1.8  7.8                        0  \n",
       "2  1.0  1.2  0.6  0.1  1.3  2.8                        0  \n",
       "3  1.7  0.3  0.3  0.1  0.7  3.4                        0  \n",
       "4  1.3  0.8  0.4  0.1  0.8  3.8                        0  \n",
       "\n",
       "[5 rows x 31 columns]"
      ]
     },
     "execution_count": 5,
     "metadata": {},
     "output_type": "execute_result"
    }
   ],
   "source": [
    "# get_dummies to encode HallofFameClass column\n",
    "data_df = pd.get_dummies(data_df, prefix='HOF', columns=['HallOfFameStatus'])\n",
    "data_df.drop(['HOF_Not Inducted'], axis=1, inplace=True) # remove extra get_dummies column\n",
    "data_df.head()"
   ]
  },
  {
   "cell_type": "code",
   "execution_count": 6,
   "id": "955641c5",
   "metadata": {},
   "outputs": [
    {
     "name": "stdout",
     "output_type": "stream",
     "text": [
      "                  GUID            Name  HallofFameClass  YearDrafted  TO_YEAR  \\\n",
      "597  MICHAELJORDAN1984  Michael Jordan           2009.0         1984     2002   \n",
      "\n",
      "     Years_Played  HOF_Elgibility_Year  Pick Team  \\\n",
      "597            19                 2007   3.0  CHI   \n",
      "\n",
      "                          College  ...   FT%  OREB  DREB  REB  AST  STL  BLK  \\\n",
      "597  University of North Carolina  ...  84.5   2.0   4.5  6.5  5.9  2.4  0.8   \n",
      "\n",
      "     TOV   EFF  HOF_Hall of Fame Member  \n",
      "597  3.5  29.2                        1  \n",
      "\n",
      "[1 rows x 31 columns]\n"
     ]
    }
   ],
   "source": [
    "# confirm HOF members encoded for 0\n",
    "print(data_df.loc[data_df['GUID'] == 'MICHAELJORDAN1984'])\n",
    "# This confirms HOF members = 1, non members = 0"
   ]
  },
  {
   "cell_type": "code",
   "execution_count": 7,
   "id": "4b998006",
   "metadata": {},
   "outputs": [
    {
     "data": {
      "text/plain": [
       "GUID                        object\n",
       "Name                        object\n",
       "HallofFameClass            float64\n",
       "YearDrafted                  int64\n",
       "TO_YEAR                      int64\n",
       "Years_Played                 int64\n",
       "HOF_Elgibility_Year          int64\n",
       "Pick                       float64\n",
       "Team                        object\n",
       "College                     object\n",
       "GP                           int64\n",
       "MIN                        float64\n",
       "PTS                        float64\n",
       "FGM                        float64\n",
       "FGA                        float64\n",
       "FG%                        float64\n",
       "3P_Made                    float64\n",
       "3PA                        float64\n",
       "3P%                        float64\n",
       "FTM                        float64\n",
       "FTA                        float64\n",
       "FT%                        float64\n",
       "OREB                       float64\n",
       "DREB                       float64\n",
       "REB                        float64\n",
       "AST                        float64\n",
       "STL                        float64\n",
       "BLK                        float64\n",
       "TOV                        float64\n",
       "EFF                        float64\n",
       "HOF_Hall of Fame Member      uint8\n",
       "dtype: object"
      ]
     },
     "execution_count": 7,
     "metadata": {},
     "output_type": "execute_result"
    }
   ],
   "source": [
    "data_df.dtypes"
   ]
  },
  {
   "cell_type": "code",
   "execution_count": 8,
   "id": "885ce1a1",
   "metadata": {},
   "outputs": [
    {
     "data": {
      "text/html": [
       "<div>\n",
       "<style scoped>\n",
       "    .dataframe tbody tr th:only-of-type {\n",
       "        vertical-align: middle;\n",
       "    }\n",
       "\n",
       "    .dataframe tbody tr th {\n",
       "        vertical-align: top;\n",
       "    }\n",
       "\n",
       "    .dataframe thead th {\n",
       "        text-align: right;\n",
       "    }\n",
       "</style>\n",
       "<table border=\"1\" class=\"dataframe\">\n",
       "  <thead>\n",
       "    <tr style=\"text-align: right;\">\n",
       "      <th></th>\n",
       "      <th>Years_Played</th>\n",
       "      <th>Pick</th>\n",
       "      <th>GP</th>\n",
       "      <th>PTS</th>\n",
       "      <th>FGM</th>\n",
       "      <th>FGA</th>\n",
       "      <th>FG%</th>\n",
       "      <th>3P_Made</th>\n",
       "      <th>3PA</th>\n",
       "      <th>3P%</th>\n",
       "      <th>...</th>\n",
       "      <th>FT%</th>\n",
       "      <th>OREB</th>\n",
       "      <th>DREB</th>\n",
       "      <th>REB</th>\n",
       "      <th>AST</th>\n",
       "      <th>STL</th>\n",
       "      <th>BLK</th>\n",
       "      <th>TOV</th>\n",
       "      <th>EFF</th>\n",
       "      <th>HOF_Hall of Fame Member</th>\n",
       "    </tr>\n",
       "  </thead>\n",
       "  <tbody>\n",
       "    <tr>\n",
       "      <th>0</th>\n",
       "      <td>1</td>\n",
       "      <td>NaN</td>\n",
       "      <td>44</td>\n",
       "      <td>2.6</td>\n",
       "      <td>1.1</td>\n",
       "      <td>3.1</td>\n",
       "      <td>34.8</td>\n",
       "      <td>0.0</td>\n",
       "      <td>0.1</td>\n",
       "      <td>50.0</td>\n",
       "      <td>...</td>\n",
       "      <td>45.9</td>\n",
       "      <td>0.6</td>\n",
       "      <td>0.7</td>\n",
       "      <td>1.3</td>\n",
       "      <td>0.3</td>\n",
       "      <td>0.2</td>\n",
       "      <td>0.0</td>\n",
       "      <td>0.6</td>\n",
       "      <td>1.4</td>\n",
       "      <td>0</td>\n",
       "    </tr>\n",
       "    <tr>\n",
       "      <th>1</th>\n",
       "      <td>1</td>\n",
       "      <td>31.0</td>\n",
       "      <td>81</td>\n",
       "      <td>7.9</td>\n",
       "      <td>2.9</td>\n",
       "      <td>6.3</td>\n",
       "      <td>46.0</td>\n",
       "      <td>0.0</td>\n",
       "      <td>0.1</td>\n",
       "      <td>0.0</td>\n",
       "      <td>...</td>\n",
       "      <td>72.9</td>\n",
       "      <td>1.4</td>\n",
       "      <td>2.2</td>\n",
       "      <td>3.6</td>\n",
       "      <td>1.4</td>\n",
       "      <td>0.6</td>\n",
       "      <td>0.3</td>\n",
       "      <td>1.8</td>\n",
       "      <td>7.8</td>\n",
       "      <td>0</td>\n",
       "    </tr>\n",
       "    <tr>\n",
       "      <th>2</th>\n",
       "      <td>1</td>\n",
       "      <td>182.0</td>\n",
       "      <td>59</td>\n",
       "      <td>3.2</td>\n",
       "      <td>1.4</td>\n",
       "      <td>3.1</td>\n",
       "      <td>45.4</td>\n",
       "      <td>0.0</td>\n",
       "      <td>0.1</td>\n",
       "      <td>0.0</td>\n",
       "      <td>...</td>\n",
       "      <td>56.4</td>\n",
       "      <td>0.5</td>\n",
       "      <td>0.6</td>\n",
       "      <td>1.0</td>\n",
       "      <td>1.2</td>\n",
       "      <td>0.6</td>\n",
       "      <td>0.1</td>\n",
       "      <td>1.3</td>\n",
       "      <td>2.8</td>\n",
       "      <td>0</td>\n",
       "    </tr>\n",
       "    <tr>\n",
       "      <th>3</th>\n",
       "      <td>1</td>\n",
       "      <td>86.0</td>\n",
       "      <td>39</td>\n",
       "      <td>3.5</td>\n",
       "      <td>1.4</td>\n",
       "      <td>2.6</td>\n",
       "      <td>52.4</td>\n",
       "      <td>0.0</td>\n",
       "      <td>0.0</td>\n",
       "      <td>0.0</td>\n",
       "      <td>...</td>\n",
       "      <td>60.4</td>\n",
       "      <td>0.8</td>\n",
       "      <td>0.9</td>\n",
       "      <td>1.7</td>\n",
       "      <td>0.3</td>\n",
       "      <td>0.3</td>\n",
       "      <td>0.1</td>\n",
       "      <td>0.7</td>\n",
       "      <td>3.4</td>\n",
       "      <td>0</td>\n",
       "    </tr>\n",
       "    <tr>\n",
       "      <th>4</th>\n",
       "      <td>1</td>\n",
       "      <td>103.0</td>\n",
       "      <td>46</td>\n",
       "      <td>2.9</td>\n",
       "      <td>1.1</td>\n",
       "      <td>1.8</td>\n",
       "      <td>58.3</td>\n",
       "      <td>0.0</td>\n",
       "      <td>0.0</td>\n",
       "      <td>50.0</td>\n",
       "      <td>...</td>\n",
       "      <td>82.5</td>\n",
       "      <td>0.6</td>\n",
       "      <td>0.7</td>\n",
       "      <td>1.3</td>\n",
       "      <td>0.8</td>\n",
       "      <td>0.4</td>\n",
       "      <td>0.1</td>\n",
       "      <td>0.8</td>\n",
       "      <td>3.8</td>\n",
       "      <td>0</td>\n",
       "    </tr>\n",
       "  </tbody>\n",
       "</table>\n",
       "<p>5 rows × 22 columns</p>\n",
       "</div>"
      ],
      "text/plain": [
       "   Years_Played   Pick  GP  PTS  FGM  FGA   FG%  3P_Made  3PA   3P%  ...  \\\n",
       "0             1    NaN  44  2.6  1.1  3.1  34.8      0.0  0.1  50.0  ...   \n",
       "1             1   31.0  81  7.9  2.9  6.3  46.0      0.0  0.1   0.0  ...   \n",
       "2             1  182.0  59  3.2  1.4  3.1  45.4      0.0  0.1   0.0  ...   \n",
       "3             1   86.0  39  3.5  1.4  2.6  52.4      0.0  0.0   0.0  ...   \n",
       "4             1  103.0  46  2.9  1.1  1.8  58.3      0.0  0.0  50.0  ...   \n",
       "\n",
       "    FT%  OREB  DREB  REB  AST  STL  BLK  TOV  EFF  HOF_Hall of Fame Member  \n",
       "0  45.9   0.6   0.7  1.3  0.3  0.2  0.0  0.6  1.4                        0  \n",
       "1  72.9   1.4   2.2  3.6  1.4  0.6  0.3  1.8  7.8                        0  \n",
       "2  56.4   0.5   0.6  1.0  1.2  0.6  0.1  1.3  2.8                        0  \n",
       "3  60.4   0.8   0.9  1.7  0.3  0.3  0.1  0.7  3.4                        0  \n",
       "4  82.5   0.6   0.7  1.3  0.8  0.4  0.1  0.8  3.8                        0  \n",
       "\n",
       "[5 rows x 22 columns]"
      ]
     },
     "execution_count": 8,
     "metadata": {},
     "output_type": "execute_result"
    }
   ],
   "source": [
    "# drop columns that will likely error/confuse the ML models\n",
    "data_df.drop(['GUID', 'Name', 'Team', 'College', # dropping object columns \n",
    "              'HallofFameClass', 'YearDrafted', 'TO_YEAR', 'HOF_Elgibility_Year', 'MIN' # non player stats\n",
    "                ], axis=1, inplace=True)\n",
    "data_df.head()"
   ]
  },
  {
   "cell_type": "code",
   "execution_count": 9,
   "id": "09f1c8fe",
   "metadata": {},
   "outputs": [
    {
     "data": {
      "text/plain": [
       "True"
      ]
     },
     "execution_count": 9,
     "metadata": {},
     "output_type": "execute_result"
    }
   ],
   "source": [
    "# check for NaNs\n",
    "data_df.isnull().values.any()"
   ]
  },
  {
   "cell_type": "code",
   "execution_count": 10,
   "id": "af63e36c",
   "metadata": {},
   "outputs": [
    {
     "data": {
      "text/plain": [
       "Years_Played               1217\n",
       "Pick                        915\n",
       "GP                         1217\n",
       "PTS                        1217\n",
       "FGM                        1217\n",
       "FGA                        1217\n",
       "FG%                        1217\n",
       "3P_Made                    1217\n",
       "3PA                        1217\n",
       "3P%                        1217\n",
       "FTM                        1217\n",
       "FTA                        1217\n",
       "FT%                        1217\n",
       "OREB                       1217\n",
       "DREB                       1217\n",
       "REB                        1217\n",
       "AST                        1217\n",
       "STL                        1217\n",
       "BLK                        1217\n",
       "TOV                        1217\n",
       "EFF                        1217\n",
       "HOF_Hall of Fame Member    1217\n",
       "dtype: int64"
      ]
     },
     "execution_count": 10,
     "metadata": {},
     "output_type": "execute_result"
    }
   ],
   "source": [
    "# where are the NaNs?\n",
    "data_df.count()"
   ]
  },
  {
   "cell_type": "code",
   "execution_count": 11,
   "id": "c68799d5",
   "metadata": {},
   "outputs": [
    {
     "data": {
      "text/plain": [
       "Years_Played               1217\n",
       "Pick                       1217\n",
       "GP                         1217\n",
       "PTS                        1217\n",
       "FGM                        1217\n",
       "FGA                        1217\n",
       "FG%                        1217\n",
       "3P_Made                    1217\n",
       "3PA                        1217\n",
       "3P%                        1217\n",
       "FTM                        1217\n",
       "FTA                        1217\n",
       "FT%                        1217\n",
       "OREB                       1217\n",
       "DREB                       1217\n",
       "REB                        1217\n",
       "AST                        1217\n",
       "STL                        1217\n",
       "BLK                        1217\n",
       "TOV                        1217\n",
       "EFF                        1217\n",
       "HOF_Hall of Fame Member    1217\n",
       "dtype: int64"
      ]
     },
     "execution_count": 11,
     "metadata": {},
     "output_type": "execute_result"
    }
   ],
   "source": [
    "# fill NaNs with 0\n",
    "data_df['Pick'] = data_df['Pick'].fillna(0)\n",
    "data_df.count()"
   ]
  },
  {
   "cell_type": "code",
   "execution_count": 12,
   "id": "1e6cb4d7",
   "metadata": {},
   "outputs": [
    {
     "name": "stdout",
     "output_type": "stream",
     "text": [
      "(1217, 22)\n"
     ]
    }
   ],
   "source": [
    "print(data_df.shape)"
   ]
  },
  {
   "cell_type": "markdown",
   "id": "06132115",
   "metadata": {},
   "source": [
    "# Machine Learning Models"
   ]
  },
  {
   "cell_type": "markdown",
   "id": "7abc0649",
   "metadata": {},
   "source": [
    "### LogReg w/ Oversampling"
   ]
  },
  {
   "cell_type": "code",
   "execution_count": 13,
   "id": "362eb4bc",
   "metadata": {},
   "outputs": [],
   "source": [
    "# ML imports\n",
    "from collections import Counter\n",
    "from sklearn.model_selection import train_test_split\n",
    "from sklearn.preprocessing import StandardScaler\n",
    "from sklearn.linear_model import LogisticRegression\n",
    "from sklearn.metrics import confusion_matrix\n",
    "from sklearn.metrics import balanced_accuracy_score\n",
    "from imblearn.metrics import classification_report_imbalanced\n",
    "import tensorflow as tf"
   ]
  },
  {
   "cell_type": "code",
   "execution_count": 14,
   "id": "c6d486c5",
   "metadata": {},
   "outputs": [],
   "source": [
    "# create our features\n",
    "X = data_df.drop(['HOF_Hall of Fame Member'], axis=1)\n",
    "\n",
    "# create our target\n",
    "y = data_df['HOF_Hall of Fame Member']"
   ]
  },
  {
   "cell_type": "code",
   "execution_count": 15,
   "id": "584b8440",
   "metadata": {},
   "outputs": [
    {
     "data": {
      "text/plain": [
       "Counter({0: 879, 1: 33})"
      ]
     },
     "execution_count": 15,
     "metadata": {},
     "output_type": "execute_result"
    }
   ],
   "source": [
    "# normal train-test split\n",
    "X_train, X_test, y_train, y_test = train_test_split(X, y, random_state=1)\n",
    "Counter(y_train)"
   ]
  },
  {
   "cell_type": "markdown",
   "id": "f00ed1a6",
   "metadata": {},
   "source": [
    "### RandomOverSampler"
   ]
  },
  {
   "cell_type": "code",
   "execution_count": 16,
   "id": "f66c1ed8",
   "metadata": {},
   "outputs": [],
   "source": [
    "# import RandomOverSampler\n",
    "from imblearn.over_sampling import RandomOverSampler"
   ]
  },
  {
   "cell_type": "code",
   "execution_count": 17,
   "id": "eb4fbe20",
   "metadata": {},
   "outputs": [
    {
     "data": {
      "text/plain": [
       "Counter({0: 879, 1: 879})"
      ]
     },
     "execution_count": 17,
     "metadata": {},
     "output_type": "execute_result"
    }
   ],
   "source": [
    "# implement random oversampling\n",
    "X_resampled, y_resampled = RandomOverSampler(random_state=1).fit_resample(X_train, y_train)\n",
    "Counter(y_resampled)"
   ]
  },
  {
   "cell_type": "code",
   "execution_count": 18,
   "id": "c56a55cc",
   "metadata": {},
   "outputs": [
    {
     "data": {
      "text/plain": [
       "LogisticRegression(random_state=1, solver='liblinear')"
      ]
     },
     "execution_count": 18,
     "metadata": {},
     "output_type": "execute_result"
    }
   ],
   "source": [
    "# logistic regression using random oversampled data\n",
    "model = LogisticRegression(solver='liblinear', random_state=1)\n",
    "model.fit(X_resampled, y_resampled)"
   ]
  },
  {
   "cell_type": "code",
   "execution_count": 19,
   "id": "579e4b16",
   "metadata": {},
   "outputs": [
    {
     "data": {
      "text/plain": [
       "array([[254,  42],\n",
       "       [  0,   9]], dtype=int64)"
      ]
     },
     "execution_count": 19,
     "metadata": {},
     "output_type": "execute_result"
    }
   ],
   "source": [
    "# display the confusion matrix\n",
    "y_pred = model.predict(X_test)\n",
    "confusion_matrix(y_test, y_pred)"
   ]
  },
  {
   "cell_type": "code",
   "execution_count": 20,
   "id": "bd7be1dc",
   "metadata": {},
   "outputs": [
    {
     "data": {
      "text/plain": [
       "0.9290540540540541"
      ]
     },
     "execution_count": 20,
     "metadata": {},
     "output_type": "execute_result"
    }
   ],
   "source": [
    "# calculated the balanced accuracy score\n",
    "balanced_accuracy_score(y_test, y_pred)"
   ]
  },
  {
   "cell_type": "code",
   "execution_count": 21,
   "id": "6b2a85d0",
   "metadata": {},
   "outputs": [
    {
     "name": "stdout",
     "output_type": "stream",
     "text": [
      "                   pre       rec       spe        f1       geo       iba       sup\n",
      "\n",
      "          0       1.00      0.86      1.00      0.92      0.93      0.85       296\n",
      "          1       0.18      1.00      0.86      0.30      0.93      0.87         9\n",
      "\n",
      "avg / total       0.98      0.86      1.00      0.91      0.93      0.85       305\n",
      "\n"
     ]
    }
   ],
   "source": [
    "# print the imbalanced classification report\n",
    "print(classification_report_imbalanced(y_test, y_pred))"
   ]
  },
  {
   "cell_type": "markdown",
   "id": "1493c299",
   "metadata": {},
   "source": [
    "### SMOTE"
   ]
  },
  {
   "cell_type": "code",
   "execution_count": 22,
   "id": "c7e03589",
   "metadata": {},
   "outputs": [],
   "source": [
    "# import SMOTE\n",
    "from imblearn.over_sampling import SMOTE"
   ]
  },
  {
   "cell_type": "code",
   "execution_count": 23,
   "id": "90038eda",
   "metadata": {},
   "outputs": [
    {
     "data": {
      "text/plain": [
       "Counter({0: 879, 1: 879})"
      ]
     },
     "execution_count": 23,
     "metadata": {},
     "output_type": "execute_result"
    }
   ],
   "source": [
    "# implement SMOTE resampling\n",
    "X_resampled, y_resampled = SMOTE(random_state=1, sampling_strategy='auto').fit_resample(X_train, y_train)\n",
    "Counter(y_resampled)"
   ]
  },
  {
   "cell_type": "code",
   "execution_count": 24,
   "id": "49ea7476",
   "metadata": {},
   "outputs": [
    {
     "data": {
      "text/plain": [
       "LogisticRegression(random_state=1, solver='liblinear')"
      ]
     },
     "execution_count": 24,
     "metadata": {},
     "output_type": "execute_result"
    }
   ],
   "source": [
    "# logistic regression using SMOTE data\n",
    "model = LogisticRegression(solver='liblinear', random_state=1)\n",
    "model.fit(X_resampled, y_resampled)"
   ]
  },
  {
   "cell_type": "code",
   "execution_count": 25,
   "id": "3ccadc74",
   "metadata": {},
   "outputs": [
    {
     "data": {
      "text/plain": [
       "0.9341216216216216"
      ]
     },
     "execution_count": 25,
     "metadata": {},
     "output_type": "execute_result"
    }
   ],
   "source": [
    "# calculated the balanced accuracy score\n",
    "y_pred = model.predict(X_test)\n",
    "balanced_accuracy_score(y_test, y_pred)"
   ]
  },
  {
   "cell_type": "code",
   "execution_count": 26,
   "id": "a1db8a98",
   "metadata": {},
   "outputs": [
    {
     "data": {
      "text/plain": [
       "array([[257,  39],\n",
       "       [  0,   9]], dtype=int64)"
      ]
     },
     "execution_count": 26,
     "metadata": {},
     "output_type": "execute_result"
    }
   ],
   "source": [
    "# display the confusion matrix\n",
    "confusion_matrix(y_test, y_pred)"
   ]
  },
  {
   "cell_type": "code",
   "execution_count": 27,
   "id": "275756e6",
   "metadata": {},
   "outputs": [
    {
     "name": "stdout",
     "output_type": "stream",
     "text": [
      "                   pre       rec       spe        f1       geo       iba       sup\n",
      "\n",
      "          0       1.00      0.87      1.00      0.93      0.93      0.86       296\n",
      "          1       0.19      1.00      0.87      0.32      0.93      0.88         9\n",
      "\n",
      "avg / total       0.98      0.87      1.00      0.91      0.93      0.86       305\n",
      "\n"
     ]
    }
   ],
   "source": [
    "# print the imbalanced classification report\n",
    "print(classification_report_imbalanced(y_test, y_pred))"
   ]
  },
  {
   "cell_type": "markdown",
   "id": "71e54cee",
   "metadata": {},
   "source": [
    "### SVM SMOTE"
   ]
  },
  {
   "cell_type": "code",
   "execution_count": 28,
   "id": "de2c25dd",
   "metadata": {},
   "outputs": [],
   "source": [
    "# import SVMSMOTE\n",
    "from imblearn.over_sampling import SVMSMOTE"
   ]
  },
  {
   "cell_type": "code",
   "execution_count": 29,
   "id": "3cc3d5a9",
   "metadata": {},
   "outputs": [
    {
     "data": {
      "text/plain": [
       "Counter({0: 879, 1: 596})"
      ]
     },
     "execution_count": 29,
     "metadata": {},
     "output_type": "execute_result"
    }
   ],
   "source": [
    "## implement SVM SMOTE resampling\n",
    "X_resampled, y_resampled = SVMSMOTE(random_state=1, sampling_strategy='auto').fit_resample(X_train, y_train)\n",
    "Counter(y_resampled)"
   ]
  },
  {
   "cell_type": "code",
   "execution_count": 30,
   "id": "03bfc673",
   "metadata": {},
   "outputs": [
    {
     "data": {
      "text/plain": [
       "LogisticRegression(random_state=1, solver='liblinear')"
      ]
     },
     "execution_count": 30,
     "metadata": {},
     "output_type": "execute_result"
    }
   ],
   "source": [
    "# logistic regression using SVM SMOTE data\n",
    "model = LogisticRegression(solver='liblinear', random_state=1)\n",
    "model.fit(X_resampled, y_resampled)"
   ]
  },
  {
   "cell_type": "code",
   "execution_count": 31,
   "id": "5f3313a4",
   "metadata": {},
   "outputs": [
    {
     "data": {
      "text/plain": [
       "0.9594594594594594"
      ]
     },
     "execution_count": 31,
     "metadata": {},
     "output_type": "execute_result"
    }
   ],
   "source": [
    "# calculated the balanced accuracy score\n",
    "y_pred = model.predict(X_test)\n",
    "balanced_accuracy_score(y_test, y_pred)"
   ]
  },
  {
   "cell_type": "code",
   "execution_count": 32,
   "id": "c8911bf3",
   "metadata": {},
   "outputs": [
    {
     "data": {
      "text/plain": [
       "array([[272,  24],\n",
       "       [  0,   9]], dtype=int64)"
      ]
     },
     "execution_count": 32,
     "metadata": {},
     "output_type": "execute_result"
    }
   ],
   "source": [
    "# display the confusion matrix\n",
    "confusion_matrix(y_test, y_pred)"
   ]
  },
  {
   "cell_type": "code",
   "execution_count": 33,
   "id": "58cbd094",
   "metadata": {},
   "outputs": [
    {
     "name": "stdout",
     "output_type": "stream",
     "text": [
      "                   pre       rec       spe        f1       geo       iba       sup\n",
      "\n",
      "          0       1.00      0.92      1.00      0.96      0.96      0.91       296\n",
      "          1       0.27      1.00      0.92      0.43      0.96      0.93         9\n",
      "\n",
      "avg / total       0.98      0.92      1.00      0.94      0.96      0.91       305\n",
      "\n"
     ]
    }
   ],
   "source": [
    "# print the imbalanced classification report\n",
    "print(classification_report_imbalanced(y_test, y_pred))"
   ]
  },
  {
   "cell_type": "markdown",
   "id": "75895b85",
   "metadata": {},
   "source": [
    "## Decision Tree and Neural Net"
   ]
  },
  {
   "cell_type": "markdown",
   "id": "3ebc55d4",
   "metadata": {},
   "source": [
    "### Scale the data"
   ]
  },
  {
   "cell_type": "code",
   "execution_count": 34,
   "id": "b163c971",
   "metadata": {},
   "outputs": [],
   "source": [
    "# Create a StandardScaler instance\n",
    "scaler = StandardScaler()\n",
    "\n",
    "# Fit the StandardScaler\n",
    "X_scaler = scaler.fit(X_train)\n",
    "\n",
    "# Scale the data\n",
    "X_train_scaled = X_scaler.transform(X_train)\n",
    "X_test_scaled = X_scaler.transform(X_test)"
   ]
  },
  {
   "cell_type": "markdown",
   "id": "51e34b38",
   "metadata": {},
   "source": [
    "## Decision Tree Model"
   ]
  },
  {
   "cell_type": "code",
   "execution_count": 35,
   "id": "3bd4c2b4",
   "metadata": {},
   "outputs": [],
   "source": [
    "# DT imports\n",
    "from path import Path\n",
    "from sklearn import tree\n",
    "from sklearn.metrics import confusion_matrix, accuracy_score, classification_report"
   ]
  },
  {
   "cell_type": "code",
   "execution_count": 36,
   "id": "30de4c24",
   "metadata": {},
   "outputs": [],
   "source": [
    "# create the decision tree classifier instance.\n",
    "model = tree.DecisionTreeClassifier()\n",
    "\n",
    "# fit the model.\n",
    "model = model.fit(X_train_scaled, y_train)"
   ]
  },
  {
   "cell_type": "code",
   "execution_count": 37,
   "id": "b8c6e94d",
   "metadata": {},
   "outputs": [],
   "source": [
    "# DT predictions\n",
    "predictions = model.predict(X_test_scaled)"
   ]
  },
  {
   "cell_type": "code",
   "execution_count": 38,
   "id": "a34010bb",
   "metadata": {},
   "outputs": [
    {
     "data": {
      "text/html": [
       "<div>\n",
       "<style scoped>\n",
       "    .dataframe tbody tr th:only-of-type {\n",
       "        vertical-align: middle;\n",
       "    }\n",
       "\n",
       "    .dataframe tbody tr th {\n",
       "        vertical-align: top;\n",
       "    }\n",
       "\n",
       "    .dataframe thead th {\n",
       "        text-align: right;\n",
       "    }\n",
       "</style>\n",
       "<table border=\"1\" class=\"dataframe\">\n",
       "  <thead>\n",
       "    <tr style=\"text-align: right;\">\n",
       "      <th></th>\n",
       "      <th>Predicted Not HOF Member</th>\n",
       "      <th>Predicted HOF Member</th>\n",
       "    </tr>\n",
       "  </thead>\n",
       "  <tbody>\n",
       "    <tr>\n",
       "      <th>Not HOF Member</th>\n",
       "      <td>289</td>\n",
       "      <td>7</td>\n",
       "    </tr>\n",
       "    <tr>\n",
       "      <th>HOF Member</th>\n",
       "      <td>6</td>\n",
       "      <td>3</td>\n",
       "    </tr>\n",
       "  </tbody>\n",
       "</table>\n",
       "</div>"
      ],
      "text/plain": [
       "                Predicted Not HOF Member  Predicted HOF Member\n",
       "Not HOF Member                       289                     7\n",
       "HOF Member                             6                     3"
      ]
     },
     "execution_count": 38,
     "metadata": {},
     "output_type": "execute_result"
    }
   ],
   "source": [
    "# Calculating the confusion matrix\n",
    "cm = confusion_matrix(y_test, predictions)\n",
    "\n",
    "# Create a DataFrame from the confusion matrix.\n",
    "cm_df = pd.DataFrame(\n",
    "    cm, index=[\"Not HOF Member\", \"HOF Member\"], \n",
    "    columns=[\"Predicted Not HOF Member\", \"Predicted HOF Member\"])\n",
    "cm_df"
   ]
  },
  {
   "cell_type": "code",
   "execution_count": 39,
   "id": "150a7578",
   "metadata": {},
   "outputs": [],
   "source": [
    "# calcuate the accuracy score.\n",
    "acc_score = accuracy_score(y_test, predictions)"
   ]
  },
  {
   "cell_type": "code",
   "execution_count": 40,
   "id": "766bd248",
   "metadata": {},
   "outputs": [
    {
     "name": "stdout",
     "output_type": "stream",
     "text": [
      "Confusion Matrix\n"
     ]
    },
    {
     "data": {
      "text/html": [
       "<div>\n",
       "<style scoped>\n",
       "    .dataframe tbody tr th:only-of-type {\n",
       "        vertical-align: middle;\n",
       "    }\n",
       "\n",
       "    .dataframe tbody tr th {\n",
       "        vertical-align: top;\n",
       "    }\n",
       "\n",
       "    .dataframe thead th {\n",
       "        text-align: right;\n",
       "    }\n",
       "</style>\n",
       "<table border=\"1\" class=\"dataframe\">\n",
       "  <thead>\n",
       "    <tr style=\"text-align: right;\">\n",
       "      <th></th>\n",
       "      <th>Predicted Not HOF Member</th>\n",
       "      <th>Predicted HOF Member</th>\n",
       "    </tr>\n",
       "  </thead>\n",
       "  <tbody>\n",
       "    <tr>\n",
       "      <th>Not HOF Member</th>\n",
       "      <td>289</td>\n",
       "      <td>7</td>\n",
       "    </tr>\n",
       "    <tr>\n",
       "      <th>HOF Member</th>\n",
       "      <td>6</td>\n",
       "      <td>3</td>\n",
       "    </tr>\n",
       "  </tbody>\n",
       "</table>\n",
       "</div>"
      ],
      "text/plain": [
       "                Predicted Not HOF Member  Predicted HOF Member\n",
       "Not HOF Member                       289                     7\n",
       "HOF Member                             6                     3"
      ]
     },
     "metadata": {},
     "output_type": "display_data"
    },
    {
     "name": "stdout",
     "output_type": "stream",
     "text": [
      "Accuracy Score : 0.9573770491803278\n",
      "Classification Report\n",
      "              precision    recall  f1-score   support\n",
      "\n",
      "           0       0.98      0.98      0.98       296\n",
      "           1       0.30      0.33      0.32         9\n",
      "\n",
      "    accuracy                           0.96       305\n",
      "   macro avg       0.64      0.65      0.65       305\n",
      "weighted avg       0.96      0.96      0.96       305\n",
      "\n"
     ]
    }
   ],
   "source": [
    "# results\n",
    "print(\"Confusion Matrix\")\n",
    "display(cm_df)\n",
    "print(f\"Accuracy Score : {acc_score}\")\n",
    "print(\"Classification Report\")\n",
    "print(classification_report(y_test, predictions))"
   ]
  },
  {
   "cell_type": "markdown",
   "id": "a5129783",
   "metadata": {},
   "source": [
    "## Neural Net"
   ]
  },
  {
   "cell_type": "code",
   "execution_count": 41,
   "id": "82122b20",
   "metadata": {},
   "outputs": [],
   "source": [
    "# Create a StandardScaler instance\n",
    "scaler = StandardScaler()\n",
    "\n",
    "# Fit the StandardScaler\n",
    "X_scaler = scaler.fit(X_train)\n",
    "\n",
    "# Scale the data\n",
    "X_train_scaled = X_scaler.transform(X_train)\n",
    "X_test_scaled = X_scaler.transform(X_test)"
   ]
  },
  {
   "cell_type": "code",
   "execution_count": 42,
   "id": "f9c8bcb0",
   "metadata": {},
   "outputs": [
    {
     "name": "stdout",
     "output_type": "stream",
     "text": [
      "Epoch 1/100\n",
      "29/29 [==============================] - 0s 570us/step - loss: 1.1608 - accuracy: 0.1721\n",
      "Epoch 2/100\n",
      "29/29 [==============================] - 0s 641us/step - loss: 0.8514 - accuracy: 0.4145\n",
      "Epoch 3/100\n",
      "29/29 [==============================] - 0s 606us/step - loss: 0.6494 - accuracy: 0.6447\n",
      "Epoch 4/100\n",
      "29/29 [==============================] - 0s 605us/step - loss: 0.5194 - accuracy: 0.7774\n",
      "Epoch 5/100\n",
      "29/29 [==============================] - 0s 570us/step - loss: 0.4354 - accuracy: 0.8454\n",
      "Epoch 6/100\n",
      "29/29 [==============================] - 0s 606us/step - loss: 0.3792 - accuracy: 0.8936\n",
      "Epoch 7/100\n",
      "29/29 [==============================] - 0s 606us/step - loss: 0.3391 - accuracy: 0.9167\n",
      "Epoch 8/100\n",
      "29/29 [==============================] - 0s 606us/step - loss: 0.3101 - accuracy: 0.9287\n",
      "Epoch 9/100\n",
      "29/29 [==============================] - 0s 606us/step - loss: 0.2878 - accuracy: 0.9408\n",
      "Epoch 10/100\n",
      "29/29 [==============================] - 0s 641us/step - loss: 0.2702 - accuracy: 0.9485\n",
      "Epoch 11/100\n",
      "29/29 [==============================] - 0s 605us/step - loss: 0.2558 - accuracy: 0.9496\n",
      "Epoch 12/100\n",
      "29/29 [==============================] - 0s 570us/step - loss: 0.2436 - accuracy: 0.9561\n",
      "Epoch 13/100\n",
      "29/29 [==============================] - 0s 606us/step - loss: 0.2330 - accuracy: 0.9583\n",
      "Epoch 14/100\n",
      "29/29 [==============================] - 0s 606us/step - loss: 0.2238 - accuracy: 0.9583\n",
      "Epoch 15/100\n",
      "29/29 [==============================] - 0s 606us/step - loss: 0.2153 - accuracy: 0.9605\n",
      "Epoch 16/100\n",
      "29/29 [==============================] - 0s 641us/step - loss: 0.2078 - accuracy: 0.9605\n",
      "Epoch 17/100\n",
      "29/29 [==============================] - 0s 606us/step - loss: 0.2009 - accuracy: 0.9627\n",
      "Epoch 18/100\n",
      "29/29 [==============================] - 0s 606us/step - loss: 0.1943 - accuracy: 0.9616\n",
      "Epoch 19/100\n",
      "29/29 [==============================] - 0s 605us/step - loss: 0.1881 - accuracy: 0.9627\n",
      "Epoch 20/100\n",
      "29/29 [==============================] - 0s 605us/step - loss: 0.1825 - accuracy: 0.9627\n",
      "Epoch 21/100\n",
      "29/29 [==============================] - 0s 570us/step - loss: 0.1773 - accuracy: 0.9627\n",
      "Epoch 22/100\n",
      "29/29 [==============================] - 0s 606us/step - loss: 0.1723 - accuracy: 0.9638\n",
      "Epoch 23/100\n",
      "29/29 [==============================] - 0s 606us/step - loss: 0.1677 - accuracy: 0.9660\n",
      "Epoch 24/100\n",
      "29/29 [==============================] - 0s 641us/step - loss: 0.1632 - accuracy: 0.9660\n",
      "Epoch 25/100\n",
      "29/29 [==============================] - 0s 606us/step - loss: 0.1591 - accuracy: 0.9660\n",
      "Epoch 26/100\n",
      "29/29 [==============================] - 0s 606us/step - loss: 0.1551 - accuracy: 0.9660\n",
      "Epoch 27/100\n",
      "29/29 [==============================] - 0s 606us/step - loss: 0.1509 - accuracy: 0.9660\n",
      "Epoch 28/100\n",
      "29/29 [==============================] - 0s 606us/step - loss: 0.1474 - accuracy: 0.9660\n",
      "Epoch 29/100\n",
      "29/29 [==============================] - 0s 606us/step - loss: 0.1441 - accuracy: 0.9660\n",
      "Epoch 30/100\n",
      "29/29 [==============================] - 0s 641us/step - loss: 0.1414 - accuracy: 0.9649\n",
      "Epoch 31/100\n",
      "29/29 [==============================] - 0s 606us/step - loss: 0.1397 - accuracy: 0.9649\n",
      "Epoch 32/100\n",
      "29/29 [==============================] - 0s 606us/step - loss: 0.1366 - accuracy: 0.9660\n",
      "Epoch 33/100\n",
      "29/29 [==============================] - 0s 606us/step - loss: 0.1324 - accuracy: 0.9671\n",
      "Epoch 34/100\n",
      "29/29 [==============================] - 0s 677us/step - loss: 0.1299 - accuracy: 0.9671\n",
      "Epoch 35/100\n",
      "29/29 [==============================] - 0s 605us/step - loss: 0.1277 - accuracy: 0.9660\n",
      "Epoch 36/100\n",
      "29/29 [==============================] - 0s 606us/step - loss: 0.1258 - accuracy: 0.9682\n",
      "Epoch 37/100\n",
      "29/29 [==============================] - 0s 606us/step - loss: 0.1234 - accuracy: 0.9671\n",
      "Epoch 38/100\n",
      "29/29 [==============================] - 0s 606us/step - loss: 0.1213 - accuracy: 0.9660\n",
      "Epoch 39/100\n",
      "29/29 [==============================] - 0s 606us/step - loss: 0.1191 - accuracy: 0.9660\n",
      "Epoch 40/100\n",
      "29/29 [==============================] - 0s 606us/step - loss: 0.1176 - accuracy: 0.9660\n",
      "Epoch 41/100\n",
      "29/29 [==============================] - 0s 605us/step - loss: 0.1160 - accuracy: 0.9660\n",
      "Epoch 42/100\n",
      "29/29 [==============================] - 0s 641us/step - loss: 0.1151 - accuracy: 0.9660\n",
      "Epoch 43/100\n",
      "29/29 [==============================] - 0s 641us/step - loss: 0.1132 - accuracy: 0.9671\n",
      "Epoch 44/100\n",
      "29/29 [==============================] - 0s 641us/step - loss: 0.1119 - accuracy: 0.9671\n",
      "Epoch 45/100\n",
      "29/29 [==============================] - 0s 606us/step - loss: 0.1107 - accuracy: 0.9660\n",
      "Epoch 46/100\n",
      "29/29 [==============================] - 0s 677us/step - loss: 0.1095 - accuracy: 0.9682\n",
      "Epoch 47/100\n",
      "29/29 [==============================] - 0s 606us/step - loss: 0.1081 - accuracy: 0.9682\n",
      "Epoch 48/100\n",
      "29/29 [==============================] - 0s 605us/step - loss: 0.1070 - accuracy: 0.9660\n",
      "Epoch 49/100\n",
      "29/29 [==============================] - 0s 641us/step - loss: 0.1060 - accuracy: 0.9682\n",
      "Epoch 50/100\n",
      "29/29 [==============================] - 0s 606us/step - loss: 0.1045 - accuracy: 0.9671\n",
      "Epoch 51/100\n",
      "29/29 [==============================] - 0s 641us/step - loss: 0.1036 - accuracy: 0.9682\n",
      "Epoch 52/100\n",
      "29/29 [==============================] - 0s 641us/step - loss: 0.1025 - accuracy: 0.9682\n",
      "Epoch 53/100\n",
      "29/29 [==============================] - 0s 677us/step - loss: 0.1021 - accuracy: 0.9682\n",
      "Epoch 54/100\n",
      "29/29 [==============================] - 0s 641us/step - loss: 0.1013 - accuracy: 0.9693\n",
      "Epoch 55/100\n",
      "29/29 [==============================] - 0s 641us/step - loss: 0.1001 - accuracy: 0.9693\n",
      "Epoch 56/100\n",
      "29/29 [==============================] - 0s 606us/step - loss: 0.0999 - accuracy: 0.9682\n",
      "Epoch 57/100\n",
      "29/29 [==============================] - 0s 641us/step - loss: 0.0982 - accuracy: 0.9693\n",
      "Epoch 58/100\n",
      "29/29 [==============================] - 0s 641us/step - loss: 0.0979 - accuracy: 0.9682\n",
      "Epoch 59/100\n",
      "29/29 [==============================] - 0s 606us/step - loss: 0.0969 - accuracy: 0.9693\n",
      "Epoch 60/100\n",
      "29/29 [==============================] - 0s 641us/step - loss: 0.0960 - accuracy: 0.9693\n",
      "Epoch 61/100\n",
      "29/29 [==============================] - 0s 606us/step - loss: 0.0958 - accuracy: 0.9682\n",
      "Epoch 62/100\n",
      "29/29 [==============================] - 0s 641us/step - loss: 0.0946 - accuracy: 0.9693\n",
      "Epoch 63/100\n",
      "29/29 [==============================] - 0s 641us/step - loss: 0.0938 - accuracy: 0.9693\n",
      "Epoch 64/100\n",
      "29/29 [==============================] - 0s 606us/step - loss: 0.0933 - accuracy: 0.9693\n",
      "Epoch 65/100\n",
      "29/29 [==============================] - 0s 641us/step - loss: 0.0928 - accuracy: 0.9693\n",
      "Epoch 66/100\n",
      "29/29 [==============================] - 0s 606us/step - loss: 0.0920 - accuracy: 0.9693\n",
      "Epoch 67/100\n",
      "29/29 [==============================] - 0s 606us/step - loss: 0.0914 - accuracy: 0.9693\n",
      "Epoch 68/100\n",
      "29/29 [==============================] - 0s 606us/step - loss: 0.0913 - accuracy: 0.9693\n",
      "Epoch 69/100\n",
      "29/29 [==============================] - 0s 570us/step - loss: 0.0912 - accuracy: 0.9693\n",
      "Epoch 70/100\n",
      "29/29 [==============================] - 0s 570us/step - loss: 0.0899 - accuracy: 0.9693\n",
      "Epoch 71/100\n",
      "29/29 [==============================] - 0s 677us/step - loss: 0.0878 - accuracy: 0.9704\n",
      "Epoch 72/100\n",
      "29/29 [==============================] - 0s 605us/step - loss: 0.0878 - accuracy: 0.9704\n",
      "Epoch 73/100\n",
      "29/29 [==============================] - 0s 606us/step - loss: 0.0870 - accuracy: 0.9693\n",
      "Epoch 74/100\n",
      "29/29 [==============================] - 0s 606us/step - loss: 0.0872 - accuracy: 0.9693\n",
      "Epoch 75/100\n",
      "29/29 [==============================] - 0s 606us/step - loss: 0.0865 - accuracy: 0.9704\n",
      "Epoch 76/100\n",
      "29/29 [==============================] - 0s 606us/step - loss: 0.0855 - accuracy: 0.9704\n",
      "Epoch 77/100\n",
      "29/29 [==============================] - 0s 570us/step - loss: 0.0846 - accuracy: 0.9704\n",
      "Epoch 78/100\n",
      "29/29 [==============================] - 0s 606us/step - loss: 0.0845 - accuracy: 0.9704\n",
      "Epoch 79/100\n",
      "29/29 [==============================] - 0s 606us/step - loss: 0.0842 - accuracy: 0.9704\n",
      "Epoch 80/100\n",
      "29/29 [==============================] - 0s 570us/step - loss: 0.0829 - accuracy: 0.9704\n",
      "Epoch 81/100\n"
     ]
    },
    {
     "name": "stdout",
     "output_type": "stream",
     "text": [
      "29/29 [==============================] - 0s 606us/step - loss: 0.0825 - accuracy: 0.9704\n",
      "Epoch 82/100\n",
      "29/29 [==============================] - 0s 606us/step - loss: 0.0822 - accuracy: 0.9704\n",
      "Epoch 83/100\n",
      "29/29 [==============================] - 0s 641us/step - loss: 0.0817 - accuracy: 0.9704\n",
      "Epoch 84/100\n",
      "29/29 [==============================] - 0s 570us/step - loss: 0.0810 - accuracy: 0.9715\n",
      "Epoch 85/100\n",
      "29/29 [==============================] - 0s 606us/step - loss: 0.0811 - accuracy: 0.9715\n",
      "Epoch 86/100\n",
      "29/29 [==============================] - 0s 570us/step - loss: 0.0806 - accuracy: 0.9715\n",
      "Epoch 87/100\n",
      "29/29 [==============================] - 0s 606us/step - loss: 0.0801 - accuracy: 0.9715\n",
      "Epoch 88/100\n",
      "29/29 [==============================] - 0s 606us/step - loss: 0.0799 - accuracy: 0.9715\n",
      "Epoch 89/100\n",
      "29/29 [==============================] - 0s 606us/step - loss: 0.0795 - accuracy: 0.9715\n",
      "Epoch 90/100\n",
      "29/29 [==============================] - 0s 606us/step - loss: 0.0797 - accuracy: 0.9704\n",
      "Epoch 91/100\n",
      "29/29 [==============================] - 0s 606us/step - loss: 0.0786 - accuracy: 0.9715\n",
      "Epoch 92/100\n",
      "29/29 [==============================] - 0s 606us/step - loss: 0.0782 - accuracy: 0.9715\n",
      "Epoch 93/100\n",
      "29/29 [==============================] - 0s 606us/step - loss: 0.0779 - accuracy: 0.9715\n",
      "Epoch 94/100\n",
      "29/29 [==============================] - 0s 641us/step - loss: 0.0774 - accuracy: 0.9715\n",
      "Epoch 95/100\n",
      "29/29 [==============================] - 0s 641us/step - loss: 0.0770 - accuracy: 0.9726\n",
      "Epoch 96/100\n",
      "29/29 [==============================] - 0s 641us/step - loss: 0.0768 - accuracy: 0.9715\n",
      "Epoch 97/100\n",
      "29/29 [==============================] - 0s 677us/step - loss: 0.0765 - accuracy: 0.9715\n",
      "Epoch 98/100\n",
      "29/29 [==============================] - 0s 605us/step - loss: 0.0761 - accuracy: 0.9726\n",
      "Epoch 99/100\n",
      "29/29 [==============================] - 0s 606us/step - loss: 0.0771 - accuracy: 0.9726\n",
      "Epoch 100/100\n",
      "29/29 [==============================] - 0s 606us/step - loss: 0.0755 - accuracy: 0.9726\n",
      "10/10 - 0s - loss: 0.0667 - accuracy: 0.9705 - 161ms/epoch - 16ms/step\n",
      "Loss: 0.06672627478837967, Accuracy: 0.9704918265342712\n"
     ]
    }
   ],
   "source": [
    "# Neural Net model\n",
    "# Define the basic neural network model\n",
    "nn_model = tf.keras.models.Sequential()\n",
    "nn_model.add(tf.keras.layers.Dense(units=12, activation=\"relu\", input_dim=21))\n",
    "nn_model.add(tf.keras.layers.Dense(units=1, activation=\"sigmoid\"))\n",
    "\n",
    "# Compile the Sequential model together and customize metrics\n",
    "nn_model.compile(loss=\"binary_crossentropy\", optimizer=\"adam\", metrics=[\"accuracy\"])\n",
    "\n",
    "# Train the model\n",
    "fit_model = nn_model.fit(X_train_scaled, y_train, epochs=100)\n",
    "\n",
    "# Evaluate the model using the test data\n",
    "model_loss, model_accuracy = nn_model.evaluate(X_test_scaled,y_test,verbose=2)\n",
    "print(f\"Loss: {model_loss}, Accuracy: {model_accuracy}\")"
   ]
  },
  {
   "cell_type": "markdown",
   "id": "5670a60e",
   "metadata": {},
   "source": [
    "## Deep Learning"
   ]
  },
  {
   "cell_type": "code",
   "execution_count": 44,
   "id": "8e2dd4df",
   "metadata": {},
   "outputs": [
    {
     "name": "stdout",
     "output_type": "stream",
     "text": [
      "Epoch 1/100\n",
      "29/29 [==============================] - 0s 641us/step - loss: 0.4815 - accuracy: 0.8739\n",
      "Epoch 2/100\n",
      "29/29 [==============================] - 0s 641us/step - loss: 0.3195 - accuracy: 0.9605\n",
      "Epoch 3/100\n",
      "29/29 [==============================] - 0s 606us/step - loss: 0.2402 - accuracy: 0.9638\n",
      "Epoch 4/100\n",
      "29/29 [==============================] - 0s 641us/step - loss: 0.1997 - accuracy: 0.9638\n",
      "Epoch 5/100\n",
      "29/29 [==============================] - 0s 641us/step - loss: 0.1766 - accuracy: 0.9638\n",
      "Epoch 6/100\n",
      "29/29 [==============================] - 0s 606us/step - loss: 0.1610 - accuracy: 0.9638\n",
      "Epoch 7/100\n",
      "29/29 [==============================] - 0s 641us/step - loss: 0.1487 - accuracy: 0.9638\n",
      "Epoch 8/100\n",
      "29/29 [==============================] - 0s 641us/step - loss: 0.1393 - accuracy: 0.9638\n",
      "Epoch 9/100\n",
      "29/29 [==============================] - 0s 605us/step - loss: 0.1321 - accuracy: 0.9638\n",
      "Epoch 10/100\n",
      "29/29 [==============================] - 0s 606us/step - loss: 0.1261 - accuracy: 0.9638\n",
      "Epoch 11/100\n",
      "29/29 [==============================] - 0s 641us/step - loss: 0.1218 - accuracy: 0.9638\n",
      "Epoch 12/100\n",
      "29/29 [==============================] - 0s 641us/step - loss: 0.1177 - accuracy: 0.9649\n",
      "Epoch 13/100\n",
      "29/29 [==============================] - 0s 641us/step - loss: 0.1139 - accuracy: 0.9649\n",
      "Epoch 14/100\n",
      "29/29 [==============================] - 0s 641us/step - loss: 0.1115 - accuracy: 0.9649\n",
      "Epoch 15/100\n",
      "29/29 [==============================] - 0s 641us/step - loss: 0.1089 - accuracy: 0.9660\n",
      "Epoch 16/100\n",
      "29/29 [==============================] - 0s 641us/step - loss: 0.1069 - accuracy: 0.9660\n",
      "Epoch 17/100\n",
      "29/29 [==============================] - 0s 606us/step - loss: 0.1049 - accuracy: 0.9671\n",
      "Epoch 18/100\n",
      "29/29 [==============================] - 0s 641us/step - loss: 0.1034 - accuracy: 0.9682\n",
      "Epoch 19/100\n",
      "29/29 [==============================] - 0s 641us/step - loss: 0.1019 - accuracy: 0.9693\n",
      "Epoch 20/100\n",
      "29/29 [==============================] - 0s 641us/step - loss: 0.1001 - accuracy: 0.9682\n",
      "Epoch 21/100\n",
      "29/29 [==============================] - 0s 641us/step - loss: 0.0990 - accuracy: 0.9682\n",
      "Epoch 22/100\n",
      "29/29 [==============================] - 0s 641us/step - loss: 0.0979 - accuracy: 0.9682\n",
      "Epoch 23/100\n",
      "29/29 [==============================] - 0s 641us/step - loss: 0.0964 - accuracy: 0.9682\n",
      "Epoch 24/100\n",
      "29/29 [==============================] - 0s 677us/step - loss: 0.0954 - accuracy: 0.9693\n",
      "Epoch 25/100\n",
      "29/29 [==============================] - 0s 641us/step - loss: 0.0938 - accuracy: 0.9660\n",
      "Epoch 26/100\n",
      "29/29 [==============================] - 0s 641us/step - loss: 0.0930 - accuracy: 0.9671\n",
      "Epoch 27/100\n",
      "29/29 [==============================] - 0s 641us/step - loss: 0.0913 - accuracy: 0.9671\n",
      "Epoch 28/100\n",
      "29/29 [==============================] - 0s 641us/step - loss: 0.0904 - accuracy: 0.9682\n",
      "Epoch 29/100\n",
      "29/29 [==============================] - 0s 641us/step - loss: 0.0895 - accuracy: 0.9693\n",
      "Epoch 30/100\n",
      "29/29 [==============================] - 0s 641us/step - loss: 0.0889 - accuracy: 0.9704\n",
      "Epoch 31/100\n",
      "29/29 [==============================] - 0s 641us/step - loss: 0.0879 - accuracy: 0.9682\n",
      "Epoch 32/100\n",
      "29/29 [==============================] - 0s 641us/step - loss: 0.0862 - accuracy: 0.9715\n",
      "Epoch 33/100\n",
      "29/29 [==============================] - 0s 641us/step - loss: 0.0847 - accuracy: 0.9704\n",
      "Epoch 34/100\n",
      "29/29 [==============================] - 0s 641us/step - loss: 0.0835 - accuracy: 0.9704\n",
      "Epoch 35/100\n",
      "29/29 [==============================] - 0s 677us/step - loss: 0.0832 - accuracy: 0.9704\n",
      "Epoch 36/100\n",
      "29/29 [==============================] - 0s 677us/step - loss: 0.0829 - accuracy: 0.9715\n",
      "Epoch 37/100\n",
      "29/29 [==============================] - 0s 641us/step - loss: 0.0813 - accuracy: 0.9726\n",
      "Epoch 38/100\n",
      "29/29 [==============================] - 0s 641us/step - loss: 0.0806 - accuracy: 0.9715\n",
      "Epoch 39/100\n",
      "29/29 [==============================] - 0s 641us/step - loss: 0.0793 - accuracy: 0.9737\n",
      "Epoch 40/100\n",
      "29/29 [==============================] - 0s 641us/step - loss: 0.0784 - accuracy: 0.9726\n",
      "Epoch 41/100\n",
      "29/29 [==============================] - 0s 677us/step - loss: 0.0781 - accuracy: 0.9715\n",
      "Epoch 42/100\n",
      "29/29 [==============================] - 0s 641us/step - loss: 0.0780 - accuracy: 0.9748\n",
      "Epoch 43/100\n",
      "29/29 [==============================] - 0s 641us/step - loss: 0.0774 - accuracy: 0.9704\n",
      "Epoch 44/100\n",
      "29/29 [==============================] - 0s 677us/step - loss: 0.0766 - accuracy: 0.9759\n",
      "Epoch 45/100\n",
      "29/29 [==============================] - 0s 712us/step - loss: 0.0749 - accuracy: 0.9737\n",
      "Epoch 46/100\n",
      "29/29 [==============================] - 0s 677us/step - loss: 0.0740 - accuracy: 0.9759\n",
      "Epoch 47/100\n",
      "29/29 [==============================] - 0s 641us/step - loss: 0.0733 - accuracy: 0.9759\n",
      "Epoch 48/100\n",
      "29/29 [==============================] - 0s 677us/step - loss: 0.0725 - accuracy: 0.9759\n",
      "Epoch 49/100\n",
      "29/29 [==============================] - 0s 641us/step - loss: 0.0717 - accuracy: 0.9737\n",
      "Epoch 50/100\n",
      "29/29 [==============================] - 0s 641us/step - loss: 0.0712 - accuracy: 0.9726\n",
      "Epoch 51/100\n",
      "29/29 [==============================] - 0s 641us/step - loss: 0.0709 - accuracy: 0.9748\n",
      "Epoch 52/100\n",
      "29/29 [==============================] - 0s 677us/step - loss: 0.0707 - accuracy: 0.9748\n",
      "Epoch 53/100\n",
      "29/29 [==============================] - 0s 677us/step - loss: 0.0702 - accuracy: 0.9759\n",
      "Epoch 54/100\n",
      "29/29 [==============================] - 0s 641us/step - loss: 0.0697 - accuracy: 0.9770\n",
      "Epoch 55/100\n",
      "29/29 [==============================] - 0s 641us/step - loss: 0.0695 - accuracy: 0.9737\n",
      "Epoch 56/100\n",
      "29/29 [==============================] - 0s 677us/step - loss: 0.0679 - accuracy: 0.9770\n",
      "Epoch 57/100\n",
      "29/29 [==============================] - 0s 677us/step - loss: 0.0677 - accuracy: 0.9759\n",
      "Epoch 58/100\n",
      "29/29 [==============================] - 0s 641us/step - loss: 0.0670 - accuracy: 0.9759\n",
      "Epoch 59/100\n",
      "29/29 [==============================] - 0s 677us/step - loss: 0.0662 - accuracy: 0.9748\n",
      "Epoch 60/100\n",
      "29/29 [==============================] - 0s 677us/step - loss: 0.0658 - accuracy: 0.9770\n",
      "Epoch 61/100\n",
      "29/29 [==============================] - 0s 677us/step - loss: 0.0656 - accuracy: 0.9759\n",
      "Epoch 62/100\n",
      "29/29 [==============================] - 0s 641us/step - loss: 0.0643 - accuracy: 0.9781\n",
      "Epoch 63/100\n",
      "29/29 [==============================] - 0s 641us/step - loss: 0.0656 - accuracy: 0.9737\n",
      "Epoch 64/100\n",
      "29/29 [==============================] - 0s 712us/step - loss: 0.0634 - accuracy: 0.9792\n",
      "Epoch 65/100\n",
      "29/29 [==============================] - 0s 677us/step - loss: 0.0638 - accuracy: 0.9759\n",
      "Epoch 66/100\n",
      "29/29 [==============================] - 0s 641us/step - loss: 0.0629 - accuracy: 0.9781\n",
      "Epoch 67/100\n",
      "29/29 [==============================] - 0s 641us/step - loss: 0.0623 - accuracy: 0.9781\n",
      "Epoch 68/100\n",
      "29/29 [==============================] - 0s 606us/step - loss: 0.0628 - accuracy: 0.9781\n",
      "Epoch 69/100\n",
      "29/29 [==============================] - 0s 606us/step - loss: 0.0617 - accuracy: 0.9759\n",
      "Epoch 70/100\n",
      "29/29 [==============================] - 0s 606us/step - loss: 0.0609 - accuracy: 0.9781\n",
      "Epoch 71/100\n",
      "29/29 [==============================] - 0s 606us/step - loss: 0.0606 - accuracy: 0.9781\n",
      "Epoch 72/100\n",
      "29/29 [==============================] - 0s 641us/step - loss: 0.0598 - accuracy: 0.9781\n",
      "Epoch 73/100\n",
      "29/29 [==============================] - 0s 641us/step - loss: 0.0589 - accuracy: 0.9792\n",
      "Epoch 74/100\n",
      "29/29 [==============================] - 0s 641us/step - loss: 0.0590 - accuracy: 0.9781\n",
      "Epoch 75/100\n",
      "29/29 [==============================] - 0s 641us/step - loss: 0.0593 - accuracy: 0.9781\n",
      "Epoch 76/100\n",
      "29/29 [==============================] - 0s 641us/step - loss: 0.0584 - accuracy: 0.9781\n",
      "Epoch 77/100\n",
      "29/29 [==============================] - 0s 641us/step - loss: 0.0586 - accuracy: 0.9803\n",
      "Epoch 78/100\n",
      "29/29 [==============================] - 0s 641us/step - loss: 0.0584 - accuracy: 0.9770\n",
      "Epoch 79/100\n",
      "29/29 [==============================] - 0s 677us/step - loss: 0.0573 - accuracy: 0.9792\n",
      "Epoch 80/100\n",
      "29/29 [==============================] - 0s 641us/step - loss: 0.0565 - accuracy: 0.9781\n",
      "Epoch 81/100\n"
     ]
    },
    {
     "name": "stdout",
     "output_type": "stream",
     "text": [
      "29/29 [==============================] - 0s 641us/step - loss: 0.0567 - accuracy: 0.9792\n",
      "Epoch 82/100\n",
      "29/29 [==============================] - 0s 641us/step - loss: 0.0558 - accuracy: 0.9792\n",
      "Epoch 83/100\n",
      "29/29 [==============================] - 0s 606us/step - loss: 0.0558 - accuracy: 0.9792\n",
      "Epoch 84/100\n",
      "29/29 [==============================] - 0s 606us/step - loss: 0.0556 - accuracy: 0.9792\n",
      "Epoch 85/100\n",
      "29/29 [==============================] - 0s 606us/step - loss: 0.0571 - accuracy: 0.9748\n",
      "Epoch 86/100\n",
      "29/29 [==============================] - 0s 606us/step - loss: 0.0551 - accuracy: 0.9781\n",
      "Epoch 87/100\n",
      "29/29 [==============================] - 0s 606us/step - loss: 0.0547 - accuracy: 0.9803\n",
      "Epoch 88/100\n",
      "29/29 [==============================] - 0s 606us/step - loss: 0.0536 - accuracy: 0.9792\n",
      "Epoch 89/100\n",
      "29/29 [==============================] - 0s 606us/step - loss: 0.0536 - accuracy: 0.9803\n",
      "Epoch 90/100\n",
      "29/29 [==============================] - 0s 606us/step - loss: 0.0533 - accuracy: 0.9803\n",
      "Epoch 91/100\n",
      "29/29 [==============================] - 0s 641us/step - loss: 0.0549 - accuracy: 0.9792\n",
      "Epoch 92/100\n",
      "29/29 [==============================] - 0s 606us/step - loss: 0.0531 - accuracy: 0.9825\n",
      "Epoch 93/100\n",
      "29/29 [==============================] - 0s 606us/step - loss: 0.0525 - accuracy: 0.9792\n",
      "Epoch 94/100\n",
      "29/29 [==============================] - 0s 641us/step - loss: 0.0522 - accuracy: 0.9836\n",
      "Epoch 95/100\n",
      "29/29 [==============================] - 0s 606us/step - loss: 0.0519 - accuracy: 0.9825\n",
      "Epoch 96/100\n",
      "29/29 [==============================] - 0s 641us/step - loss: 0.0514 - accuracy: 0.9803\n",
      "Epoch 97/100\n",
      "29/29 [==============================] - 0s 606us/step - loss: 0.0509 - accuracy: 0.9792\n",
      "Epoch 98/100\n",
      "29/29 [==============================] - 0s 606us/step - loss: 0.0508 - accuracy: 0.9814\n",
      "Epoch 99/100\n",
      "29/29 [==============================] - 0s 641us/step - loss: 0.0508 - accuracy: 0.9814\n",
      "Epoch 100/100\n",
      "29/29 [==============================] - 0s 606us/step - loss: 0.0511 - accuracy: 0.9825\n",
      "10/10 - 0s - loss: 0.0553 - accuracy: 0.9836 - 76ms/epoch - 8ms/step\n",
      "Loss: 0.05530095472931862, Accuracy: 0.9836065769195557\n"
     ]
    }
   ],
   "source": [
    "# Define the model - deep neural net\n",
    "number_input_features = len(X_train_scaled[0])\n",
    "hidden_nodes_layer1 = 12\n",
    "hidden_nodes_layer2 = 8\n",
    "\n",
    "nn = tf.keras.models.Sequential()\n",
    "\n",
    "# First hidden layer\n",
    "nn.add(\n",
    "    tf.keras.layers.Dense(units=hidden_nodes_layer1, input_dim=number_input_features, activation=\"relu\")\n",
    ")\n",
    "\n",
    "# Second hidden layer\n",
    "nn.add(tf.keras.layers.Dense(units=hidden_nodes_layer2, activation=\"relu\"))\n",
    "\n",
    "\n",
    "# Output layer\n",
    "nn.add(tf.keras.layers.Dense(units=1, activation=\"sigmoid\"))\n",
    "\n",
    "# Compile the Sequential model together and customize metrics\n",
    "nn.compile(loss=\"binary_crossentropy\", optimizer=\"adam\", metrics=[\"accuracy\"])\n",
    "\n",
    "# Train the model\n",
    "fit_model = nn.fit(X_train_scaled, y_train, epochs=100)\n",
    "\n",
    "# Evaluate the model using the test data\n",
    "model_loss, model_accuracy = nn.evaluate(X_test_scaled,y_test,verbose=2)\n",
    "print(f\"Loss: {model_loss}, Accuracy: {model_accuracy}\")"
   ]
  },
  {
   "cell_type": "code",
   "execution_count": null,
   "id": "5f412e13",
   "metadata": {},
   "outputs": [],
   "source": []
  }
 ],
 "metadata": {
  "kernelspec": {
   "display_name": "mlenv",
   "language": "python",
   "name": "mlenv"
  },
  "language_info": {
   "codemirror_mode": {
    "name": "ipython",
    "version": 3
   },
   "file_extension": ".py",
   "mimetype": "text/x-python",
   "name": "python",
   "nbconvert_exporter": "python",
   "pygments_lexer": "ipython3",
   "version": "3.7.11"
  }
 },
 "nbformat": 4,
 "nbformat_minor": 5
}
