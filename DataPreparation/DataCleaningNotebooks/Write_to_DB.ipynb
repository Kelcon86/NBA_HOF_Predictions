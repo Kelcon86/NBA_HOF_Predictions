{
 "cells": [
  {
   "cell_type": "code",
   "execution_count": null,
   "id": "021e0c15",
   "metadata": {},
   "outputs": [],
   "source": [
    "# import the necessary packages\n",
    "import pandas\n",
    "import psycopg2\n",
    "from sqlalchemy import create_engine\n",
    "import config as c\n",
    "  \n",
    "# Create the engine to connect to the inbuilt \n",
    "engine = create_engine(f'{c.user}ql+psycopg2://{c.host}:{c.password}@{c.host}:{c.port}/{c.database}')\n",
    "\n",
    "# Read data from CSV which will be\n",
    "# loaded as a dataframe object\n",
    "data = pandas.read_csv(' ')\n",
    "  \n",
    "# print the sample of a dataframe\n",
    "data.head()"
   ]
  },
  {
   "cell_type": "code",
   "execution_count": null,
   "id": "e707c995",
   "metadata": {},
   "outputs": [],
   "source": [
    "# Write data into the table in sqllite database\n",
    "data.to_sql('test_db', engine)"
   ]
  },
  {
   "cell_type": "code",
   "execution_count": null,
   "id": "eed95533",
   "metadata": {},
   "outputs": [],
   "source": [
    "# writing to db from notebook\n",
    "# imports\n",
    "import psycopg2\n",
    "from sqlalchemy import create_engine\n",
    "import config as c\n",
    "\n",
    "# create engine to connect to db\n",
    "engine = create_engine(f'{c.user}ql+psycopg2://{c.host}:{c.password}@{c.host}:{c.port}/{c.database}')\n",
    "\n",
    "# load df into db\n",
    "df.to_sql('test_db', engine)"
   ]
  }
 ],
 "metadata": {
  "kernelspec": {
   "display_name": "mlenv",
   "language": "python",
   "name": "mlenv"
  },
  "language_info": {
   "codemirror_mode": {
    "name": "ipython",
    "version": 3
   },
   "file_extension": ".py",
   "mimetype": "text/x-python",
   "name": "python",
   "nbconvert_exporter": "python",
   "pygments_lexer": "ipython3",
   "version": "3.7.11"
  }
 },
 "nbformat": 4,
 "nbformat_minor": 5
}
