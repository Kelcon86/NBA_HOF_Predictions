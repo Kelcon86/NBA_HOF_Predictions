{
 "cells": [
  {
   "cell_type": "code",
   "execution_count": 2,
   "id": "2b98d752",
   "metadata": {},
   "outputs": [],
   "source": [
    "import psycopg2\n",
    "import pandas as pd\n",
    "import numpy as np\n",
    "from sqlalchemy import create_engine\n",
    "\n",
    "import config as c"
   ]
  },
  {
   "cell_type": "code",
   "execution_count": 5,
   "id": "0ad8a1e2",
   "metadata": {},
   "outputs": [],
   "source": [
    "# connection to database\n",
    "connection = psycopg2.connect(\n",
    "    host = c.host,\n",
    "    port = c.port,\n",
    "    user = c.user,\n",
    "    password = c.password,\n",
    "    database = c.database\n",
    "    )\n",
    "cursor=connection.cursor()"
   ]
  },
  {
   "cell_type": "code",
   "execution_count": 6,
   "id": "c2525f9f",
   "metadata": {},
   "outputs": [],
   "source": [
    "# SQL query\n",
    "data_sql = \"\"\"\n",
    "SELECT *\n",
    "FROM final_dataset;\n",
    "\"\"\"\n",
    "\n",
    "# load in tables as dataframes\n",
    "data_df = pd.read_sql(data_sql, con=connection)"
   ]
  },
  {
   "cell_type": "code",
   "execution_count": null,
   "id": "9eba407c",
   "metadata": {},
   "outputs": [],
   "source": [
    "# Define possible Confusion Matrix Conditions and Assign 'Friendly' Values\n",
    "\n",
    "conditions = [\n",
    "  (data_df['HallOfFameStatus'] == 'Not Inducted') & (data_df['ML_Prediction'] == 0),\n",
    "  (data_df['HallOfFameStatus'] == 'Hall of Fame Member') & (data_df['ML_Prediction'] == 0),\n",
    "  (data_df['HallOfFameStatus'] == 'Not Inducted') & (data_df['ML_Prediction'] == 1),\n",
    "  (data_df['HallOfFameStatus'] == 'Hall of Fame Member') & (data_df['ML_Prediction'] == 1)\n",
    "]\n",
    "\n",
    "outputs = ['True Negative', 'False Negative', 'False Positive', 'True Positive']\n",
    "\n",
    "data_df['ConfusionMatrix'] = pd.Series(np.select(conditions, outputs, 'Error'))\n",
    "\n",
    "data_df.head(50)"
   ]
  },
  {
   "cell_type": "code",
   "execution_count": null,
   "id": "c900ac3c",
   "metadata": {},
   "outputs": [],
   "source": [
    "import psycopg2\n",
    "\n",
    "# connection to database\n",
    "connection = psycopg2.connect(\n",
    "    host = c.host,\n",
    "    port = c.port,\n",
    "    user = c.user,\n",
    "    password = c.password,\n",
    "    database = c.database\n",
    "    )\n",
    "cursor=connection.cursor()\n",
    "\n",
    "rows = zip(data_df.GUID, data_df.ConfusionMatrix)\n",
    "cur.execute(\"\"\"CREATE TEMP TABLE \"bdb_Draft_test\" (\"GUID\" text, \"ConfusionMatrix\" text) ON COMMIT DROP\"\"\")\n",
    "cur.executemany(\"\"\"INSERT INTO \"bdb_Draft_test\" (\"GUID\", \"ConfusionMatrix\") VALUES(%s, %s)\"\"\", rows)\n",
    "\n",
    "cur.execute(\"\"\"\n",
    "    ALTER TABLE comprehensive_dataset\n",
    "    DROP COLUMN IF EXISTS \"ConfusionMatrix\";\n",
    "    \n",
    "    ALTER TABLE comprehensive_dataset\n",
    "    ADD COLUMN \"ConfusionMatrix\" text;\n",
    "   \n",
    "    UPDATE comprehensive_dataset\n",
    "    SET \"ConfusionMatrix\" = \"bdb_Draft_test\".\"ConfusionMatrix\"\n",
    "    FROM \"bdb_Draft_test\"\n",
    "    WHERE comprehensive_dataset.\"GUID\" = \"bdb_Draft_test\".\"GUID\";\n",
    "    \"\"\")\n",
    "\n",
    "cur.rowcount\n",
    "conn.commit()\n",
    "cur.close()\n",
    "conn.close()"
   ]
  },
  {
   "cell_type": "code",
   "execution_count": null,
   "id": "f2f232d1",
   "metadata": {},
   "outputs": [],
   "source": []
  }
 ],
 "metadata": {
  "kernelspec": {
   "display_name": "PythonData",
   "language": "python",
   "name": "pythondata"
  },
  "language_info": {
   "codemirror_mode": {
    "name": "ipython",
    "version": 3
   },
   "file_extension": ".py",
   "mimetype": "text/x-python",
   "name": "python",
   "nbconvert_exporter": "python",
   "pygments_lexer": "ipython3",
   "version": "3.7.11"
  }
 },
 "nbformat": 4,
 "nbformat_minor": 5
}
